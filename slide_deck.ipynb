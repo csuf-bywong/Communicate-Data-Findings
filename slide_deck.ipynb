{
 "cells": [
  {
   "cell_type": "markdown",
   "metadata": {
    "slideshow": {
     "slide_type": "slide"
    }
   },
   "source": [
    "# Bay Wheels' Trip Data Exploration and Visualization\n",
    "\n",
    "## Investigation Overview\n",
    "\n",
    "In this investigation, I wanted to look at the characteristics of bike trips that could be used to predict trip duration, trip time, and customer usage.\n",
    "\n",
    "## Dataset Overview\n",
    "\n",
    "This document explores a dataset containing [information](https://www.lyft.com/bikes/bay-wheels/system-data) about individual rides made in [Bay Wheels](https://en.wikipedia.org/wiki/Bay_Wheels)' bike-sharing system covering the greater San Francisco Bay area.  The dataset is data from January 2019 and can be manually downloaded [here](https://s3.amazonaws.com/baywheels-data/index.html)."
   ]
  },
  {
   "cell_type": "code",
   "execution_count": 1,
   "metadata": {
    "slideshow": {
     "slide_type": "skip"
    }
   },
   "outputs": [],
   "source": [
    "# import all packages and set plots to be embedded inline\n",
    "import matplotlib.pyplot as plt\n",
    "import numpy as np\n",
    "import pandas as pd\n",
    "import seaborn as sns\n",
    "\n",
    "%matplotlib inline\n",
    "sns.set_style('darkgrid')"
   ]
  },
  {
   "cell_type": "code",
   "execution_count": 2,
   "metadata": {
    "scrolled": true,
    "slideshow": {
     "slide_type": "skip"
    }
   },
   "outputs": [],
   "source": [
    "# load in the dataset into a pandas dataframe\n",
    "df = pd.read_csv('201901-fordgobike-tripdata.csv')"
   ]
  },
  {
   "cell_type": "code",
   "execution_count": 3,
   "metadata": {
    "scrolled": false,
    "slideshow": {
     "slide_type": "skip"
    }
   },
   "outputs": [
    {
     "name": "stdout",
     "output_type": "stream",
     "text": [
      "(192082, 14)\n",
      "duration_sec                 int64\n",
      "start_time                  object\n",
      "end_time                    object\n",
      "start_station_id           float64\n",
      "start_station_name          object\n",
      "start_station_latitude     float64\n",
      "start_station_longitude    float64\n",
      "end_station_id             float64\n",
      "end_station_name            object\n",
      "end_station_latitude       float64\n",
      "end_station_longitude      float64\n",
      "bike_id                      int64\n",
      "user_type                   object\n",
      "bike_share_for_all_trip     object\n",
      "dtype: object\n"
     ]
    },
    {
     "data": {
      "text/html": [
       "<div>\n",
       "<style scoped>\n",
       "    .dataframe tbody tr th:only-of-type {\n",
       "        vertical-align: middle;\n",
       "    }\n",
       "\n",
       "    .dataframe tbody tr th {\n",
       "        vertical-align: top;\n",
       "    }\n",
       "\n",
       "    .dataframe thead th {\n",
       "        text-align: right;\n",
       "    }\n",
       "</style>\n",
       "<table border=\"1\" class=\"dataframe\">\n",
       "  <thead>\n",
       "    <tr style=\"text-align: right;\">\n",
       "      <th></th>\n",
       "      <th>duration_sec</th>\n",
       "      <th>start_time</th>\n",
       "      <th>end_time</th>\n",
       "      <th>start_station_id</th>\n",
       "      <th>start_station_name</th>\n",
       "      <th>start_station_latitude</th>\n",
       "      <th>start_station_longitude</th>\n",
       "      <th>end_station_id</th>\n",
       "      <th>end_station_name</th>\n",
       "      <th>end_station_latitude</th>\n",
       "      <th>end_station_longitude</th>\n",
       "      <th>bike_id</th>\n",
       "      <th>user_type</th>\n",
       "      <th>bike_share_for_all_trip</th>\n",
       "    </tr>\n",
       "  </thead>\n",
       "  <tbody>\n",
       "    <tr>\n",
       "      <td>951</td>\n",
       "      <td>279</td>\n",
       "      <td>2019-01-31 20:08:17.5980</td>\n",
       "      <td>2019-01-31 20:12:57.5090</td>\n",
       "      <td>74.0</td>\n",
       "      <td>Laguna St at Hayes St</td>\n",
       "      <td>37.776435</td>\n",
       "      <td>-122.426244</td>\n",
       "      <td>285.0</td>\n",
       "      <td>Webster St at O'Farrell St</td>\n",
       "      <td>37.783521</td>\n",
       "      <td>-122.431158</td>\n",
       "      <td>5253</td>\n",
       "      <td>Subscriber</td>\n",
       "      <td>No</td>\n",
       "    </tr>\n",
       "    <tr>\n",
       "      <td>131505</td>\n",
       "      <td>911</td>\n",
       "      <td>2019-01-12 14:14:36.8610</td>\n",
       "      <td>2019-01-12 14:29:48.6060</td>\n",
       "      <td>197.0</td>\n",
       "      <td>El Embarcadero at Grand Ave</td>\n",
       "      <td>37.808848</td>\n",
       "      <td>-122.249680</td>\n",
       "      <td>177.0</td>\n",
       "      <td>MacArthur Blvd at Telegraph Ave</td>\n",
       "      <td>37.826286</td>\n",
       "      <td>-122.265100</td>\n",
       "      <td>5437</td>\n",
       "      <td>Subscriber</td>\n",
       "      <td>No</td>\n",
       "    </tr>\n",
       "    <tr>\n",
       "      <td>166460</td>\n",
       "      <td>208</td>\n",
       "      <td>2019-01-07 09:25:52.8030</td>\n",
       "      <td>2019-01-07 09:29:21.3780</td>\n",
       "      <td>58.0</td>\n",
       "      <td>Market St at 10th St</td>\n",
       "      <td>37.776619</td>\n",
       "      <td>-122.417385</td>\n",
       "      <td>78.0</td>\n",
       "      <td>Folsom St at 9th St</td>\n",
       "      <td>37.773717</td>\n",
       "      <td>-122.411647</td>\n",
       "      <td>5052</td>\n",
       "      <td>Subscriber</td>\n",
       "      <td>No</td>\n",
       "    </tr>\n",
       "    <tr>\n",
       "      <td>75730</td>\n",
       "      <td>928</td>\n",
       "      <td>2019-01-22 21:13:27.4790</td>\n",
       "      <td>2019-01-22 21:28:55.9760</td>\n",
       "      <td>284.0</td>\n",
       "      <td>Yerba Buena Center for the Arts (Howard St at ...</td>\n",
       "      <td>37.784872</td>\n",
       "      <td>-122.400876</td>\n",
       "      <td>120.0</td>\n",
       "      <td>Mission Dolores Park</td>\n",
       "      <td>37.761420</td>\n",
       "      <td>-122.426435</td>\n",
       "      <td>5039</td>\n",
       "      <td>Subscriber</td>\n",
       "      <td>Yes</td>\n",
       "    </tr>\n",
       "    <tr>\n",
       "      <td>118386</td>\n",
       "      <td>400</td>\n",
       "      <td>2019-01-14 22:27:04.9070</td>\n",
       "      <td>2019-01-14 22:33:45.6800</td>\n",
       "      <td>120.0</td>\n",
       "      <td>Mission Dolores Park</td>\n",
       "      <td>37.761420</td>\n",
       "      <td>-122.426435</td>\n",
       "      <td>73.0</td>\n",
       "      <td>Pierce St at Haight St</td>\n",
       "      <td>37.771793</td>\n",
       "      <td>-122.433708</td>\n",
       "      <td>5412</td>\n",
       "      <td>Subscriber</td>\n",
       "      <td>No</td>\n",
       "    </tr>\n",
       "    <tr>\n",
       "      <td>142796</td>\n",
       "      <td>123</td>\n",
       "      <td>2019-01-10 16:18:29.8820</td>\n",
       "      <td>2019-01-10 16:20:33.1970</td>\n",
       "      <td>8.0</td>\n",
       "      <td>The Embarcadero at Vallejo St</td>\n",
       "      <td>37.799953</td>\n",
       "      <td>-122.398525</td>\n",
       "      <td>15.0</td>\n",
       "      <td>San Francisco Ferry Building (Harry Bridges Pl...</td>\n",
       "      <td>37.795392</td>\n",
       "      <td>-122.394203</td>\n",
       "      <td>5505</td>\n",
       "      <td>Subscriber</td>\n",
       "      <td>No</td>\n",
       "    </tr>\n",
       "    <tr>\n",
       "      <td>132998</td>\n",
       "      <td>656</td>\n",
       "      <td>2019-01-12 10:05:39.9280</td>\n",
       "      <td>2019-01-12 10:16:36.2510</td>\n",
       "      <td>76.0</td>\n",
       "      <td>McCoppin St at Valencia St</td>\n",
       "      <td>37.771662</td>\n",
       "      <td>-122.422423</td>\n",
       "      <td>3.0</td>\n",
       "      <td>Powell St BART Station (Market St at 4th St)</td>\n",
       "      <td>37.786375</td>\n",
       "      <td>-122.404904</td>\n",
       "      <td>281</td>\n",
       "      <td>Subscriber</td>\n",
       "      <td>No</td>\n",
       "    </tr>\n",
       "    <tr>\n",
       "      <td>35680</td>\n",
       "      <td>444</td>\n",
       "      <td>2019-01-28 08:49:38.8850</td>\n",
       "      <td>2019-01-28 08:57:03.4340</td>\n",
       "      <td>81.0</td>\n",
       "      <td>Berry St at 4th St</td>\n",
       "      <td>37.775880</td>\n",
       "      <td>-122.393170</td>\n",
       "      <td>104.0</td>\n",
       "      <td>4th St at 16th St</td>\n",
       "      <td>37.767045</td>\n",
       "      <td>-122.390833</td>\n",
       "      <td>5036</td>\n",
       "      <td>Subscriber</td>\n",
       "      <td>No</td>\n",
       "    </tr>\n",
       "    <tr>\n",
       "      <td>93899</td>\n",
       "      <td>1102</td>\n",
       "      <td>2019-01-19 15:58:01.5250</td>\n",
       "      <td>2019-01-19 16:16:23.9910</td>\n",
       "      <td>200.0</td>\n",
       "      <td>2nd Ave at E 18th St</td>\n",
       "      <td>37.800214</td>\n",
       "      <td>-122.253810</td>\n",
       "      <td>192.0</td>\n",
       "      <td>37th St at West St</td>\n",
       "      <td>37.826696</td>\n",
       "      <td>-122.271797</td>\n",
       "      <td>5435</td>\n",
       "      <td>Subscriber</td>\n",
       "      <td>No</td>\n",
       "    </tr>\n",
       "    <tr>\n",
       "      <td>178859</td>\n",
       "      <td>280</td>\n",
       "      <td>2019-01-03 18:04:12.5580</td>\n",
       "      <td>2019-01-03 18:08:53.0060</td>\n",
       "      <td>36.0</td>\n",
       "      <td>Folsom St at 3rd St</td>\n",
       "      <td>37.783830</td>\n",
       "      <td>-122.398870</td>\n",
       "      <td>27.0</td>\n",
       "      <td>Beale St at Harrison St</td>\n",
       "      <td>37.788059</td>\n",
       "      <td>-122.391865</td>\n",
       "      <td>4929</td>\n",
       "      <td>Subscriber</td>\n",
       "      <td>No</td>\n",
       "    </tr>\n",
       "  </tbody>\n",
       "</table>\n",
       "</div>"
      ],
      "text/plain": [
       "        duration_sec                start_time                  end_time  \\\n",
       "951              279  2019-01-31 20:08:17.5980  2019-01-31 20:12:57.5090   \n",
       "131505           911  2019-01-12 14:14:36.8610  2019-01-12 14:29:48.6060   \n",
       "166460           208  2019-01-07 09:25:52.8030  2019-01-07 09:29:21.3780   \n",
       "75730            928  2019-01-22 21:13:27.4790  2019-01-22 21:28:55.9760   \n",
       "118386           400  2019-01-14 22:27:04.9070  2019-01-14 22:33:45.6800   \n",
       "142796           123  2019-01-10 16:18:29.8820  2019-01-10 16:20:33.1970   \n",
       "132998           656  2019-01-12 10:05:39.9280  2019-01-12 10:16:36.2510   \n",
       "35680            444  2019-01-28 08:49:38.8850  2019-01-28 08:57:03.4340   \n",
       "93899           1102  2019-01-19 15:58:01.5250  2019-01-19 16:16:23.9910   \n",
       "178859           280  2019-01-03 18:04:12.5580  2019-01-03 18:08:53.0060   \n",
       "\n",
       "        start_station_id                                 start_station_name  \\\n",
       "951                 74.0                              Laguna St at Hayes St   \n",
       "131505             197.0                        El Embarcadero at Grand Ave   \n",
       "166460              58.0                               Market St at 10th St   \n",
       "75730              284.0  Yerba Buena Center for the Arts (Howard St at ...   \n",
       "118386             120.0                               Mission Dolores Park   \n",
       "142796               8.0                      The Embarcadero at Vallejo St   \n",
       "132998              76.0                         McCoppin St at Valencia St   \n",
       "35680               81.0                                 Berry St at 4th St   \n",
       "93899              200.0                               2nd Ave at E 18th St   \n",
       "178859              36.0                                Folsom St at 3rd St   \n",
       "\n",
       "        start_station_latitude  start_station_longitude  end_station_id  \\\n",
       "951                  37.776435              -122.426244           285.0   \n",
       "131505               37.808848              -122.249680           177.0   \n",
       "166460               37.776619              -122.417385            78.0   \n",
       "75730                37.784872              -122.400876           120.0   \n",
       "118386               37.761420              -122.426435            73.0   \n",
       "142796               37.799953              -122.398525            15.0   \n",
       "132998               37.771662              -122.422423             3.0   \n",
       "35680                37.775880              -122.393170           104.0   \n",
       "93899                37.800214              -122.253810           192.0   \n",
       "178859               37.783830              -122.398870            27.0   \n",
       "\n",
       "                                         end_station_name  \\\n",
       "951                            Webster St at O'Farrell St   \n",
       "131505                    MacArthur Blvd at Telegraph Ave   \n",
       "166460                                Folsom St at 9th St   \n",
       "75730                                Mission Dolores Park   \n",
       "118386                             Pierce St at Haight St   \n",
       "142796  San Francisco Ferry Building (Harry Bridges Pl...   \n",
       "132998       Powell St BART Station (Market St at 4th St)   \n",
       "35680                                   4th St at 16th St   \n",
       "93899                                  37th St at West St   \n",
       "178859                            Beale St at Harrison St   \n",
       "\n",
       "        end_station_latitude  end_station_longitude  bike_id   user_type  \\\n",
       "951                37.783521            -122.431158     5253  Subscriber   \n",
       "131505             37.826286            -122.265100     5437  Subscriber   \n",
       "166460             37.773717            -122.411647     5052  Subscriber   \n",
       "75730              37.761420            -122.426435     5039  Subscriber   \n",
       "118386             37.771793            -122.433708     5412  Subscriber   \n",
       "142796             37.795392            -122.394203     5505  Subscriber   \n",
       "132998             37.786375            -122.404904      281  Subscriber   \n",
       "35680              37.767045            -122.390833     5036  Subscriber   \n",
       "93899              37.826696            -122.271797     5435  Subscriber   \n",
       "178859             37.788059            -122.391865     4929  Subscriber   \n",
       "\n",
       "       bike_share_for_all_trip  \n",
       "951                         No  \n",
       "131505                      No  \n",
       "166460                      No  \n",
       "75730                      Yes  \n",
       "118386                      No  \n",
       "142796                      No  \n",
       "132998                      No  \n",
       "35680                       No  \n",
       "93899                       No  \n",
       "178859                      No  "
      ]
     },
     "execution_count": 3,
     "metadata": {},
     "output_type": "execute_result"
    }
   ],
   "source": [
    "# high level overview of data shape and composition\n",
    "print(df.shape)\n",
    "print(df.dtypes)\n",
    "# i prefer looking at it through this instead of print(df.sample(10))\n",
    "df.sample(10)"
   ]
  },
  {
   "cell_type": "code",
   "execution_count": 4,
   "metadata": {
    "scrolled": false,
    "slideshow": {
     "slide_type": "skip"
    }
   },
   "outputs": [
    {
     "data": {
      "text/html": [
       "<div>\n",
       "<style scoped>\n",
       "    .dataframe tbody tr th:only-of-type {\n",
       "        vertical-align: middle;\n",
       "    }\n",
       "\n",
       "    .dataframe tbody tr th {\n",
       "        vertical-align: top;\n",
       "    }\n",
       "\n",
       "    .dataframe thead th {\n",
       "        text-align: right;\n",
       "    }\n",
       "</style>\n",
       "<table border=\"1\" class=\"dataframe\">\n",
       "  <thead>\n",
       "    <tr style=\"text-align: right;\">\n",
       "      <th></th>\n",
       "      <th>duration_sec</th>\n",
       "      <th>start_station_id</th>\n",
       "      <th>start_station_latitude</th>\n",
       "      <th>start_station_longitude</th>\n",
       "      <th>end_station_id</th>\n",
       "      <th>end_station_latitude</th>\n",
       "      <th>end_station_longitude</th>\n",
       "      <th>bike_id</th>\n",
       "    </tr>\n",
       "  </thead>\n",
       "  <tbody>\n",
       "    <tr>\n",
       "      <td>count</td>\n",
       "      <td>192082.000000</td>\n",
       "      <td>191834.000000</td>\n",
       "      <td>192082.000000</td>\n",
       "      <td>192082.000000</td>\n",
       "      <td>191834.000000</td>\n",
       "      <td>192082.000000</td>\n",
       "      <td>192082.000000</td>\n",
       "      <td>192082.000000</td>\n",
       "    </tr>\n",
       "    <tr>\n",
       "      <td>mean</td>\n",
       "      <td>750.952473</td>\n",
       "      <td>132.841639</td>\n",
       "      <td>37.773438</td>\n",
       "      <td>-122.357820</td>\n",
       "      <td>131.218700</td>\n",
       "      <td>37.773570</td>\n",
       "      <td>-122.357419</td>\n",
       "      <td>4029.012609</td>\n",
       "    </tr>\n",
       "    <tr>\n",
       "      <td>std</td>\n",
       "      <td>1672.433843</td>\n",
       "      <td>109.662417</td>\n",
       "      <td>0.091433</td>\n",
       "      <td>0.109472</td>\n",
       "      <td>109.546275</td>\n",
       "      <td>0.091332</td>\n",
       "      <td>0.109058</td>\n",
       "      <td>1571.288901</td>\n",
       "    </tr>\n",
       "    <tr>\n",
       "      <td>min</td>\n",
       "      <td>61.000000</td>\n",
       "      <td>3.000000</td>\n",
       "      <td>37.317298</td>\n",
       "      <td>-122.453704</td>\n",
       "      <td>3.000000</td>\n",
       "      <td>37.317298</td>\n",
       "      <td>-122.453704</td>\n",
       "      <td>11.000000</td>\n",
       "    </tr>\n",
       "    <tr>\n",
       "      <td>25%</td>\n",
       "      <td>333.000000</td>\n",
       "      <td>43.000000</td>\n",
       "      <td>37.770407</td>\n",
       "      <td>-122.412408</td>\n",
       "      <td>41.000000</td>\n",
       "      <td>37.771058</td>\n",
       "      <td>-122.411726</td>\n",
       "      <td>3088.000000</td>\n",
       "    </tr>\n",
       "    <tr>\n",
       "      <td>50%</td>\n",
       "      <td>528.000000</td>\n",
       "      <td>98.000000</td>\n",
       "      <td>37.780955</td>\n",
       "      <td>-122.398438</td>\n",
       "      <td>95.000000</td>\n",
       "      <td>37.781010</td>\n",
       "      <td>-122.398436</td>\n",
       "      <td>4748.000000</td>\n",
       "    </tr>\n",
       "    <tr>\n",
       "      <td>75%</td>\n",
       "      <td>821.000000</td>\n",
       "      <td>211.000000</td>\n",
       "      <td>37.795913</td>\n",
       "      <td>-122.294837</td>\n",
       "      <td>203.000000</td>\n",
       "      <td>37.796248</td>\n",
       "      <td>-122.294837</td>\n",
       "      <td>5173.000000</td>\n",
       "    </tr>\n",
       "    <tr>\n",
       "      <td>max</td>\n",
       "      <td>84002.000000</td>\n",
       "      <td>385.000000</td>\n",
       "      <td>37.880222</td>\n",
       "      <td>-121.874119</td>\n",
       "      <td>385.000000</td>\n",
       "      <td>37.880222</td>\n",
       "      <td>-121.874119</td>\n",
       "      <td>6638.000000</td>\n",
       "    </tr>\n",
       "  </tbody>\n",
       "</table>\n",
       "</div>"
      ],
      "text/plain": [
       "        duration_sec  start_station_id  start_station_latitude  \\\n",
       "count  192082.000000     191834.000000           192082.000000   \n",
       "mean      750.952473        132.841639               37.773438   \n",
       "std      1672.433843        109.662417                0.091433   \n",
       "min        61.000000          3.000000               37.317298   \n",
       "25%       333.000000         43.000000               37.770407   \n",
       "50%       528.000000         98.000000               37.780955   \n",
       "75%       821.000000        211.000000               37.795913   \n",
       "max     84002.000000        385.000000               37.880222   \n",
       "\n",
       "       start_station_longitude  end_station_id  end_station_latitude  \\\n",
       "count            192082.000000   191834.000000         192082.000000   \n",
       "mean               -122.357820      131.218700             37.773570   \n",
       "std                   0.109472      109.546275              0.091332   \n",
       "min                -122.453704        3.000000             37.317298   \n",
       "25%                -122.412408       41.000000             37.771058   \n",
       "50%                -122.398438       95.000000             37.781010   \n",
       "75%                -122.294837      203.000000             37.796248   \n",
       "max                -121.874119      385.000000             37.880222   \n",
       "\n",
       "       end_station_longitude        bike_id  \n",
       "count          192082.000000  192082.000000  \n",
       "mean             -122.357419    4029.012609  \n",
       "std                 0.109058    1571.288901  \n",
       "min              -122.453704      11.000000  \n",
       "25%              -122.411726    3088.000000  \n",
       "50%              -122.398436    4748.000000  \n",
       "75%              -122.294837    5173.000000  \n",
       "max              -121.874119    6638.000000  "
      ]
     },
     "execution_count": 4,
     "metadata": {},
     "output_type": "execute_result"
    }
   ],
   "source": [
    "# descriive statistics for numeric variables\n",
    "df.describe()"
   ]
  },
  {
   "cell_type": "code",
   "execution_count": 5,
   "metadata": {
    "scrolled": false,
    "slideshow": {
     "slide_type": "skip"
    }
   },
   "outputs": [
    {
     "name": "stdout",
     "output_type": "stream",
     "text": [
      "<class 'pandas.core.frame.DataFrame'>\n",
      "RangeIndex: 192082 entries, 0 to 192081\n",
      "Data columns (total 14 columns):\n",
      "duration_sec               192082 non-null int64\n",
      "start_time                 192082 non-null object\n",
      "end_time                   192082 non-null object\n",
      "start_station_id           191834 non-null float64\n",
      "start_station_name         191834 non-null object\n",
      "start_station_latitude     192082 non-null float64\n",
      "start_station_longitude    192082 non-null float64\n",
      "end_station_id             191834 non-null float64\n",
      "end_station_name           191834 non-null object\n",
      "end_station_latitude       192082 non-null float64\n",
      "end_station_longitude      192082 non-null float64\n",
      "bike_id                    192082 non-null int64\n",
      "user_type                  192082 non-null object\n",
      "bike_share_for_all_trip    192082 non-null object\n",
      "dtypes: float64(6), int64(2), object(6)\n",
      "memory usage: 20.5+ MB\n"
     ]
    }
   ],
   "source": [
    "df.info()"
   ]
  },
  {
   "cell_type": "code",
   "execution_count": 6,
   "metadata": {
    "slideshow": {
     "slide_type": "skip"
    }
   },
   "outputs": [
    {
     "data": {
      "text/plain": [
       "(str, str, str)"
      ]
     },
     "execution_count": 6,
     "metadata": {},
     "output_type": "execute_result"
    }
   ],
   "source": [
    "# investigate what those object types are\n",
    "type(df['start_time'][0]), type(df['end_time'][0]), type(df['start_station_name'][0])"
   ]
  },
  {
   "cell_type": "code",
   "execution_count": 7,
   "metadata": {
    "scrolled": true,
    "slideshow": {
     "slide_type": "skip"
    }
   },
   "outputs": [
    {
     "data": {
      "text/plain": [
       "(str, str, str)"
      ]
     },
     "execution_count": 7,
     "metadata": {},
     "output_type": "execute_result"
    }
   ],
   "source": [
    "type(df['end_station_name'][0]), type(df['user_type'][0]), type(df['bike_share_for_all_trip'][0])"
   ]
  },
  {
   "cell_type": "markdown",
   "metadata": {
    "slideshow": {
     "slide_type": "skip"
    }
   },
   "source": [
    "Things to clean\n",
    "- missing data (null values)\n",
    "- start_time, end_time are str type and should be datetime objects\n",
    "- user_type is str and should be categorical type\n",
    "\n",
    "<a id='clean'></a>\n",
    "## Cleaning"
   ]
  },
  {
   "cell_type": "code",
   "execution_count": 8,
   "metadata": {
    "slideshow": {
     "slide_type": "skip"
    }
   },
   "outputs": [],
   "source": [
    "# before i do any cleaning, make a copy of the dataset\n",
    "df_clean = df.copy()"
   ]
  },
  {
   "cell_type": "code",
   "execution_count": 9,
   "metadata": {
    "slideshow": {
     "slide_type": "skip"
    }
   },
   "outputs": [
    {
     "data": {
      "text/plain": [
       "duration_sec                 0\n",
       "start_time                   0\n",
       "end_time                     0\n",
       "start_station_id           248\n",
       "start_station_name         248\n",
       "start_station_latitude       0\n",
       "start_station_longitude      0\n",
       "end_station_id             248\n",
       "end_station_name           248\n",
       "end_station_latitude         0\n",
       "end_station_longitude        0\n",
       "bike_id                      0\n",
       "user_type                    0\n",
       "bike_share_for_all_trip      0\n",
       "dtype: int64"
      ]
     },
     "execution_count": 9,
     "metadata": {},
     "output_type": "execute_result"
    }
   ],
   "source": [
    "# see how many null values there are in each column\n",
    "df_clean.isnull().sum()"
   ]
  },
  {
   "cell_type": "code",
   "execution_count": 10,
   "metadata": {
    "scrolled": true,
    "slideshow": {
     "slide_type": "skip"
    }
   },
   "outputs": [
    {
     "data": {
      "text/html": [
       "<div>\n",
       "<style scoped>\n",
       "    .dataframe tbody tr th:only-of-type {\n",
       "        vertical-align: middle;\n",
       "    }\n",
       "\n",
       "    .dataframe tbody tr th {\n",
       "        vertical-align: top;\n",
       "    }\n",
       "\n",
       "    .dataframe thead th {\n",
       "        text-align: right;\n",
       "    }\n",
       "</style>\n",
       "<table border=\"1\" class=\"dataframe\">\n",
       "  <thead>\n",
       "    <tr style=\"text-align: right;\">\n",
       "      <th></th>\n",
       "      <th>duration_sec</th>\n",
       "      <th>start_time</th>\n",
       "      <th>end_time</th>\n",
       "      <th>start_station_id</th>\n",
       "      <th>start_station_name</th>\n",
       "      <th>start_station_latitude</th>\n",
       "      <th>start_station_longitude</th>\n",
       "      <th>end_station_id</th>\n",
       "      <th>end_station_name</th>\n",
       "      <th>end_station_latitude</th>\n",
       "      <th>end_station_longitude</th>\n",
       "      <th>bike_id</th>\n",
       "      <th>user_type</th>\n",
       "      <th>bike_share_for_all_trip</th>\n",
       "    </tr>\n",
       "  </thead>\n",
       "  <tbody>\n",
       "    <tr>\n",
       "      <td>59753</td>\n",
       "      <td>671</td>\n",
       "      <td>2019-01-24 17:38:18.3060</td>\n",
       "      <td>2019-01-24 17:49:29.7950</td>\n",
       "      <td>NaN</td>\n",
       "      <td>NaN</td>\n",
       "      <td>37.40</td>\n",
       "      <td>-121.92</td>\n",
       "      <td>NaN</td>\n",
       "      <td>NaN</td>\n",
       "      <td>37.41</td>\n",
       "      <td>-121.94</td>\n",
       "      <td>4241</td>\n",
       "      <td>Subscriber</td>\n",
       "      <td>No</td>\n",
       "    </tr>\n",
       "    <tr>\n",
       "      <td>14614</td>\n",
       "      <td>801</td>\n",
       "      <td>2019-01-30 12:31:47.8940</td>\n",
       "      <td>2019-01-30 12:45:09.3740</td>\n",
       "      <td>NaN</td>\n",
       "      <td>NaN</td>\n",
       "      <td>37.41</td>\n",
       "      <td>-121.94</td>\n",
       "      <td>NaN</td>\n",
       "      <td>NaN</td>\n",
       "      <td>37.41</td>\n",
       "      <td>-121.96</td>\n",
       "      <td>4092</td>\n",
       "      <td>Subscriber</td>\n",
       "      <td>No</td>\n",
       "    </tr>\n",
       "    <tr>\n",
       "      <td>42712</td>\n",
       "      <td>512</td>\n",
       "      <td>2019-01-26 23:32:25.8440</td>\n",
       "      <td>2019-01-26 23:40:58.4440</td>\n",
       "      <td>NaN</td>\n",
       "      <td>NaN</td>\n",
       "      <td>37.41</td>\n",
       "      <td>-121.94</td>\n",
       "      <td>NaN</td>\n",
       "      <td>NaN</td>\n",
       "      <td>37.41</td>\n",
       "      <td>-121.96</td>\n",
       "      <td>4098</td>\n",
       "      <td>Subscriber</td>\n",
       "      <td>No</td>\n",
       "    </tr>\n",
       "    <tr>\n",
       "      <td>46658</td>\n",
       "      <td>3668</td>\n",
       "      <td>2019-01-26 11:33:26.4420</td>\n",
       "      <td>2019-01-26 12:34:34.5540</td>\n",
       "      <td>NaN</td>\n",
       "      <td>NaN</td>\n",
       "      <td>37.41</td>\n",
       "      <td>-121.96</td>\n",
       "      <td>NaN</td>\n",
       "      <td>NaN</td>\n",
       "      <td>37.42</td>\n",
       "      <td>-121.96</td>\n",
       "      <td>4232</td>\n",
       "      <td>Customer</td>\n",
       "      <td>No</td>\n",
       "    </tr>\n",
       "    <tr>\n",
       "      <td>148903</td>\n",
       "      <td>358</td>\n",
       "      <td>2019-01-09 17:55:39.4650</td>\n",
       "      <td>2019-01-09 18:01:37.8660</td>\n",
       "      <td>NaN</td>\n",
       "      <td>NaN</td>\n",
       "      <td>37.40</td>\n",
       "      <td>-121.94</td>\n",
       "      <td>NaN</td>\n",
       "      <td>NaN</td>\n",
       "      <td>37.41</td>\n",
       "      <td>-121.94</td>\n",
       "      <td>4095</td>\n",
       "      <td>Subscriber</td>\n",
       "      <td>No</td>\n",
       "    </tr>\n",
       "  </tbody>\n",
       "</table>\n",
       "</div>"
      ],
      "text/plain": [
       "        duration_sec                start_time                  end_time  \\\n",
       "59753            671  2019-01-24 17:38:18.3060  2019-01-24 17:49:29.7950   \n",
       "14614            801  2019-01-30 12:31:47.8940  2019-01-30 12:45:09.3740   \n",
       "42712            512  2019-01-26 23:32:25.8440  2019-01-26 23:40:58.4440   \n",
       "46658           3668  2019-01-26 11:33:26.4420  2019-01-26 12:34:34.5540   \n",
       "148903           358  2019-01-09 17:55:39.4650  2019-01-09 18:01:37.8660   \n",
       "\n",
       "        start_station_id start_station_name  start_station_latitude  \\\n",
       "59753                NaN                NaN                   37.40   \n",
       "14614                NaN                NaN                   37.41   \n",
       "42712                NaN                NaN                   37.41   \n",
       "46658                NaN                NaN                   37.41   \n",
       "148903               NaN                NaN                   37.40   \n",
       "\n",
       "        start_station_longitude  end_station_id end_station_name  \\\n",
       "59753                   -121.92             NaN              NaN   \n",
       "14614                   -121.94             NaN              NaN   \n",
       "42712                   -121.94             NaN              NaN   \n",
       "46658                   -121.96             NaN              NaN   \n",
       "148903                  -121.94             NaN              NaN   \n",
       "\n",
       "        end_station_latitude  end_station_longitude  bike_id   user_type  \\\n",
       "59753                  37.41                -121.94     4241  Subscriber   \n",
       "14614                  37.41                -121.96     4092  Subscriber   \n",
       "42712                  37.41                -121.96     4098  Subscriber   \n",
       "46658                  37.42                -121.96     4232    Customer   \n",
       "148903                 37.41                -121.94     4095  Subscriber   \n",
       "\n",
       "       bike_share_for_all_trip  \n",
       "59753                       No  \n",
       "14614                       No  \n",
       "42712                       No  \n",
       "46658                       No  \n",
       "148903                      No  "
      ]
     },
     "execution_count": 10,
     "metadata": {},
     "output_type": "execute_result"
    }
   ],
   "source": [
    "# look at the rows where there are null values\n",
    "df_clean[df_clean.start_station_id.isnull() == True].sample(5)"
   ]
  },
  {
   "cell_type": "code",
   "execution_count": 11,
   "metadata": {
    "scrolled": true,
    "slideshow": {
     "slide_type": "skip"
    }
   },
   "outputs": [
    {
     "data": {
      "text/plain": [
       "duration_sec               0\n",
       "start_time                 0\n",
       "end_time                   0\n",
       "start_station_id           0\n",
       "start_station_name         0\n",
       "start_station_latitude     0\n",
       "start_station_longitude    0\n",
       "end_station_id             0\n",
       "end_station_name           0\n",
       "end_station_latitude       0\n",
       "end_station_longitude      0\n",
       "bike_id                    0\n",
       "user_type                  0\n",
       "bike_share_for_all_trip    0\n",
       "dtype: int64"
      ]
     },
     "execution_count": 11,
     "metadata": {},
     "output_type": "execute_result"
    }
   ],
   "source": [
    "# after looking at the nulls, i decided i'll just remove them\n",
    "# remove the rows where start_station_id is null\n",
    "df_clean = df_clean[df_clean.start_station_id.isnull() == False]\n",
    "# check to see if there are still columns with nulls\n",
    "df_clean.isnull().sum()"
   ]
  },
  {
   "cell_type": "code",
   "execution_count": 12,
   "metadata": {
    "slideshow": {
     "slide_type": "skip"
    }
   },
   "outputs": [
    {
     "data": {
      "text/plain": [
       "0"
      ]
     },
     "execution_count": 12,
     "metadata": {},
     "output_type": "execute_result"
    }
   ],
   "source": [
    "# check for duplicate rows\n",
    "df_clean.duplicated().sum()"
   ]
  },
  {
   "cell_type": "code",
   "execution_count": 13,
   "metadata": {
    "slideshow": {
     "slide_type": "skip"
    }
   },
   "outputs": [],
   "source": [
    "# convert start_time and end_time to datetime objects\n",
    "df_clean.start_time = pd.to_datetime(df_clean.start_time)\n",
    "df_clean.end_time = pd.to_datetime(df_clean.end_time)\n",
    "\n",
    "# convert user_type to categorical type\n",
    "df_clean.user_type = df_clean.user_type.astype('category')"
   ]
  },
  {
   "cell_type": "code",
   "execution_count": 14,
   "metadata": {
    "scrolled": true,
    "slideshow": {
     "slide_type": "slide"
    }
   },
   "outputs": [
    {
     "name": "stdout",
     "output_type": "stream",
     "text": [
      "<class 'pandas.core.frame.DataFrame'>\n",
      "Int64Index: 191834 entries, 0 to 192081\n",
      "Data columns (total 14 columns):\n",
      "duration_sec               191834 non-null int64\n",
      "start_time                 191834 non-null datetime64[ns]\n",
      "end_time                   191834 non-null datetime64[ns]\n",
      "start_station_id           191834 non-null float64\n",
      "start_station_name         191834 non-null object\n",
      "start_station_latitude     191834 non-null float64\n",
      "start_station_longitude    191834 non-null float64\n",
      "end_station_id             191834 non-null float64\n",
      "end_station_name           191834 non-null object\n",
      "end_station_latitude       191834 non-null float64\n",
      "end_station_longitude      191834 non-null float64\n",
      "bike_id                    191834 non-null int64\n",
      "user_type                  191834 non-null category\n",
      "bike_share_for_all_trip    191834 non-null object\n",
      "dtypes: category(1), datetime64[ns](2), float64(6), int64(2), object(3)\n",
      "memory usage: 20.7+ MB\n"
     ]
    }
   ],
   "source": [
    "#check if it converted properly\n",
    "df_clean.info()"
   ]
  },
  {
   "cell_type": "markdown",
   "metadata": {
    "slideshow": {
     "slide_type": "skip"
    }
   },
   "source": [
    "### What is the structure of your dataset?\n",
    "\n",
    "There are 191,834 individual trip records with 14 variables.  The variables can be broken into 3 categories.\n",
    "\n",
    "Trip duration: duration_sec, start_time, end_time\n",
    "\n",
    "Station info: start_station_id, start_station_name, start_station_latitude, start_station_longitude, end_station_id, end_station_name, end_station_latitude, end_station_longitude\n",
    "\n",
    "User info: bike_id, user_type, bike_share_for_all_trip  "
   ]
  },
  {
   "cell_type": "markdown",
   "metadata": {
    "slideshow": {
     "slide_type": "skip"
    }
   },
   "source": [
    "### What is/are the main feature(s) of interest in your dataset?\n",
    "\n",
    "I'm most interested in trip duration, which days are the busiest, and whether membership affects trip duration."
   ]
  },
  {
   "cell_type": "markdown",
   "metadata": {
    "slideshow": {
     "slide_type": "skip"
    }
   },
   "source": [
    "### What features in the dataset do you think will help support your investigation into your feature(s) of interest?\n",
    "\n",
    "duration_sec will be useful in understanding how long a trip would take.  start_time would also be useful in determining which days are the busiest.  user_type will be useful in determining whether being a subscriber or casual user affects the trip duration."
   ]
  },
  {
   "cell_type": "markdown",
   "metadata": {
    "slideshow": {
     "slide_type": "skip"
    }
   },
   "source": [
    "<a id='uni'></a>\n",
    "## Univariate Exploration"
   ]
  },
  {
   "cell_type": "markdown",
   "metadata": {
    "slideshow": {
     "slide_type": "skip"
    }
   },
   "source": [
    "First I'll look at the distribution of duration_sec."
   ]
  },
  {
   "cell_type": "code",
   "execution_count": 15,
   "metadata": {
    "scrolled": true,
    "slideshow": {
     "slide_type": "skip"
    }
   },
   "outputs": [
    {
     "data": {
      "image/png": "[encoded data removed]",
      "text/plain": [
       "<Figure size 576x360 with 1 Axes>"
      ]
     },
     "metadata": {
      "needs_background": "light"
     },
     "output_type": "display_data"
    }
   ],
   "source": [
    "# set figure size \n",
    "plt.figure(figsize = (8, 5))\n",
    "\n",
    "# set axis labels and title\n",
    "plt.xlabel('Trip Duration in Seconds')\n",
    "plt.ylabel('Count')\n",
    "plt.title('Trip Count vs Trip Duration (seconds)')\n",
    "\n",
    "# plot the data\n",
    "plt.hist(data = df_clean, x = 'duration_sec');"
   ]
  },
  {
   "cell_type": "markdown",
   "metadata": {
    "slideshow": {
     "slide_type": "skip"
    }
   },
   "source": [
    "For the x axis to span to 80000 seconds, there must be some outliers that aren't visible."
   ]
  },
  {
   "cell_type": "code",
   "execution_count": 16,
   "metadata": {
    "scrolled": true,
    "slideshow": {
     "slide_type": "skip"
    }
   },
   "outputs": [],
   "source": [
    "# for the sake of easier understanding, i will create a duration_min column\n",
    "df_clean['duration_min'] = df_clean.duration_sec / 60"
   ]
  },
  {
   "cell_type": "code",
   "execution_count": 17,
   "metadata": {
    "slideshow": {
     "slide_type": "skip"
    }
   },
   "outputs": [
    {
     "data": {
      "text/plain": [
       "count    191834.000000\n",
       "mean         12.504311\n",
       "std          27.835413\n",
       "min           1.016667\n",
       "50%           8.800000\n",
       "99%          66.561167\n",
       "max        1400.033333\n",
       "Name: duration_min, dtype: float64"
      ]
     },
     "execution_count": 17,
     "metadata": {},
     "output_type": "execute_result"
    }
   ],
   "source": [
    "# look at where most of the data is\n",
    "df_clean.duration_min.describe(percentiles=[.99])"
   ]
  },
  {
   "cell_type": "markdown",
   "metadata": {
    "slideshow": {
     "slide_type": "slide"
    }
   },
   "source": [
    "## Trip Count vs Trip Duration (min)\n",
    "\n",
    "\n",
    "Trip durations in the dataset take on a very large range of values, from about 1 minute at the lowest, to about 23.3 hours at the highest.  Zoomed in on 99% of the trips, the distribution of trip duration is skewed right.  We can see that 99% of the trips were less than one hour in duration.  Most the the trips fell between the 5 and 10 minute range."
   ]
  },
  {
   "cell_type": "code",
   "execution_count": 18,
   "metadata": {
    "scrolled": false,
    "slideshow": {
     "slide_type": "subslide"
    }
   },
   "outputs": [
    {
     "data": {
      "image/png": "[encoded data removed]",
      "text/plain": [
       "<Figure size 576x432 with 1 Axes>"
      ]
     },
     "metadata": {
      "needs_background": "light"
     },
     "output_type": "display_data"
    }
   ],
   "source": [
    "# set the size of the plot\n",
    "plt.figure(figsize = (8, 6))\n",
    "\n",
    "# set the bin size and x tick size\n",
    "bins = np.arange(0, 67, 1)\n",
    "ticks = np.arange(0, 67 , 5)\n",
    "\n",
    "# set the x ticks\n",
    "plt.xticks(ticks, ticks)\n",
    "# set the axis labels and title\n",
    "plt.xlabel('Trip Duration in Minutes')\n",
    "plt.ylabel('Count')\n",
    "plt.title('Trip Count vs Trip Duration (minutes)')\n",
    "\n",
    "# plot the data\n",
    "plt.hist(data = df_clean, x = 'duration_min', bins = bins);"
   ]
  },
  {
   "cell_type": "code",
   "execution_count": 19,
   "metadata": {
    "slideshow": {
     "slide_type": "skip"
    }
   },
   "outputs": [],
   "source": [
    "# using the start_time, i can extract days and hours\n",
    "df_clean['start_hour'] = df_clean.start_time.dt.hour\n",
    "df_clean['start_day'] = df_clean.start_time.dt.strftime('%A')"
   ]
  },
  {
   "cell_type": "code",
   "execution_count": 20,
   "metadata": {
    "scrolled": false,
    "slideshow": {
     "slide_type": "skip"
    }
   },
   "outputs": [
    {
     "data": {
      "text/html": [
       "<div>\n",
       "<style scoped>\n",
       "    .dataframe tbody tr th:only-of-type {\n",
       "        vertical-align: middle;\n",
       "    }\n",
       "\n",
       "    .dataframe tbody tr th {\n",
       "        vertical-align: top;\n",
       "    }\n",
       "\n",
       "    .dataframe thead th {\n",
       "        text-align: right;\n",
       "    }\n",
       "</style>\n",
       "<table border=\"1\" class=\"dataframe\">\n",
       "  <thead>\n",
       "    <tr style=\"text-align: right;\">\n",
       "      <th></th>\n",
       "      <th>duration_sec</th>\n",
       "      <th>start_time</th>\n",
       "      <th>end_time</th>\n",
       "      <th>start_station_id</th>\n",
       "      <th>start_station_name</th>\n",
       "      <th>start_station_latitude</th>\n",
       "      <th>start_station_longitude</th>\n",
       "      <th>end_station_id</th>\n",
       "      <th>end_station_name</th>\n",
       "      <th>end_station_latitude</th>\n",
       "      <th>end_station_longitude</th>\n",
       "      <th>bike_id</th>\n",
       "      <th>user_type</th>\n",
       "      <th>bike_share_for_all_trip</th>\n",
       "      <th>duration_min</th>\n",
       "      <th>start_hour</th>\n",
       "      <th>start_day</th>\n",
       "    </tr>\n",
       "  </thead>\n",
       "  <tbody>\n",
       "    <tr>\n",
       "      <td>144968</td>\n",
       "      <td>811</td>\n",
       "      <td>2019-01-10 09:14:12.283</td>\n",
       "      <td>2019-01-10 09:27:43.309</td>\n",
       "      <td>61.0</td>\n",
       "      <td>Howard St at 8th St</td>\n",
       "      <td>37.776513</td>\n",
       "      <td>-122.411306</td>\n",
       "      <td>116.0</td>\n",
       "      <td>Mississippi St at 17th St</td>\n",
       "      <td>37.764802</td>\n",
       "      <td>-122.394771</td>\n",
       "      <td>5068</td>\n",
       "      <td>Subscriber</td>\n",
       "      <td>No</td>\n",
       "      <td>13.516667</td>\n",
       "      <td>9</td>\n",
       "      <td>Thursday</td>\n",
       "    </tr>\n",
       "  </tbody>\n",
       "</table>\n",
       "</div>"
      ],
      "text/plain": [
       "        duration_sec              start_time                end_time  \\\n",
       "144968           811 2019-01-10 09:14:12.283 2019-01-10 09:27:43.309   \n",
       "\n",
       "        start_station_id   start_station_name  start_station_latitude  \\\n",
       "144968              61.0  Howard St at 8th St               37.776513   \n",
       "\n",
       "        start_station_longitude  end_station_id           end_station_name  \\\n",
       "144968              -122.411306           116.0  Mississippi St at 17th St   \n",
       "\n",
       "        end_station_latitude  end_station_longitude  bike_id   user_type  \\\n",
       "144968             37.764802            -122.394771     5068  Subscriber   \n",
       "\n",
       "       bike_share_for_all_trip  duration_min  start_hour start_day  \n",
       "144968                      No     13.516667           9  Thursday  "
      ]
     },
     "execution_count": 20,
     "metadata": {},
     "output_type": "execute_result"
    }
   ],
   "source": [
    "# i'm just checking to see if it worked\n",
    "df_clean.sample(1)"
   ]
  },
  {
   "cell_type": "code",
   "execution_count": 21,
   "metadata": {
    "slideshow": {
     "slide_type": "skip"
    }
   },
   "outputs": [],
   "source": [
    "# i'm going to convert start_dayofweek to an ordered categorical datatype\n",
    "day = ['Sunday', 'Monday', 'Tuesday', 'Wednesday', 'Thursday', 'Friday', 'Saturday']\n",
    "categorical_day = pd.api.types.CategoricalDtype(ordered = True, categories = day)\n",
    "df_clean.start_day = df_clean.start_day.astype(categorical_day)"
   ]
  },
  {
   "cell_type": "code",
   "execution_count": 22,
   "metadata": {
    "slideshow": {
     "slide_type": "skip"
    }
   },
   "outputs": [
    {
     "data": {
      "text/plain": [
       "duration_sec                        int64\n",
       "start_time                 datetime64[ns]\n",
       "end_time                   datetime64[ns]\n",
       "start_station_id                  float64\n",
       "start_station_name                 object\n",
       "start_station_latitude            float64\n",
       "start_station_longitude           float64\n",
       "end_station_id                    float64\n",
       "end_station_name                   object\n",
       "end_station_latitude              float64\n",
       "end_station_longitude             float64\n",
       "bike_id                             int64\n",
       "user_type                        category\n",
       "bike_share_for_all_trip            object\n",
       "duration_min                      float64\n",
       "start_hour                          int64\n",
       "start_day                        category\n",
       "dtype: object"
      ]
     },
     "execution_count": 22,
     "metadata": {},
     "output_type": "execute_result"
    }
   ],
   "source": [
    "# checking if it worked\n",
    "df_clean.dtypes"
   ]
  },
  {
   "cell_type": "markdown",
   "metadata": {
    "slideshow": {
     "slide_type": "skip"
    }
   },
   "source": [
    "Now I want to look at the distribution of trip on days of a week."
   ]
  },
  {
   "cell_type": "markdown",
   "metadata": {
    "slideshow": {
     "slide_type": "slide"
    }
   },
   "source": [
    "## Trip Count vs Day\n",
    "\n",
    "We can see that Thursday has the most trips.  We can also see that more trips happen during the weekdays.  There are less trips happening during the weekend.  Maybe the hour trips happen is causing this?"
   ]
  },
  {
   "cell_type": "code",
   "execution_count": 23,
   "metadata": {
    "scrolled": false,
    "slideshow": {
     "slide_type": "subslide"
    }
   },
   "outputs": [
    {
     "data": {
      "image/png": "[encoded data removed]",
      "text/plain": [
       "<Figure size 576x432 with 1 Axes>"
      ]
     },
     "metadata": {
      "needs_background": "light"
     },
     "output_type": "display_data"
    }
   ],
   "source": [
    "# set the size of the plot\n",
    "plt.figure(figsize = (8, 6))\n",
    "\n",
    "# set colors in the plot\n",
    "base_color = sns.color_palette()[0]\n",
    "\n",
    "# this is the plot\n",
    "ax = sns.countplot(data = df_clean, x = 'start_day', color = base_color)\n",
    "\n",
    "# set axis labels and title\n",
    "ax.set(xlabel = 'Day', ylabel = 'Count', title = 'Trip Count vs Day')\n",
    "\n",
    "# show the plot\n",
    "plt.show()"
   ]
  },
  {
   "cell_type": "markdown",
   "metadata": {
    "slideshow": {
     "slide_type": "slide"
    }
   },
   "source": [
    "## Trip Count vs Hour\n",
    "\n",
    "We can see two peaks in the data.  The first peak is at 8 AM, and the second peak is at 5 PM.  It is possible that those trips are users commuting to work.  We can't say that for certain as we would need more personalized data, and we don't have that type of data since our dataset was anonymized to preserve privacy.  Though if it is really because of work commute, it would be in line with the *Trip Count vs Day* plot earlier.  Monday through Friday had more trips and those are the normal work days."
   ]
  },
  {
   "cell_type": "code",
   "execution_count": 24,
   "metadata": {
    "scrolled": false,
    "slideshow": {
     "slide_type": "subslide"
    }
   },
   "outputs": [
    {
     "data": {
      "image/png": "[encoded data removed]",
      "text/plain": [
       "<Figure size 576x432 with 1 Axes>"
      ]
     },
     "metadata": {
      "needs_background": "light"
     },
     "output_type": "display_data"
    }
   ],
   "source": [
    "# set the figure size\n",
    "plt.figure(figsize = (8, 6))\n",
    "\n",
    "# this is the plot\n",
    "ax = sns.countplot(data = df_clean, x = 'start_hour', color = base_color)\n",
    "\n",
    "# set axis labels and title\n",
    "ax.set(xlabel = 'Hour', ylabel = 'Count', title = 'Trip Count vs Hour')\n",
    "\n",
    "# show the plot\n",
    "plt.show()"
   ]
  },
  {
   "cell_type": "markdown",
   "metadata": {
    "slideshow": {
     "slide_type": "slide"
    }
   },
   "source": [
    "## Trip Count vs User Type\n",
    "\n",
    "There are two types of user.  Customers are users who are not members of the bike sharing service, while subscribers are.  We can see that there are more subscribers than there are customers."
   ]
  },
  {
   "cell_type": "code",
   "execution_count": 25,
   "metadata": {
    "scrolled": false,
    "slideshow": {
     "slide_type": "subslide"
    }
   },
   "outputs": [
    {
     "name": "stdout",
     "output_type": "stream",
     "text": [
      "Subscriber    168561\n",
      "Customer       23273\n",
      "Name: user_type, dtype: int64\n"
     ]
    },
    {
     "data": {
      "image/png": "[encoded data removed]",
      "text/plain": [
       "<Figure size 504x360 with 1 Axes>"
      ]
     },
     "metadata": {
      "needs_background": "light"
     },
     "output_type": "display_data"
    }
   ],
   "source": [
    "# i'm just looking at the values for the two bars\n",
    "print(df_clean['user_type'].value_counts())\n",
    "\n",
    "# set the figure size\n",
    "plt.figure(figsize = (7,5))\n",
    "\n",
    "# this is the plot\n",
    "ax = sns.countplot(data = df_clean, x = 'user_type', color = base_color)\n",
    "\n",
    "# set labels and title\n",
    "ax.set(xlabel = 'User Type', ylabel = 'Count', title = 'Trip Count vs User Type')\n",
    "\n",
    "# show the plot\n",
    "plt.show()"
   ]
  },
  {
   "cell_type": "code",
   "execution_count": 26,
   "metadata": {
    "scrolled": false,
    "slideshow": {
     "slide_type": "skip"
    }
   },
   "outputs": [
    {
     "name": "stdout",
     "output_type": "stream",
     "text": [
      "No     175769\n",
      "Yes     16065\n",
      "Name: bike_share_for_all_trip, dtype: int64\n"
     ]
    },
    {
     "data": {
      "image/png": "[encoded data removed]",
      "text/plain": [
       "<Figure size 504x360 with 1 Axes>"
      ]
     },
     "metadata": {
      "needs_background": "light"
     },
     "output_type": "display_data"
    }
   ],
   "source": [
    "# looking at the value for the two bars\n",
    "print(df_clean['bike_share_for_all_trip'].value_counts())\n",
    "\n",
    "# set the figure size\n",
    "plt.figure(figsize = (7,5))\n",
    "\n",
    "# plot data\n",
    "ax = sns.countplot(data = df_clean, x = 'bike_share_for_all_trip', color = base_color)\n",
    "\n",
    "# set labels and title\n",
    "ax.set(xlabel = 'Bike Share for all Trip', ylabel = 'Count', title = 'Trip Count vs Bike Share for all Trip')\n",
    "\n",
    "plt.show()"
   ]
  },
  {
   "cell_type": "markdown",
   "metadata": {
    "slideshow": {
     "slide_type": "skip"
    }
   },
   "source": [
    "Most users do not use the bike share service for their entire trip."
   ]
  },
  {
   "cell_type": "markdown",
   "metadata": {
    "slideshow": {
     "slide_type": "skip"
    }
   },
   "source": [
    "### Discuss the distribution(s) of your variable(s) of interest.  Were there any unusual points?  Did you need to perform any tranformations?\n",
    "\n",
    "99% of user trips were under 66.56 minutes.  Most of the trips were quick and lasted between 5 to 10 minutes.  The maximum trip duration lasted for 1400 minutes which is about 23.3 hours (~23 hours 20 minutes).  That's almost an entire day!  The trip count is higher Mondays through Fridays.  Thursdays have the most trip count.  During the day, the trip count peaks at 8 AM and also peaks at 5 PM.\n",
    "\n",
    "Looking at user types, there are more subscribers than there are customers, and most users do not use the bike share service for their entire trip."
   ]
  },
  {
   "cell_type": "markdown",
   "metadata": {
    "slideshow": {
     "slide_type": "skip"
    }
   },
   "source": [
    "### Of the features you investigated, were there any unusual distributions?  Did you perform any operations on the data to tidy, adjust, or change the form of the data?  If so, why did you do this?\n",
    "\n",
    "The initial plotting of trip duration distribution was unusual.  After looking at .describe() with a 99th percentile, I was able to see where most of the data was.  Using the 99th percentile as the ceiling, I plotted another distribution which was a lot clearer than the first."
   ]
  },
  {
   "cell_type": "markdown",
   "metadata": {
    "slideshow": {
     "slide_type": "skip"
    }
   },
   "source": [
    "<a id='bi'></a>\n",
    "## Bivariate Exploration"
   ]
  },
  {
   "cell_type": "markdown",
   "metadata": {
    "slideshow": {
     "slide_type": "skip"
    }
   },
   "source": [
    "How does the trip count vary by day and hour?"
   ]
  },
  {
   "cell_type": "markdown",
   "metadata": {
    "slideshow": {
     "slide_type": "slide"
    }
   },
   "source": [
    "## Trip Count by Day and Hour\n",
    "\n",
    "After looking at *Trip Count vs Day* and *Trip Count vs Hour* plots, it made me think about plotting the number of trips on each day and hour.  The result is this plot.  Please first notice that the y-axis for each histogram is not the same scale.  This plot shows histograms for each day.  Each day's trip count is distributed over the hour of the day.  For each day, we can see which time periods have higher trip counts.\n",
    "\n",
    "On Sundays and Saturdays, we can see that the trip count is highest between 2-3 PM.  Mondays through Fridays, you can see two peaks.  The first peak is at 8 AM and the second peak is at 5 PM.  The two peak times match the two peak times in *Trip Count vs Hour*.  If it is not obvious, Mondays - Fridays have higher trip counts than Saturdays and Sundays.  The earlier *Trip Count vs Day* plot would support that."
   ]
  },
  {
   "cell_type": "code",
   "execution_count": 27,
   "metadata": {
    "scrolled": false,
    "slideshow": {
     "slide_type": "subslide"
    }
   },
   "outputs": [
    {
     "data": {
      "image/png": "[encoded data removed]",
      "text/plain": [
       "<Figure size 1440x1080 with 9 Axes>"
      ]
     },
     "metadata": {
      "needs_background": "light"
     },
     "output_type": "display_data"
    }
   ],
   "source": [
    "# plot figure size\n",
    "plt.rcParams[\"figure.figsize\"] = [20,15]\n",
    "# bins to make the tick numbers centered\n",
    "bins24 = np.arange(25) - 0.5\n",
    "# the plot\n",
    "df_clean.hist(column = 'start_hour', by = 'start_day', bins = bins24)\n",
    "plt.suptitle('Trip Count by Day and Hour', fontsize = 14);"
   ]
  },
  {
   "cell_type": "markdown",
   "metadata": {
    "slideshow": {
     "slide_type": "skip"
    }
   },
   "source": [
    "How does the trip count vary by user type and hour of the day?"
   ]
  },
  {
   "cell_type": "code",
   "execution_count": 28,
   "metadata": {
    "scrolled": false,
    "slideshow": {
     "slide_type": "skip"
    }
   },
   "outputs": [
    {
     "data": {
      "image/png": "[encoded data removed]",
      "text/plain": [
       "<Figure size 1080x360 with 2 Axes>"
      ]
     },
     "metadata": {
      "needs_background": "light"
     },
     "output_type": "display_data"
    }
   ],
   "source": [
    "# figure size\n",
    "plt.rcParams[\"figure.figsize\"] = [15,5]\n",
    "# the plot\n",
    "df_clean.hist(column = 'start_hour', by = 'user_type', bins = bins24)\n",
    "plt.suptitle('Trip Count by Hour and User Type', fontsize = 14);"
   ]
  },
  {
   "cell_type": "markdown",
   "metadata": {
    "slideshow": {
     "slide_type": "slide"
    }
   },
   "source": [
    "## Trip Count by Hour and User Type\n",
    "\n",
    "Customers' trip count first peaks at 8 AM and peaks again at 5 PM.  Subscribers' trip count first peaks at 8 AM and peaks again at 5 PM.  The difference between the two user types is the scale of the plots.  The Customer and Subscriber hours may peak at the same time, but you can see that there is a huge difference in the distribution of trip counts."
   ]
  },
  {
   "cell_type": "code",
   "execution_count": 29,
   "metadata": {
    "scrolled": false,
    "slideshow": {
     "slide_type": "subslide"
    }
   },
   "outputs": [
    {
     "data": {
      "image/png": "[encoded data removed]",
      "text/plain": [
       "<Figure size 629.125x360 with 1 Axes>"
      ]
     },
     "metadata": {
      "needs_background": "light"
     },
     "output_type": "display_data"
    }
   ],
   "source": [
    "# the plot\n",
    "sns.catplot(data = df_clean, x = 'start_hour', kind = 'count', hue = 'user_type', height = 5, aspect = 1.5)\n",
    "# labels\n",
    "plt.title('Trip Count by Hour and User Type')\n",
    "plt.xlabel('Hour')\n",
    "plt.ylabel('Count');"
   ]
  },
  {
   "cell_type": "markdown",
   "metadata": {
    "slideshow": {
     "slide_type": "skip"
    }
   },
   "source": [
    "How does the trip count vary by day of the week and user type?"
   ]
  },
  {
   "cell_type": "code",
   "execution_count": 30,
   "metadata": {
    "slideshow": {
     "slide_type": "skip"
    }
   },
   "outputs": [
    {
     "data": {
      "image/png": "[encoded data removed]",
      "text/plain": [
       "<Figure size 1080x360 with 2 Axes>"
      ]
     },
     "metadata": {
      "needs_background": "light"
     },
     "output_type": "display_data"
    }
   ],
   "source": [
    "# figure size\n",
    "plt.rcParams[\"figure.figsize\"] = [15,5]\n",
    "# the plot\n",
    "df_clean.hist(column = 'start_day', by = 'user_type', bins = np.arange(8)-0.5)\n",
    "plt.suptitle('Trip Count by Day and User Type', fontsize = 14);"
   ]
  },
  {
   "cell_type": "markdown",
   "metadata": {
    "slideshow": {
     "slide_type": "slide"
    }
   },
   "source": [
    "## Trip Count by Day and User Type\n",
    "\n",
    "The plot shows us the trip count broken down by day of the week and user type.  For subscribers their highest trip counts are on Thursdays, while the customers highest trip counts are on Saturdays."
   ]
  },
  {
   "cell_type": "code",
   "execution_count": 31,
   "metadata": {
    "scrolled": false,
    "slideshow": {
     "slide_type": "subslide"
    }
   },
   "outputs": [
    {
     "data": {
      "image/png": "[encoded data removed]",
      "text/plain": [
       "<Figure size 629.125x360 with 1 Axes>"
      ]
     },
     "metadata": {
      "needs_background": "light"
     },
     "output_type": "display_data"
    }
   ],
   "source": [
    "# the plot\n",
    "sns.catplot(data = df_clean, x = 'start_day', kind = 'count', hue = 'user_type', height = 5, aspect = 1.5)\n",
    "# labels\n",
    "plt.title('Trip Count by Day and User Type')\n",
    "plt.xlabel('Day of Week')\n",
    "plt.ylabel('Count');"
   ]
  },
  {
   "cell_type": "markdown",
   "metadata": {
    "slideshow": {
     "slide_type": "skip"
    }
   },
   "source": [
    "How does the trip duration distribution vary between customers and subscribers?"
   ]
  },
  {
   "cell_type": "code",
   "execution_count": 32,
   "metadata": {
    "scrolled": false,
    "slideshow": {
     "slide_type": "skip"
    }
   },
   "outputs": [
    {
     "data": {
      "image/png": "[encoded data removed]",
      "text/plain": [
       "<Figure size 576x432 with 1 Axes>"
      ]
     },
     "metadata": {
      "needs_background": "light"
     },
     "output_type": "display_data"
    }
   ],
   "source": [
    "# remember that most of the data has duration_min less that 66.56 minutes\n",
    "data = df_clean[df_clean['duration_min'] < 70]\n",
    "# figure size\n",
    "plt.rcParams[\"figure.figsize\"] = [8,6]\n",
    "# the plot\n",
    "sns.violinplot(data = data, x = 'user_type', y = 'duration_min', color = base_color, inner = 'quartile')\n",
    "# labels\n",
    "plt.xlabel('User Type')\n",
    "plt.ylabel('Trip Duration (minutes)')\n",
    "plt.title('Trip Duration vs User Type');"
   ]
  },
  {
   "cell_type": "markdown",
   "metadata": {
    "slideshow": {
     "slide_type": "skip"
    }
   },
   "source": [
    "Subscribers generally take shorter rides than customers.  For subscribers, the widest part of the graph is around 5 minutes, while for customers, the widest part of the graph is around 9 minutes."
   ]
  },
  {
   "cell_type": "markdown",
   "metadata": {
    "slideshow": {
     "slide_type": "skip"
    }
   },
   "source": [
    "How does the trip duration vary between the days of the week?"
   ]
  },
  {
   "cell_type": "code",
   "execution_count": 33,
   "metadata": {
    "scrolled": false,
    "slideshow": {
     "slide_type": "skip"
    }
   },
   "outputs": [
    {
     "data": {
      "image/png": "[encoded data removed]",
      "text/plain": [
       "<Figure size 576x432 with 1 Axes>"
      ]
     },
     "metadata": {
      "needs_background": "light"
     },
     "output_type": "display_data"
    }
   ],
   "source": [
    "sns.barplot(data = df_clean, x = 'start_day', y = 'duration_min', color = base_color)\n",
    "plt.xlabel('Day')\n",
    "plt.ylabel('Average Trip Duration (minutes)')\n",
    "plt.title('Average Trip Duration vs Day');"
   ]
  },
  {
   "cell_type": "markdown",
   "metadata": {
    "slideshow": {
     "slide_type": "skip"
    }
   },
   "source": [
    "The trip durations are shorter Monday through Friday.  On the weekends, trips are longer.  Weekdays the trips last between 10-12.5 minutes, while on the weekends the trips last betwen 15-17.5 minutes."
   ]
  },
  {
   "cell_type": "markdown",
   "metadata": {
    "slideshow": {
     "slide_type": "skip"
    }
   },
   "source": [
    "### Talk about some of the relationships you observed in this part of the investigation.  How did the feature(s) of interest vary with other features in the dataset?\n",
    "\n",
    "There are more users taking trips during weekdays than they are on weekends.  On weekends the trip count peaks between 2-3 PM.  On weekdays, the trip count peaks at 8 AM and 5 PM.  Breaking this information down to vary between user types, I found that both customers and subscribers trip counts peak at 8 AM and 5 PM.  The difference is that there are more subscribers than there are customers.\n",
    "\n",
    "Lookin at the relationship between daily trip count and user type, it was shown that subscribers have high trip counts on Thursdays while customers have high trip counts on Saturdays.  Looking at the relationship between user type and trip duration, subscribers generally have shorter rides than customers.  Looking at the relationship between trip duration and day of the week, trip durations are shorter on weekdays than weekends.  On weekdays the trips last between 10-12.5 minutes, while one weekends the trips last betwee 15-17.5 minutes."
   ]
  },
  {
   "cell_type": "markdown",
   "metadata": {
    "slideshow": {
     "slide_type": "skip"
    }
   },
   "source": [
    "### Did you observe any interesting relationships between the other features (not the main feature(s) of interest)?\n",
    "\n",
    "It is interesting to see that the subscribers' trip count is the highest on Thursday."
   ]
  },
  {
   "cell_type": "markdown",
   "metadata": {
    "slideshow": {
     "slide_type": "skip"
    }
   },
   "source": [
    "<a id='multi'></a>\n",
    "## Multivariate Exploration"
   ]
  },
  {
   "cell_type": "markdown",
   "metadata": {
    "slideshow": {
     "slide_type": "skip"
    }
   },
   "source": [
    "How does the trip duration vary in days between customers and subscribers?"
   ]
  },
  {
   "cell_type": "markdown",
   "metadata": {
    "slideshow": {
     "slide_type": "slide"
    }
   },
   "source": [
    "## Average Trip Duration by Day and User Type\n",
    "\n",
    "Subscribers have much shorter trips than customers on each day.  Both user types have an increased trip duration on the weekends compared to the weekdays.  Subscribers have a consistent average trip duration during the weekdays."
   ]
  },
  {
   "cell_type": "code",
   "execution_count": 34,
   "metadata": {
    "scrolled": false,
    "slideshow": {
     "slide_type": "subslide"
    }
   },
   "outputs": [
    {
     "data": {
      "image/png": "[encoded data removed]",
      "text/plain": [
       "<Figure size 576x432 with 1 Axes>"
      ]
     },
     "metadata": {
      "needs_background": "light"
     },
     "output_type": "display_data"
    }
   ],
   "source": [
    "# the plot\n",
    "sns.pointplot(data = df_clean, x = 'start_day', y = 'duration_min', hue = 'user_type', linestyles = '')\n",
    "# labels\n",
    "plt.xlabel('Day')\n",
    "plt.ylabel('Average Trip Duration (minutes)')\n",
    "plt.title('Average Trip Duration by Day and User Type');"
   ]
  },
  {
   "cell_type": "markdown",
   "metadata": {
    "slideshow": {
     "slide_type": "skip"
    }
   },
   "source": [
    "How does the trip count vary by hour and day for the user types?"
   ]
  },
  {
   "cell_type": "markdown",
   "metadata": {
    "slideshow": {
     "slide_type": "slide"
    }
   },
   "source": [
    "## Trip Duration (min) by Day and Hour\n",
    "\n",
    "The heatmaps show that customers use the bikeshare service heavily on the weekends.  Customers use the service the most on Saturdays at 2 PM.  They also use the service a lot on Thursday at 5 PM.  Subscribers use the service mostly during the weekdays at 8 AM and 5 PM."
   ]
  },
  {
   "cell_type": "code",
   "execution_count": 35,
   "metadata": {
    "scrolled": true,
    "slideshow": {
     "slide_type": "subslide"
    }
   },
   "outputs": [
    {
     "data": {
      "image/png": "[encoded data removed]",
      "text/plain": [
       "<Figure size 1080x360 with 4 Axes>"
      ]
     },
     "metadata": {
      "needs_background": "light"
     },
     "output_type": "display_data"
    }
   ],
   "source": [
    "# figure size\n",
    "plt.figure(figsize = (15,5))\n",
    "# plot location\n",
    "plt.subplot(1,2,1)\n",
    "# separating customers and subscibers to different dataframes\n",
    "cus = df_clean.query('user_type == \"Customer\"')\n",
    "cus_counts = cus.groupby(['start_day', 'start_hour']).size()\n",
    "cus_counts = cus_counts.reset_index(name = 'count')\n",
    "cus_counts = cus_counts.pivot(index = 'start_day', columns = 'start_hour', values = 'count')\n",
    "# the plot\n",
    "sns.heatmap(cus_counts, cmap = 'rocket_r')\n",
    "# labels\n",
    "plt.title('Customer')\n",
    "plt.xlabel('Hour')\n",
    "plt.ylabel('Day');\n",
    "\n",
    "plt.subplot(1,2,2)\n",
    "sub = df_clean.query('user_type == \"Subscriber\"')\n",
    "sub_counts = sub.groupby(['start_day', 'start_hour']).size()\n",
    "sub_counts = sub_counts.reset_index(name = 'count')\n",
    "sub_counts = sub_counts.pivot(index = 'start_day', columns = 'start_hour', values = 'count')\n",
    "sns.heatmap(sub_counts, cmap = 'rocket_r')\n",
    "plt.title('Subscriber')\n",
    "plt.xlabel('Hour')\n",
    "plt.ylabel('Day')\n",
    "plt.suptitle('Trip Duration (min) by Day and Hour', fontsize = 14);"
   ]
  },
  {
   "cell_type": "markdown",
   "metadata": {
    "slideshow": {
     "slide_type": "skip"
    }
   },
   "source": [
    "### Talk about some of the relationships you observed in this part of the investigation.  Were there features that strengthened each other in terms of looking at your feature(s) of interest?\n",
    "\n",
    "In this part of the investigation, we found that subscribers have shorter trips than customers on a daily basis.  Both users have an increased trip duration on the weekends.  We also found that customers use the bikeshare service the most on Saturdays at 2 PM.  Subscribers use the service the most during weekdays around 8 AM and 5 PM.\n",
    "\n",
    "The multivariate exploration strengthened some of the patterns found earlier in the univariate and bivariate explorations.  There are more subscribers than customers.  Subscribers use the bikes mostly during the weekdays and generally have shorter trips.  Customers use the bikes mostly during the weekends and have longer trips than subscribers."
   ]
  },
  {
   "cell_type": "markdown",
   "metadata": {
    "slideshow": {
     "slide_type": "skip"
    }
   },
   "source": [
    "### Were there any interesting or surprising interactions between features?\n",
    "\n",
    "There were no surprising interactions between features."
   ]
  }
 ],
 "metadata": {
  "celltoolbar": "Slideshow",
  "kernelspec": {
   "display_name": "Python 3",
   "language": "python",
   "name": "python3"
  },
  "language_info": {
   "codemirror_mode": {
    "name": "ipython",
    "version": 3
   },
   "file_extension": ".py",
   "mimetype": "text/x-python",
   "name": "python",
   "nbconvert_exporter": "python",
   "pygments_lexer": "ipython3",
   "version": "3.6.9"
  }
 },
 "nbformat": 4,
 "nbformat_minor": 2
}
