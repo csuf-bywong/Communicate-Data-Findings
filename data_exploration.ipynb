{
 "cells": [
  {
   "cell_type": "markdown",
   "metadata": {},
   "source": [
    "# 2019 Bay Wheels' Trip Data Exploration and Visualization\n",
    "\n",
    "## Table of Contents\n",
    "- [Preliminary Wrangling](#wrangle)\n",
    "- [Cleaning](#clean)\n",
    "- [Univariate Exploration](#uni)\n",
    "- [Bivariate Exploration](#bi)\n",
    "- [Multivariate Exploration](#multi)\n",
    "\n",
    "<a id='wrangle'></a>\n",
    "## Preliminary Wrangling\n",
    "\n",
    "This document explores a dataset containing [information](https://www.lyft.com/bikes/bay-wheels/system-data) about individual rides made in [Bay Wheels](https://en.wikipedia.org/wiki/Bay_Wheels)' bike-sharing system covering the greater San Francisco Bay area.  The dataset is data from January 2019 and can be manually downloaded [here](https://s3.amazonaws.com/baywheels-data/index.html)."
   ]
  },
  {
   "cell_type": "code",
   "execution_count": 115,
   "metadata": {},
   "outputs": [],
   "source": [
    "# import all packages and set plots to be embedded inline\n",
    "import matplotlib.pyplot as plt\n",
    "import numpy as np\n",
    "import pandas as pd\n",
    "import seaborn as sns\n",
    "\n",
    "%matplotlib inline\n",
    "sns.set_style('darkgrid')"
   ]
  },
  {
   "cell_type": "code",
   "execution_count": 79,
   "metadata": {
    "scrolled": true
   },
   "outputs": [],
   "source": [
    "# load in the dataset into a pandas dataframe\n",
    "df = pd.read_csv('201901-fordgobike-tripdata.csv')"
   ]
  },
  {
   "cell_type": "code",
   "execution_count": 80,
   "metadata": {
    "scrolled": false
   },
   "outputs": [
    {
     "name": "stdout",
     "output_type": "stream",
     "text": [
      "(192082, 14)\n",
      "duration_sec                 int64\n",
      "start_time                  object\n",
      "end_time                    object\n",
      "start_station_id           float64\n",
      "start_station_name          object\n",
      "start_station_latitude     float64\n",
      "start_station_longitude    float64\n",
      "end_station_id             float64\n",
      "end_station_name            object\n",
      "end_station_latitude       float64\n",
      "end_station_longitude      float64\n",
      "bike_id                      int64\n",
      "user_type                   object\n",
      "bike_share_for_all_trip     object\n",
      "dtype: object\n"
     ]
    },
    {
     "data": {
      "text/html": [
       "<div>\n",
       "<style scoped>\n",
       "    .dataframe tbody tr th:only-of-type {\n",
       "        vertical-align: middle;\n",
       "    }\n",
       "\n",
       "    .dataframe tbody tr th {\n",
       "        vertical-align: top;\n",
       "    }\n",
       "\n",
       "    .dataframe thead th {\n",
       "        text-align: right;\n",
       "    }\n",
       "</style>\n",
       "<table border=\"1\" class=\"dataframe\">\n",
       "  <thead>\n",
       "    <tr style=\"text-align: right;\">\n",
       "      <th></th>\n",
       "      <th>duration_sec</th>\n",
       "      <th>start_time</th>\n",
       "      <th>end_time</th>\n",
       "      <th>start_station_id</th>\n",
       "      <th>start_station_name</th>\n",
       "      <th>start_station_latitude</th>\n",
       "      <th>start_station_longitude</th>\n",
       "      <th>end_station_id</th>\n",
       "      <th>end_station_name</th>\n",
       "      <th>end_station_latitude</th>\n",
       "      <th>end_station_longitude</th>\n",
       "      <th>bike_id</th>\n",
       "      <th>user_type</th>\n",
       "      <th>bike_share_for_all_trip</th>\n",
       "    </tr>\n",
       "  </thead>\n",
       "  <tbody>\n",
       "    <tr>\n",
       "      <td>120461</td>\n",
       "      <td>472</td>\n",
       "      <td>2019-01-14 17:39:41.8570</td>\n",
       "      <td>2019-01-14 17:47:33.8870</td>\n",
       "      <td>182.0</td>\n",
       "      <td>19th Street BART Station</td>\n",
       "      <td>37.809013</td>\n",
       "      <td>-122.268247</td>\n",
       "      <td>197.0</td>\n",
       "      <td>El Embarcadero at Grand Ave</td>\n",
       "      <td>37.808848</td>\n",
       "      <td>-122.249680</td>\n",
       "      <td>4550</td>\n",
       "      <td>Subscriber</td>\n",
       "      <td>No</td>\n",
       "    </tr>\n",
       "    <tr>\n",
       "      <td>118478</td>\n",
       "      <td>258</td>\n",
       "      <td>2019-01-14 21:43:42.1970</td>\n",
       "      <td>2019-01-14 21:48:00.9290</td>\n",
       "      <td>244.0</td>\n",
       "      <td>Shattuck Ave at Hearst Ave</td>\n",
       "      <td>37.873676</td>\n",
       "      <td>-122.268487</td>\n",
       "      <td>254.0</td>\n",
       "      <td>Vine St at Shattuck Ave</td>\n",
       "      <td>37.880222</td>\n",
       "      <td>-122.269592</td>\n",
       "      <td>1386</td>\n",
       "      <td>Subscriber</td>\n",
       "      <td>No</td>\n",
       "    </tr>\n",
       "    <tr>\n",
       "      <td>104205</td>\n",
       "      <td>244</td>\n",
       "      <td>2019-01-18 07:19:54.1410</td>\n",
       "      <td>2019-01-18 07:23:58.1430</td>\n",
       "      <td>218.0</td>\n",
       "      <td>DeFremery Park</td>\n",
       "      <td>37.812331</td>\n",
       "      <td>-122.285171</td>\n",
       "      <td>160.0</td>\n",
       "      <td>West Oakland BART Station</td>\n",
       "      <td>37.805318</td>\n",
       "      <td>-122.294837</td>\n",
       "      <td>4666</td>\n",
       "      <td>Customer</td>\n",
       "      <td>No</td>\n",
       "    </tr>\n",
       "    <tr>\n",
       "      <td>116474</td>\n",
       "      <td>412</td>\n",
       "      <td>2019-01-15 15:52:45.6720</td>\n",
       "      <td>2019-01-15 15:59:38.5870</td>\n",
       "      <td>336.0</td>\n",
       "      <td>Potrero Ave and Mariposa St</td>\n",
       "      <td>37.763281</td>\n",
       "      <td>-122.407377</td>\n",
       "      <td>67.0</td>\n",
       "      <td>San Francisco Caltrain Station 2  (Townsend St...</td>\n",
       "      <td>37.776639</td>\n",
       "      <td>-122.395526</td>\n",
       "      <td>4812</td>\n",
       "      <td>Subscriber</td>\n",
       "      <td>No</td>\n",
       "    </tr>\n",
       "    <tr>\n",
       "      <td>59219</td>\n",
       "      <td>223</td>\n",
       "      <td>2019-01-24 18:13:26.0950</td>\n",
       "      <td>2019-01-24 18:17:09.2900</td>\n",
       "      <td>247.0</td>\n",
       "      <td>Fulton St at Bancroft Way</td>\n",
       "      <td>37.867789</td>\n",
       "      <td>-122.265896</td>\n",
       "      <td>266.0</td>\n",
       "      <td>Parker St at Fulton St</td>\n",
       "      <td>37.862464</td>\n",
       "      <td>-122.264791</td>\n",
       "      <td>2281</td>\n",
       "      <td>Subscriber</td>\n",
       "      <td>Yes</td>\n",
       "    </tr>\n",
       "    <tr>\n",
       "      <td>165227</td>\n",
       "      <td>525</td>\n",
       "      <td>2019-01-07 13:32:45.2550</td>\n",
       "      <td>2019-01-07 13:41:31.1180</td>\n",
       "      <td>130.0</td>\n",
       "      <td>22nd St Caltrain Station</td>\n",
       "      <td>37.757718</td>\n",
       "      <td>-122.391813</td>\n",
       "      <td>30.0</td>\n",
       "      <td>San Francisco Caltrain (Townsend St at 4th St)</td>\n",
       "      <td>37.776598</td>\n",
       "      <td>-122.395282</td>\n",
       "      <td>4826</td>\n",
       "      <td>Subscriber</td>\n",
       "      <td>No</td>\n",
       "    </tr>\n",
       "    <tr>\n",
       "      <td>112915</td>\n",
       "      <td>773</td>\n",
       "      <td>2019-01-16 09:09:53.3930</td>\n",
       "      <td>2019-01-16 09:22:47.3380</td>\n",
       "      <td>30.0</td>\n",
       "      <td>San Francisco Caltrain (Townsend St at 4th St)</td>\n",
       "      <td>37.776598</td>\n",
       "      <td>-122.395282</td>\n",
       "      <td>25.0</td>\n",
       "      <td>Howard St at 2nd St</td>\n",
       "      <td>37.787522</td>\n",
       "      <td>-122.397405</td>\n",
       "      <td>1664</td>\n",
       "      <td>Subscriber</td>\n",
       "      <td>No</td>\n",
       "    </tr>\n",
       "    <tr>\n",
       "      <td>75523</td>\n",
       "      <td>488</td>\n",
       "      <td>2019-01-22 22:19:10.8380</td>\n",
       "      <td>2019-01-22 22:27:19.1430</td>\n",
       "      <td>223.0</td>\n",
       "      <td>16th St Mission BART Station 2</td>\n",
       "      <td>37.764765</td>\n",
       "      <td>-122.420091</td>\n",
       "      <td>114.0</td>\n",
       "      <td>Rhode Island St at 17th St</td>\n",
       "      <td>37.764478</td>\n",
       "      <td>-122.402570</td>\n",
       "      <td>1142</td>\n",
       "      <td>Subscriber</td>\n",
       "      <td>No</td>\n",
       "    </tr>\n",
       "    <tr>\n",
       "      <td>136047</td>\n",
       "      <td>5301</td>\n",
       "      <td>2019-01-11 11:39:49.1100</td>\n",
       "      <td>2019-01-11 13:08:10.7310</td>\n",
       "      <td>6.0</td>\n",
       "      <td>The Embarcadero at Sansome St</td>\n",
       "      <td>37.804770</td>\n",
       "      <td>-122.403234</td>\n",
       "      <td>6.0</td>\n",
       "      <td>The Embarcadero at Sansome St</td>\n",
       "      <td>37.804770</td>\n",
       "      <td>-122.403234</td>\n",
       "      <td>2410</td>\n",
       "      <td>Customer</td>\n",
       "      <td>No</td>\n",
       "    </tr>\n",
       "    <tr>\n",
       "      <td>188478</td>\n",
       "      <td>287</td>\n",
       "      <td>2019-01-02 08:58:47.2520</td>\n",
       "      <td>2019-01-02 09:03:34.4890</td>\n",
       "      <td>5.0</td>\n",
       "      <td>Powell St BART Station (Market St at 5th St)</td>\n",
       "      <td>37.783899</td>\n",
       "      <td>-122.408445</td>\n",
       "      <td>64.0</td>\n",
       "      <td>5th St at Brannan St</td>\n",
       "      <td>37.776754</td>\n",
       "      <td>-122.399018</td>\n",
       "      <td>1672</td>\n",
       "      <td>Subscriber</td>\n",
       "      <td>No</td>\n",
       "    </tr>\n",
       "  </tbody>\n",
       "</table>\n",
       "</div>"
      ],
      "text/plain": [
       "        duration_sec                start_time                  end_time  \\\n",
       "120461           472  2019-01-14 17:39:41.8570  2019-01-14 17:47:33.8870   \n",
       "118478           258  2019-01-14 21:43:42.1970  2019-01-14 21:48:00.9290   \n",
       "104205           244  2019-01-18 07:19:54.1410  2019-01-18 07:23:58.1430   \n",
       "116474           412  2019-01-15 15:52:45.6720  2019-01-15 15:59:38.5870   \n",
       "59219            223  2019-01-24 18:13:26.0950  2019-01-24 18:17:09.2900   \n",
       "165227           525  2019-01-07 13:32:45.2550  2019-01-07 13:41:31.1180   \n",
       "112915           773  2019-01-16 09:09:53.3930  2019-01-16 09:22:47.3380   \n",
       "75523            488  2019-01-22 22:19:10.8380  2019-01-22 22:27:19.1430   \n",
       "136047          5301  2019-01-11 11:39:49.1100  2019-01-11 13:08:10.7310   \n",
       "188478           287  2019-01-02 08:58:47.2520  2019-01-02 09:03:34.4890   \n",
       "\n",
       "        start_station_id                              start_station_name  \\\n",
       "120461             182.0                        19th Street BART Station   \n",
       "118478             244.0                      Shattuck Ave at Hearst Ave   \n",
       "104205             218.0                                  DeFremery Park   \n",
       "116474             336.0                     Potrero Ave and Mariposa St   \n",
       "59219              247.0                       Fulton St at Bancroft Way   \n",
       "165227             130.0                        22nd St Caltrain Station   \n",
       "112915              30.0  San Francisco Caltrain (Townsend St at 4th St)   \n",
       "75523              223.0                  16th St Mission BART Station 2   \n",
       "136047               6.0                   The Embarcadero at Sansome St   \n",
       "188478               5.0    Powell St BART Station (Market St at 5th St)   \n",
       "\n",
       "        start_station_latitude  start_station_longitude  end_station_id  \\\n",
       "120461               37.809013              -122.268247           197.0   \n",
       "118478               37.873676              -122.268487           254.0   \n",
       "104205               37.812331              -122.285171           160.0   \n",
       "116474               37.763281              -122.407377            67.0   \n",
       "59219                37.867789              -122.265896           266.0   \n",
       "165227               37.757718              -122.391813            30.0   \n",
       "112915               37.776598              -122.395282            25.0   \n",
       "75523                37.764765              -122.420091           114.0   \n",
       "136047               37.804770              -122.403234             6.0   \n",
       "188478               37.783899              -122.408445            64.0   \n",
       "\n",
       "                                         end_station_name  \\\n",
       "120461                        El Embarcadero at Grand Ave   \n",
       "118478                            Vine St at Shattuck Ave   \n",
       "104205                          West Oakland BART Station   \n",
       "116474  San Francisco Caltrain Station 2  (Townsend St...   \n",
       "59219                              Parker St at Fulton St   \n",
       "165227     San Francisco Caltrain (Townsend St at 4th St)   \n",
       "112915                                Howard St at 2nd St   \n",
       "75523                          Rhode Island St at 17th St   \n",
       "136047                      The Embarcadero at Sansome St   \n",
       "188478                               5th St at Brannan St   \n",
       "\n",
       "        end_station_latitude  end_station_longitude  bike_id   user_type  \\\n",
       "120461             37.808848            -122.249680     4550  Subscriber   \n",
       "118478             37.880222            -122.269592     1386  Subscriber   \n",
       "104205             37.805318            -122.294837     4666    Customer   \n",
       "116474             37.776639            -122.395526     4812  Subscriber   \n",
       "59219              37.862464            -122.264791     2281  Subscriber   \n",
       "165227             37.776598            -122.395282     4826  Subscriber   \n",
       "112915             37.787522            -122.397405     1664  Subscriber   \n",
       "75523              37.764478            -122.402570     1142  Subscriber   \n",
       "136047             37.804770            -122.403234     2410    Customer   \n",
       "188478             37.776754            -122.399018     1672  Subscriber   \n",
       "\n",
       "       bike_share_for_all_trip  \n",
       "120461                      No  \n",
       "118478                      No  \n",
       "104205                      No  \n",
       "116474                      No  \n",
       "59219                      Yes  \n",
       "165227                      No  \n",
       "112915                      No  \n",
       "75523                       No  \n",
       "136047                      No  \n",
       "188478                      No  "
      ]
     },
     "execution_count": 80,
     "metadata": {},
     "output_type": "execute_result"
    }
   ],
   "source": [
    "# high level overview of data shape and composition\n",
    "print(df.shape)\n",
    "print(df.dtypes)\n",
    "# i prefer looking at it through this instead of print(df.sample(10))\n",
    "df.sample(10)"
   ]
  },
  {
   "cell_type": "code",
   "execution_count": 81,
   "metadata": {
    "scrolled": false
   },
   "outputs": [
    {
     "data": {
      "text/html": [
       "<div>\n",
       "<style scoped>\n",
       "    .dataframe tbody tr th:only-of-type {\n",
       "        vertical-align: middle;\n",
       "    }\n",
       "\n",
       "    .dataframe tbody tr th {\n",
       "        vertical-align: top;\n",
       "    }\n",
       "\n",
       "    .dataframe thead th {\n",
       "        text-align: right;\n",
       "    }\n",
       "</style>\n",
       "<table border=\"1\" class=\"dataframe\">\n",
       "  <thead>\n",
       "    <tr style=\"text-align: right;\">\n",
       "      <th></th>\n",
       "      <th>duration_sec</th>\n",
       "      <th>start_station_id</th>\n",
       "      <th>start_station_latitude</th>\n",
       "      <th>start_station_longitude</th>\n",
       "      <th>end_station_id</th>\n",
       "      <th>end_station_latitude</th>\n",
       "      <th>end_station_longitude</th>\n",
       "      <th>bike_id</th>\n",
       "    </tr>\n",
       "  </thead>\n",
       "  <tbody>\n",
       "    <tr>\n",
       "      <td>count</td>\n",
       "      <td>192082.000000</td>\n",
       "      <td>191834.000000</td>\n",
       "      <td>192082.000000</td>\n",
       "      <td>192082.000000</td>\n",
       "      <td>191834.000000</td>\n",
       "      <td>192082.000000</td>\n",
       "      <td>192082.000000</td>\n",
       "      <td>192082.000000</td>\n",
       "    </tr>\n",
       "    <tr>\n",
       "      <td>mean</td>\n",
       "      <td>750.952473</td>\n",
       "      <td>132.841639</td>\n",
       "      <td>37.773438</td>\n",
       "      <td>-122.357820</td>\n",
       "      <td>131.218700</td>\n",
       "      <td>37.773570</td>\n",
       "      <td>-122.357419</td>\n",
       "      <td>4029.012609</td>\n",
       "    </tr>\n",
       "    <tr>\n",
       "      <td>std</td>\n",
       "      <td>1672.433843</td>\n",
       "      <td>109.662417</td>\n",
       "      <td>0.091433</td>\n",
       "      <td>0.109472</td>\n",
       "      <td>109.546275</td>\n",
       "      <td>0.091332</td>\n",
       "      <td>0.109058</td>\n",
       "      <td>1571.288901</td>\n",
       "    </tr>\n",
       "    <tr>\n",
       "      <td>min</td>\n",
       "      <td>61.000000</td>\n",
       "      <td>3.000000</td>\n",
       "      <td>37.317298</td>\n",
       "      <td>-122.453704</td>\n",
       "      <td>3.000000</td>\n",
       "      <td>37.317298</td>\n",
       "      <td>-122.453704</td>\n",
       "      <td>11.000000</td>\n",
       "    </tr>\n",
       "    <tr>\n",
       "      <td>25%</td>\n",
       "      <td>333.000000</td>\n",
       "      <td>43.000000</td>\n",
       "      <td>37.770407</td>\n",
       "      <td>-122.412408</td>\n",
       "      <td>41.000000</td>\n",
       "      <td>37.771058</td>\n",
       "      <td>-122.411726</td>\n",
       "      <td>3088.000000</td>\n",
       "    </tr>\n",
       "    <tr>\n",
       "      <td>50%</td>\n",
       "      <td>528.000000</td>\n",
       "      <td>98.000000</td>\n",
       "      <td>37.780955</td>\n",
       "      <td>-122.398438</td>\n",
       "      <td>95.000000</td>\n",
       "      <td>37.781010</td>\n",
       "      <td>-122.398436</td>\n",
       "      <td>4748.000000</td>\n",
       "    </tr>\n",
       "    <tr>\n",
       "      <td>75%</td>\n",
       "      <td>821.000000</td>\n",
       "      <td>211.000000</td>\n",
       "      <td>37.795913</td>\n",
       "      <td>-122.294837</td>\n",
       "      <td>203.000000</td>\n",
       "      <td>37.796248</td>\n",
       "      <td>-122.294837</td>\n",
       "      <td>5173.000000</td>\n",
       "    </tr>\n",
       "    <tr>\n",
       "      <td>max</td>\n",
       "      <td>84002.000000</td>\n",
       "      <td>385.000000</td>\n",
       "      <td>37.880222</td>\n",
       "      <td>-121.874119</td>\n",
       "      <td>385.000000</td>\n",
       "      <td>37.880222</td>\n",
       "      <td>-121.874119</td>\n",
       "      <td>6638.000000</td>\n",
       "    </tr>\n",
       "  </tbody>\n",
       "</table>\n",
       "</div>"
      ],
      "text/plain": [
       "        duration_sec  start_station_id  start_station_latitude  \\\n",
       "count  192082.000000     191834.000000           192082.000000   \n",
       "mean      750.952473        132.841639               37.773438   \n",
       "std      1672.433843        109.662417                0.091433   \n",
       "min        61.000000          3.000000               37.317298   \n",
       "25%       333.000000         43.000000               37.770407   \n",
       "50%       528.000000         98.000000               37.780955   \n",
       "75%       821.000000        211.000000               37.795913   \n",
       "max     84002.000000        385.000000               37.880222   \n",
       "\n",
       "       start_station_longitude  end_station_id  end_station_latitude  \\\n",
       "count            192082.000000   191834.000000         192082.000000   \n",
       "mean               -122.357820      131.218700             37.773570   \n",
       "std                   0.109472      109.546275              0.091332   \n",
       "min                -122.453704        3.000000             37.317298   \n",
       "25%                -122.412408       41.000000             37.771058   \n",
       "50%                -122.398438       95.000000             37.781010   \n",
       "75%                -122.294837      203.000000             37.796248   \n",
       "max                -121.874119      385.000000             37.880222   \n",
       "\n",
       "       end_station_longitude        bike_id  \n",
       "count          192082.000000  192082.000000  \n",
       "mean             -122.357419    4029.012609  \n",
       "std                 0.109058    1571.288901  \n",
       "min              -122.453704      11.000000  \n",
       "25%              -122.411726    3088.000000  \n",
       "50%              -122.398436    4748.000000  \n",
       "75%              -122.294837    5173.000000  \n",
       "max              -121.874119    6638.000000  "
      ]
     },
     "execution_count": 81,
     "metadata": {},
     "output_type": "execute_result"
    }
   ],
   "source": [
    "# descriive statistics for numeric variables\n",
    "df.describe()"
   ]
  },
  {
   "cell_type": "code",
   "execution_count": 82,
   "metadata": {
    "scrolled": false
   },
   "outputs": [
    {
     "name": "stdout",
     "output_type": "stream",
     "text": [
      "<class 'pandas.core.frame.DataFrame'>\n",
      "RangeIndex: 192082 entries, 0 to 192081\n",
      "Data columns (total 14 columns):\n",
      "duration_sec               192082 non-null int64\n",
      "start_time                 192082 non-null object\n",
      "end_time                   192082 non-null object\n",
      "start_station_id           191834 non-null float64\n",
      "start_station_name         191834 non-null object\n",
      "start_station_latitude     192082 non-null float64\n",
      "start_station_longitude    192082 non-null float64\n",
      "end_station_id             191834 non-null float64\n",
      "end_station_name           191834 non-null object\n",
      "end_station_latitude       192082 non-null float64\n",
      "end_station_longitude      192082 non-null float64\n",
      "bike_id                    192082 non-null int64\n",
      "user_type                  192082 non-null object\n",
      "bike_share_for_all_trip    192082 non-null object\n",
      "dtypes: float64(6), int64(2), object(6)\n",
      "memory usage: 20.5+ MB\n"
     ]
    }
   ],
   "source": [
    "df.info()"
   ]
  },
  {
   "cell_type": "code",
   "execution_count": 83,
   "metadata": {},
   "outputs": [
    {
     "data": {
      "text/plain": [
       "(str, str, str)"
      ]
     },
     "execution_count": 83,
     "metadata": {},
     "output_type": "execute_result"
    }
   ],
   "source": [
    "# investigate what those object types are\n",
    "type(df['start_time'][0]), type(df['end_time'][0]), type(df['start_station_name'][0])"
   ]
  },
  {
   "cell_type": "code",
   "execution_count": 84,
   "metadata": {
    "scrolled": true
   },
   "outputs": [
    {
     "data": {
      "text/plain": [
       "(str, str, str)"
      ]
     },
     "execution_count": 84,
     "metadata": {},
     "output_type": "execute_result"
    }
   ],
   "source": [
    "type(df['end_station_name'][0]), type(df['user_type'][0]), type(df['bike_share_for_all_trip'][0])"
   ]
  },
  {
   "cell_type": "markdown",
   "metadata": {},
   "source": [
    "Things to clean\n",
    "- missing data (null values)\n",
    "- start_time, end_time are str type and should be datetime objects\n",
    "- user_type is str and should be categorical type\n",
    "\n",
    "<a id='clean'></a>\n",
    "## Cleaning"
   ]
  },
  {
   "cell_type": "code",
   "execution_count": 85,
   "metadata": {},
   "outputs": [],
   "source": [
    "# before i do any cleaning, make a copy of the dataset\n",
    "df_clean = df.copy()"
   ]
  },
  {
   "cell_type": "code",
   "execution_count": 86,
   "metadata": {},
   "outputs": [
    {
     "data": {
      "text/plain": [
       "duration_sec                 0\n",
       "start_time                   0\n",
       "end_time                     0\n",
       "start_station_id           248\n",
       "start_station_name         248\n",
       "start_station_latitude       0\n",
       "start_station_longitude      0\n",
       "end_station_id             248\n",
       "end_station_name           248\n",
       "end_station_latitude         0\n",
       "end_station_longitude        0\n",
       "bike_id                      0\n",
       "user_type                    0\n",
       "bike_share_for_all_trip      0\n",
       "dtype: int64"
      ]
     },
     "execution_count": 86,
     "metadata": {},
     "output_type": "execute_result"
    }
   ],
   "source": [
    "# see how many null values there are in each column\n",
    "df_clean.isnull().sum()"
   ]
  },
  {
   "cell_type": "code",
   "execution_count": 87,
   "metadata": {
    "scrolled": true
   },
   "outputs": [
    {
     "data": {
      "text/html": [
       "<div>\n",
       "<style scoped>\n",
       "    .dataframe tbody tr th:only-of-type {\n",
       "        vertical-align: middle;\n",
       "    }\n",
       "\n",
       "    .dataframe tbody tr th {\n",
       "        vertical-align: top;\n",
       "    }\n",
       "\n",
       "    .dataframe thead th {\n",
       "        text-align: right;\n",
       "    }\n",
       "</style>\n",
       "<table border=\"1\" class=\"dataframe\">\n",
       "  <thead>\n",
       "    <tr style=\"text-align: right;\">\n",
       "      <th></th>\n",
       "      <th>duration_sec</th>\n",
       "      <th>start_time</th>\n",
       "      <th>end_time</th>\n",
       "      <th>start_station_id</th>\n",
       "      <th>start_station_name</th>\n",
       "      <th>start_station_latitude</th>\n",
       "      <th>start_station_longitude</th>\n",
       "      <th>end_station_id</th>\n",
       "      <th>end_station_name</th>\n",
       "      <th>end_station_latitude</th>\n",
       "      <th>end_station_longitude</th>\n",
       "      <th>bike_id</th>\n",
       "      <th>user_type</th>\n",
       "      <th>bike_share_for_all_trip</th>\n",
       "    </tr>\n",
       "  </thead>\n",
       "  <tbody>\n",
       "    <tr>\n",
       "      <td>2023</td>\n",
       "      <td>746</td>\n",
       "      <td>2019-01-31 18:21:27.0020</td>\n",
       "      <td>2019-01-31 18:33:53.0870</td>\n",
       "      <td>NaN</td>\n",
       "      <td>NaN</td>\n",
       "      <td>37.40</td>\n",
       "      <td>-121.92</td>\n",
       "      <td>NaN</td>\n",
       "      <td>NaN</td>\n",
       "      <td>37.41</td>\n",
       "      <td>-121.94</td>\n",
       "      <td>4244</td>\n",
       "      <td>Subscriber</td>\n",
       "      <td>No</td>\n",
       "    </tr>\n",
       "    <tr>\n",
       "      <td>2533</td>\n",
       "      <td>278</td>\n",
       "      <td>2019-01-31 18:00:28.2040</td>\n",
       "      <td>2019-01-31 18:05:07.0900</td>\n",
       "      <td>NaN</td>\n",
       "      <td>NaN</td>\n",
       "      <td>37.40</td>\n",
       "      <td>-121.94</td>\n",
       "      <td>NaN</td>\n",
       "      <td>NaN</td>\n",
       "      <td>37.40</td>\n",
       "      <td>-121.94</td>\n",
       "      <td>4249</td>\n",
       "      <td>Subscriber</td>\n",
       "      <td>Yes</td>\n",
       "    </tr>\n",
       "    <tr>\n",
       "      <td>3089</td>\n",
       "      <td>830</td>\n",
       "      <td>2019-01-31 17:23:59.3410</td>\n",
       "      <td>2019-01-31 17:37:50.0250</td>\n",
       "      <td>NaN</td>\n",
       "      <td>NaN</td>\n",
       "      <td>37.39</td>\n",
       "      <td>-121.93</td>\n",
       "      <td>NaN</td>\n",
       "      <td>NaN</td>\n",
       "      <td>37.40</td>\n",
       "      <td>-121.93</td>\n",
       "      <td>4208</td>\n",
       "      <td>Subscriber</td>\n",
       "      <td>No</td>\n",
       "    </tr>\n",
       "    <tr>\n",
       "      <td>5264</td>\n",
       "      <td>562</td>\n",
       "      <td>2019-01-31 13:29:18.5250</td>\n",
       "      <td>2019-01-31 13:38:41.0210</td>\n",
       "      <td>NaN</td>\n",
       "      <td>NaN</td>\n",
       "      <td>37.40</td>\n",
       "      <td>-121.93</td>\n",
       "      <td>NaN</td>\n",
       "      <td>NaN</td>\n",
       "      <td>37.39</td>\n",
       "      <td>-121.93</td>\n",
       "      <td>4208</td>\n",
       "      <td>Subscriber</td>\n",
       "      <td>No</td>\n",
       "    </tr>\n",
       "    <tr>\n",
       "      <td>5833</td>\n",
       "      <td>1676</td>\n",
       "      <td>2019-01-31 11:36:57.0450</td>\n",
       "      <td>2019-01-31 12:04:53.5010</td>\n",
       "      <td>NaN</td>\n",
       "      <td>NaN</td>\n",
       "      <td>37.40</td>\n",
       "      <td>-121.94</td>\n",
       "      <td>NaN</td>\n",
       "      <td>NaN</td>\n",
       "      <td>37.40</td>\n",
       "      <td>-121.94</td>\n",
       "      <td>4251</td>\n",
       "      <td>Customer</td>\n",
       "      <td>No</td>\n",
       "    </tr>\n",
       "    <tr>\n",
       "      <td>...</td>\n",
       "      <td>...</td>\n",
       "      <td>...</td>\n",
       "      <td>...</td>\n",
       "      <td>...</td>\n",
       "      <td>...</td>\n",
       "      <td>...</td>\n",
       "      <td>...</td>\n",
       "      <td>...</td>\n",
       "      <td>...</td>\n",
       "      <td>...</td>\n",
       "      <td>...</td>\n",
       "      <td>...</td>\n",
       "      <td>...</td>\n",
       "      <td>...</td>\n",
       "    </tr>\n",
       "    <tr>\n",
       "      <td>189156</td>\n",
       "      <td>511</td>\n",
       "      <td>2019-01-02 07:54:41.6600</td>\n",
       "      <td>2019-01-02 08:03:12.7790</td>\n",
       "      <td>NaN</td>\n",
       "      <td>NaN</td>\n",
       "      <td>37.40</td>\n",
       "      <td>-121.93</td>\n",
       "      <td>NaN</td>\n",
       "      <td>NaN</td>\n",
       "      <td>37.40</td>\n",
       "      <td>-121.94</td>\n",
       "      <td>4148</td>\n",
       "      <td>Customer</td>\n",
       "      <td>No</td>\n",
       "    </tr>\n",
       "    <tr>\n",
       "      <td>190675</td>\n",
       "      <td>2327</td>\n",
       "      <td>2019-01-01 14:57:03.2250</td>\n",
       "      <td>2019-01-01 15:35:51.1660</td>\n",
       "      <td>NaN</td>\n",
       "      <td>NaN</td>\n",
       "      <td>37.41</td>\n",
       "      <td>-121.94</td>\n",
       "      <td>NaN</td>\n",
       "      <td>NaN</td>\n",
       "      <td>37.41</td>\n",
       "      <td>-121.94</td>\n",
       "      <td>4092</td>\n",
       "      <td>Customer</td>\n",
       "      <td>No</td>\n",
       "    </tr>\n",
       "    <tr>\n",
       "      <td>191155</td>\n",
       "      <td>1933</td>\n",
       "      <td>2019-01-01 13:01:32.3650</td>\n",
       "      <td>2019-01-01 13:33:45.6660</td>\n",
       "      <td>NaN</td>\n",
       "      <td>NaN</td>\n",
       "      <td>37.41</td>\n",
       "      <td>-121.96</td>\n",
       "      <td>NaN</td>\n",
       "      <td>NaN</td>\n",
       "      <td>37.41</td>\n",
       "      <td>-121.96</td>\n",
       "      <td>4095</td>\n",
       "      <td>Customer</td>\n",
       "      <td>No</td>\n",
       "    </tr>\n",
       "    <tr>\n",
       "      <td>191642</td>\n",
       "      <td>667</td>\n",
       "      <td>2019-01-01 10:38:15.8460</td>\n",
       "      <td>2019-01-01 10:49:23.6680</td>\n",
       "      <td>NaN</td>\n",
       "      <td>NaN</td>\n",
       "      <td>37.41</td>\n",
       "      <td>-121.94</td>\n",
       "      <td>NaN</td>\n",
       "      <td>NaN</td>\n",
       "      <td>37.41</td>\n",
       "      <td>-121.94</td>\n",
       "      <td>4121</td>\n",
       "      <td>Subscriber</td>\n",
       "      <td>No</td>\n",
       "    </tr>\n",
       "    <tr>\n",
       "      <td>191650</td>\n",
       "      <td>27230</td>\n",
       "      <td>2019-01-01 03:12:08.7790</td>\n",
       "      <td>2019-01-01 10:45:59.6000</td>\n",
       "      <td>NaN</td>\n",
       "      <td>NaN</td>\n",
       "      <td>37.41</td>\n",
       "      <td>-121.96</td>\n",
       "      <td>NaN</td>\n",
       "      <td>NaN</td>\n",
       "      <td>37.40</td>\n",
       "      <td>-121.93</td>\n",
       "      <td>4162</td>\n",
       "      <td>Customer</td>\n",
       "      <td>No</td>\n",
       "    </tr>\n",
       "  </tbody>\n",
       "</table>\n",
       "<p>248 rows × 14 columns</p>\n",
       "</div>"
      ],
      "text/plain": [
       "        duration_sec                start_time                  end_time  \\\n",
       "2023             746  2019-01-31 18:21:27.0020  2019-01-31 18:33:53.0870   \n",
       "2533             278  2019-01-31 18:00:28.2040  2019-01-31 18:05:07.0900   \n",
       "3089             830  2019-01-31 17:23:59.3410  2019-01-31 17:37:50.0250   \n",
       "5264             562  2019-01-31 13:29:18.5250  2019-01-31 13:38:41.0210   \n",
       "5833            1676  2019-01-31 11:36:57.0450  2019-01-31 12:04:53.5010   \n",
       "...              ...                       ...                       ...   \n",
       "189156           511  2019-01-02 07:54:41.6600  2019-01-02 08:03:12.7790   \n",
       "190675          2327  2019-01-01 14:57:03.2250  2019-01-01 15:35:51.1660   \n",
       "191155          1933  2019-01-01 13:01:32.3650  2019-01-01 13:33:45.6660   \n",
       "191642           667  2019-01-01 10:38:15.8460  2019-01-01 10:49:23.6680   \n",
       "191650         27230  2019-01-01 03:12:08.7790  2019-01-01 10:45:59.6000   \n",
       "\n",
       "        start_station_id start_station_name  start_station_latitude  \\\n",
       "2023                 NaN                NaN                   37.40   \n",
       "2533                 NaN                NaN                   37.40   \n",
       "3089                 NaN                NaN                   37.39   \n",
       "5264                 NaN                NaN                   37.40   \n",
       "5833                 NaN                NaN                   37.40   \n",
       "...                  ...                ...                     ...   \n",
       "189156               NaN                NaN                   37.40   \n",
       "190675               NaN                NaN                   37.41   \n",
       "191155               NaN                NaN                   37.41   \n",
       "191642               NaN                NaN                   37.41   \n",
       "191650               NaN                NaN                   37.41   \n",
       "\n",
       "        start_station_longitude  end_station_id end_station_name  \\\n",
       "2023                    -121.92             NaN              NaN   \n",
       "2533                    -121.94             NaN              NaN   \n",
       "3089                    -121.93             NaN              NaN   \n",
       "5264                    -121.93             NaN              NaN   \n",
       "5833                    -121.94             NaN              NaN   \n",
       "...                         ...             ...              ...   \n",
       "189156                  -121.93             NaN              NaN   \n",
       "190675                  -121.94             NaN              NaN   \n",
       "191155                  -121.96             NaN              NaN   \n",
       "191642                  -121.94             NaN              NaN   \n",
       "191650                  -121.96             NaN              NaN   \n",
       "\n",
       "        end_station_latitude  end_station_longitude  bike_id   user_type  \\\n",
       "2023                   37.41                -121.94     4244  Subscriber   \n",
       "2533                   37.40                -121.94     4249  Subscriber   \n",
       "3089                   37.40                -121.93     4208  Subscriber   \n",
       "5264                   37.39                -121.93     4208  Subscriber   \n",
       "5833                   37.40                -121.94     4251    Customer   \n",
       "...                      ...                    ...      ...         ...   \n",
       "189156                 37.40                -121.94     4148    Customer   \n",
       "190675                 37.41                -121.94     4092    Customer   \n",
       "191155                 37.41                -121.96     4095    Customer   \n",
       "191642                 37.41                -121.94     4121  Subscriber   \n",
       "191650                 37.40                -121.93     4162    Customer   \n",
       "\n",
       "       bike_share_for_all_trip  \n",
       "2023                        No  \n",
       "2533                       Yes  \n",
       "3089                        No  \n",
       "5264                        No  \n",
       "5833                        No  \n",
       "...                        ...  \n",
       "189156                      No  \n",
       "190675                      No  \n",
       "191155                      No  \n",
       "191642                      No  \n",
       "191650                      No  \n",
       "\n",
       "[248 rows x 14 columns]"
      ]
     },
     "execution_count": 87,
     "metadata": {},
     "output_type": "execute_result"
    }
   ],
   "source": [
    "# look at the rows where there are null values\n",
    "df_clean[df_clean.start_station_id.isnull() == True]"
   ]
  },
  {
   "cell_type": "code",
   "execution_count": 88,
   "metadata": {
    "scrolled": true
   },
   "outputs": [
    {
     "data": {
      "text/plain": [
       "duration_sec               0\n",
       "start_time                 0\n",
       "end_time                   0\n",
       "start_station_id           0\n",
       "start_station_name         0\n",
       "start_station_latitude     0\n",
       "start_station_longitude    0\n",
       "end_station_id             0\n",
       "end_station_name           0\n",
       "end_station_latitude       0\n",
       "end_station_longitude      0\n",
       "bike_id                    0\n",
       "user_type                  0\n",
       "bike_share_for_all_trip    0\n",
       "dtype: int64"
      ]
     },
     "execution_count": 88,
     "metadata": {},
     "output_type": "execute_result"
    }
   ],
   "source": [
    "# after looking at the nulls, i decided i'll just remove them\n",
    "# remove the rows where start_station_id is null\n",
    "df_clean = df_clean[df_clean.start_station_id.isnull() == False]\n",
    "# check to see if there are still columns with nulls\n",
    "df_clean.isnull().sum()"
   ]
  },
  {
   "cell_type": "code",
   "execution_count": 89,
   "metadata": {},
   "outputs": [
    {
     "data": {
      "text/plain": [
       "0"
      ]
     },
     "execution_count": 89,
     "metadata": {},
     "output_type": "execute_result"
    }
   ],
   "source": [
    "# check for duplicate rows\n",
    "df_clean.duplicated().sum()"
   ]
  },
  {
   "cell_type": "code",
   "execution_count": 90,
   "metadata": {},
   "outputs": [],
   "source": [
    "# convert start_time and end_time to datetime objects\n",
    "df_clean.start_time = pd.to_datetime(df_clean.start_time)\n",
    "df_clean.end_time = pd.to_datetime(df_clean.end_time)\n",
    "\n",
    "# convert user_type to categorical type\n",
    "df_clean.user_type = df_clean.user_type.astype('category')"
   ]
  },
  {
   "cell_type": "code",
   "execution_count": 91,
   "metadata": {
    "scrolled": true
   },
   "outputs": [
    {
     "name": "stdout",
     "output_type": "stream",
     "text": [
      "<class 'pandas.core.frame.DataFrame'>\n",
      "Int64Index: 191834 entries, 0 to 192081\n",
      "Data columns (total 14 columns):\n",
      "duration_sec               191834 non-null int64\n",
      "start_time                 191834 non-null datetime64[ns]\n",
      "end_time                   191834 non-null datetime64[ns]\n",
      "start_station_id           191834 non-null float64\n",
      "start_station_name         191834 non-null object\n",
      "start_station_latitude     191834 non-null float64\n",
      "start_station_longitude    191834 non-null float64\n",
      "end_station_id             191834 non-null float64\n",
      "end_station_name           191834 non-null object\n",
      "end_station_latitude       191834 non-null float64\n",
      "end_station_longitude      191834 non-null float64\n",
      "bike_id                    191834 non-null int64\n",
      "user_type                  191834 non-null category\n",
      "bike_share_for_all_trip    191834 non-null object\n",
      "dtypes: category(1), datetime64[ns](2), float64(6), int64(2), object(3)\n",
      "memory usage: 20.7+ MB\n"
     ]
    }
   ],
   "source": [
    "#check if it converted properly\n",
    "df_clean.info()"
   ]
  },
  {
   "cell_type": "markdown",
   "metadata": {},
   "source": [
    "### What is the structure of your dataset?\n",
    "\n",
    "There are 191,834 individual trip records with 14 variables.  The variables can be broken into 3 categories.\n",
    "\n",
    "Trip duration: duration_sec, start_time, end_time\n",
    "\n",
    "Station info: start_station_id, start_station_name, start_station_latitude, start_station_longitude, end_station_id, end_station_name, end_station_latitude, end_station_longitude\n",
    "\n",
    "User info: bike_id, user_type, bike_share_for_all_trip  "
   ]
  },
  {
   "cell_type": "markdown",
   "metadata": {},
   "source": [
    "### What is/are the main feature(s) of interest in your dataset?\n",
    "\n",
    "I'm most interested in trip duration, which days are the busiest, and whether membership affects trip duration."
   ]
  },
  {
   "cell_type": "markdown",
   "metadata": {},
   "source": [
    "### What features in the dataset do you think will help support your investigation into your feature(s) of interest?\n",
    "\n",
    "start_time and end_time will be useful in understanding how long a trip would take.  It would also be useful in determining which days are the busiest.  user_type will be useful in determining whether being a subscriber or casual user affects the trip duration."
   ]
  },
  {
   "cell_type": "markdown",
   "metadata": {},
   "source": [
    "<a id='uni'></a>\n",
    "## Univariate Exploration"
   ]
  },
  {
   "cell_type": "markdown",
   "metadata": {},
   "source": [
    "First I'll look at the distribution of duration_sec."
   ]
  },
  {
   "cell_type": "code",
   "execution_count": 153,
   "metadata": {
    "scrolled": true
   },
   "outputs": [
    {
     "data": {
      "image/png": "[encoded data removed]",
      "text/plain": [
       "<Figure size 432x288 with 1 Axes>"
      ]
     },
     "metadata": {},
     "output_type": "display_data"
    }
   ],
   "source": [
    "# set axis labels and title\n",
    "plt.xlabel('Trip Duration in Seconds')\n",
    "plt.ylabel('Count')\n",
    "plt.title('Trip Count vs Trip Duration in Seconds')\n",
    "\n",
    "# plot the data\n",
    "plt.hist(data = df_clean, x = 'duration_sec');"
   ]
  },
  {
   "cell_type": "markdown",
   "metadata": {},
   "source": [
    "For the x axis to span to 80000 seconds, there must be some outliers that aren't visible."
   ]
  },
  {
   "cell_type": "code",
   "execution_count": 118,
   "metadata": {
    "scrolled": true
   },
   "outputs": [],
   "source": [
    "# for the sake of easier understanding, i will create a duration_min column\n",
    "df_clean['duration_min'] = df_clean.duration_sec / 60"
   ]
  },
  {
   "cell_type": "code",
   "execution_count": 110,
   "metadata": {},
   "outputs": [
    {
     "data": {
      "text/plain": [
       "count    191834.000000\n",
       "mean         12.504311\n",
       "std          27.835413\n",
       "min           1.016667\n",
       "50%           8.800000\n",
       "99%          66.561167\n",
       "max        1400.033333\n",
       "Name: duration_sec, dtype: float64"
      ]
     },
     "execution_count": 110,
     "metadata": {},
     "output_type": "execute_result"
    }
   ],
   "source": [
    "df_clean.duration_min.describe(percentiles=[.99])"
   ]
  },
  {
   "cell_type": "code",
   "execution_count": 152,
   "metadata": {
    "scrolled": false
   },
   "outputs": [
    {
     "data": {
      "image/png": "[encoded data removed]",
      "text/plain": [
       "<Figure size 576x432 with 1 Axes>"
      ]
     },
     "metadata": {},
     "output_type": "display_data"
    }
   ],
   "source": [
    "# set the size of the plot\n",
    "plt.figure(figsize = (8, 6))\n",
    "\n",
    "# set the bin size and x tick size\n",
    "bins = np.arange(0, 67, 1)\n",
    "ticks = np.arange(0, 67 , 5)\n",
    "\n",
    "# set the x ticks\n",
    "plt.xticks(ticks, ticks)\n",
    "# set the axis labels and title\n",
    "plt.xlabel('Trip Duration in Minutes')\n",
    "plt.ylabel('Count')\n",
    "plt.title('Trip Count vs Trip Duration in Minutes')\n",
    "\n",
    "# plot the data\n",
    "plt.hist(data = df_clean, x = 'duration_min', bins = bins);"
   ]
  },
  {
   "cell_type": "markdown",
   "metadata": {},
   "source": [
    "We can see that 99% of the trips were less than one hour in duration.  Most the the trips fell between the 5 and 10 minute range."
   ]
  },
  {
   "cell_type": "code",
   "execution_count": 131,
   "metadata": {},
   "outputs": [],
   "source": [
    "# using the start_time, i can extract days and hours\n",
    "df_clean['start_hourofday'] = df_clean.start_time.dt.hour\n",
    "df_clean['start_dayofweek'] = df_clean.start_time.dt.strftime('%A')"
   ]
  },
  {
   "cell_type": "code",
   "execution_count": 244,
   "metadata": {
    "scrolled": false
   },
   "outputs": [
    {
     "data": {
      "text/html": [
       "<div>\n",
       "<style scoped>\n",
       "    .dataframe tbody tr th:only-of-type {\n",
       "        vertical-align: middle;\n",
       "    }\n",
       "\n",
       "    .dataframe tbody tr th {\n",
       "        vertical-align: top;\n",
       "    }\n",
       "\n",
       "    .dataframe thead th {\n",
       "        text-align: right;\n",
       "    }\n",
       "</style>\n",
       "<table border=\"1\" class=\"dataframe\">\n",
       "  <thead>\n",
       "    <tr style=\"text-align: right;\">\n",
       "      <th></th>\n",
       "      <th>duration_sec</th>\n",
       "      <th>start_time</th>\n",
       "      <th>end_time</th>\n",
       "      <th>start_station_id</th>\n",
       "      <th>start_station_name</th>\n",
       "      <th>start_station_latitude</th>\n",
       "      <th>start_station_longitude</th>\n",
       "      <th>end_station_id</th>\n",
       "      <th>end_station_name</th>\n",
       "      <th>end_station_latitude</th>\n",
       "      <th>end_station_longitude</th>\n",
       "      <th>bike_id</th>\n",
       "      <th>user_type</th>\n",
       "      <th>bike_share_for_all_trip</th>\n",
       "      <th>duration_min</th>\n",
       "      <th>start_hourofday</th>\n",
       "      <th>start_dayofweek</th>\n",
       "    </tr>\n",
       "  </thead>\n",
       "  <tbody>\n",
       "    <tr>\n",
       "      <td>161858</td>\n",
       "      <td>701</td>\n",
       "      <td>2019-01-07 20:04:45.249</td>\n",
       "      <td>2019-01-07 20:16:26.934</td>\n",
       "      <td>251.0</td>\n",
       "      <td>California St at University Ave</td>\n",
       "      <td>37.870555</td>\n",
       "      <td>-122.27972</td>\n",
       "      <td>269.0</td>\n",
       "      <td>Telegraph Ave at Carleton St</td>\n",
       "      <td>37.86232</td>\n",
       "      <td>-122.258801</td>\n",
       "      <td>4865</td>\n",
       "      <td>Subscriber</td>\n",
       "      <td>No</td>\n",
       "      <td>11.683333</td>\n",
       "      <td>20</td>\n",
       "      <td>Monday</td>\n",
       "    </tr>\n",
       "  </tbody>\n",
       "</table>\n",
       "</div>"
      ],
      "text/plain": [
       "        duration_sec              start_time                end_time  \\\n",
       "161858           701 2019-01-07 20:04:45.249 2019-01-07 20:16:26.934   \n",
       "\n",
       "        start_station_id               start_station_name  \\\n",
       "161858             251.0  California St at University Ave   \n",
       "\n",
       "        start_station_latitude  start_station_longitude  end_station_id  \\\n",
       "161858               37.870555               -122.27972           269.0   \n",
       "\n",
       "                    end_station_name  end_station_latitude  \\\n",
       "161858  Telegraph Ave at Carleton St              37.86232   \n",
       "\n",
       "        end_station_longitude  bike_id   user_type bike_share_for_all_trip  \\\n",
       "161858            -122.258801     4865  Subscriber                      No   \n",
       "\n",
       "        duration_min  start_hourofday start_dayofweek  \n",
       "161858     11.683333               20          Monday  "
      ]
     },
     "execution_count": 244,
     "metadata": {},
     "output_type": "execute_result"
    }
   ],
   "source": [
    "# i'm just checking to see if it worked\n",
    "df_clean.sample(1)"
   ]
  },
  {
   "cell_type": "code",
   "execution_count": 137,
   "metadata": {},
   "outputs": [],
   "source": [
    "# i'm going to convert start_dayofweek to an ordered categorical datatype\n",
    "day = ['Sunday', 'Monday', 'Tuesday', 'Wednesday', 'Thursday', 'Friday', 'Saturday']\n",
    "categorical_day = pd.api.types.CategoricalDtype(ordered = True, categories = day)\n",
    "df_clean.start_dayofweek = df_clean.start_dayofweek.astype(categorical_day)"
   ]
  },
  {
   "cell_type": "code",
   "execution_count": 138,
   "metadata": {},
   "outputs": [
    {
     "data": {
      "text/plain": [
       "duration_sec                        int64\n",
       "start_time                 datetime64[ns]\n",
       "end_time                   datetime64[ns]\n",
       "start_station_id                  float64\n",
       "start_station_name                 object\n",
       "start_station_latitude            float64\n",
       "start_station_longitude           float64\n",
       "end_station_id                    float64\n",
       "end_station_name                   object\n",
       "end_station_latitude              float64\n",
       "end_station_longitude             float64\n",
       "bike_id                             int64\n",
       "user_type                        category\n",
       "bike_share_for_all_trip            object\n",
       "duration_min                      float64\n",
       "start_hourofday                     int64\n",
       "start_dayofweek                  category\n",
       "dtype: object"
      ]
     },
     "execution_count": 138,
     "metadata": {},
     "output_type": "execute_result"
    }
   ],
   "source": [
    "# checking if it worked\n",
    "df_clean.dtypes"
   ]
  },
  {
   "cell_type": "markdown",
   "metadata": {},
   "source": [
    "Now I want to look at the distribution of trip on days of a week."
   ]
  },
  {
   "cell_type": "code",
   "execution_count": 149,
   "metadata": {
    "scrolled": false
   },
   "outputs": [
    {
     "data": {
      "image/png": "[encoded data removed]",
      "text/plain": [
       "<Figure size 576x432 with 1 Axes>"
      ]
     },
     "metadata": {},
     "output_type": "display_data"
    }
   ],
   "source": [
    "# set the size of the plot\n",
    "plt.figure(figsize = (8, 6))\n",
    "\n",
    "# set colors in the plot\n",
    "base_color = sns.color_palette()[0]\n",
    "\n",
    "# this is the plot\n",
    "ax = sns.countplot(data = df_clean, x = 'start_dayofweek', color = base_color)\n",
    "\n",
    "# set axis labels and title\n",
    "ax.set(xlabel = 'Day of the Week', ylabel = 'Count', title = 'Trip Count vs Day of the Week')\n",
    "\n",
    "# show the plot\n",
    "plt.show()"
   ]
  },
  {
   "cell_type": "markdown",
   "metadata": {},
   "source": [
    "We can see that most of the trips happen during the weekdays.  There are less trips happening during the weekend.  Maybe when the trips happen is causing this?  Let's look at the distribution of trips over the hours in a day."
   ]
  },
  {
   "cell_type": "code",
   "execution_count": 150,
   "metadata": {
    "scrolled": false
   },
   "outputs": [
    {
     "data": {
      "image/png": "[encoded data removed]",
      "text/plain": [
       "<Figure size 576x432 with 1 Axes>"
      ]
     },
     "metadata": {},
     "output_type": "display_data"
    }
   ],
   "source": [
    "# set the figure size\n",
    "plt.figure(figsize = (8, 6))\n",
    "\n",
    "# this is the plot\n",
    "ax = sns.countplot(data = df_clean, x = 'start_hourofday', color = base_color)\n",
    "\n",
    "# set axis labels and title\n",
    "ax.set(xlabel = 'Hour of the Day', ylabel = 'Count', title = 'Trip Count vs Hour of the Day')\n",
    "\n",
    "# show the plot\n",
    "plt.show()"
   ]
  },
  {
   "cell_type": "markdown",
   "metadata": {},
   "source": [
    "We can see two peaks in the data.  The first peak is at 8 AM, and the second peak is at 5 PM.  It is possible that those trips are users commuting to work.  We can't say that for certain as we would need more personalized data, and we don't have that type of data since our dataset was anonymized to preserve privacy.  Though if it is really because of work commute, it would be in line with the Trip Count vs Day of the Week plot earlier.  Monday through Friday had more trips and those are the normal work days.  After those two graphs, it made me think about plotting the number of trips on each day and hour.  The result is the plot below."
   ]
  },
  {
   "cell_type": "code",
   "execution_count": 265,
   "metadata": {},
   "outputs": [
    {
     "data": {
      "image/png": "[encoded data removed]",
      "text/plain": [
       "<Figure size 1440x1080 with 9 Axes>"
      ]
     },
     "metadata": {},
     "output_type": "display_data"
    }
   ],
   "source": [
    "plt.rcParams[\"figure.figsize\"] = [20,15]\n",
    "df_clean.hist(column = 'start_hourofday', by = 'start_dayofweek', bins = bins24);"
   ]
  },
  {
   "cell_type": "markdown",
   "metadata": {},
   "source": [
    "Please first notice that the y-axis for each histogram is not the same scale.  I tried to find a way to set the same scale, but I failed to find a solution.  This plot shows histograms for each day.  Each day's trip count is distributed over the hour of the day.  For each day, we can see which time periods have higher trip counts.\n",
    "\n",
    "On Sundays and Saturdays, we can see that the trip count is highest between 2-3 PM.  Mondays through Fridays, you can see two peaks.  The first peak is at 8 AM and the second peak is at 5 PM.  The two peak times match the two peak times in Trip Count vs Hour of the Day.  If it is not obvious that Mondays - Fridays have higher trip counts than Saturdays and Sundays, then the earlier Trip Count vs Day of the Week plot would support that."
   ]
  },
  {
   "cell_type": "markdown",
   "metadata": {},
   "source": [
    "Let's also look at the user_type."
   ]
  },
  {
   "cell_type": "code",
   "execution_count": 264,
   "metadata": {
    "scrolled": false
   },
   "outputs": [
    {
     "data": {
      "image/png": "[encoded data removed]",
      "text/plain": [
       "<Figure size 576x360 with 1 Axes>"
      ]
     },
     "metadata": {},
     "output_type": "display_data"
    },
    {
     "name": "stdout",
     "output_type": "stream",
     "text": [
      "Subscriber    168561\n",
      "Customer       23273\n",
      "Name: user_type, dtype: int64\n"
     ]
    }
   ],
   "source": [
    "# set the figure size\n",
    "plt.figure(figsize = (8,5))\n",
    "\n",
    "# this is the plot\n",
    "ax = sns.countplot(data = df_clean, x = 'user_type', color = base_color)\n",
    "\n",
    "# set labels and title\n",
    "ax.set(xlabel = 'User Type', ylabel = 'Count', title = 'Trip Count vs User Type')\n",
    "\n",
    "# show the plot\n",
    "plt.show()\n",
    "print(df_clean['user_type'].value_counts())"
   ]
  },
  {
   "cell_type": "markdown",
   "metadata": {},
   "source": [
    "We can see that there are more subscribers than there are customers.  Subscribers are users that are actual members of the "
   ]
  },
  {
   "cell_type": "code",
   "execution_count": 260,
   "metadata": {},
   "outputs": [
    {
     "data": {
      "image/png": "[encoded data removed]",
      "text/plain": [
       "<Figure size 1080x360 with 2 Axes>"
      ]
     },
     "metadata": {},
     "output_type": "display_data"
    }
   ],
   "source": [
    "plt.rcParams[\"figure.figsize\"] = [15,5]\n",
    "bins24 = np.arange(25)-0.5\n",
    "df_clean.hist(column = 'start_hourofday', by = 'user_type', bins = bins24);"
   ]
  },
  {
   "cell_type": "markdown",
   "metadata": {},
   "source": [
    "### Discuss the distribution(s) of your variable(s) of interest.  Were there any unusual points?  Did you need to perform any tranformations?"
   ]
  },
  {
   "cell_type": "markdown",
   "metadata": {},
   "source": [
    "### Of the features you investigated, were there any unusual distributions?  Did you perform any operations on the data to tidy, adjust, or change the form of the data?  If so, why did you do this?"
   ]
  },
  {
   "cell_type": "markdown",
   "metadata": {},
   "source": [
    "<a id='bi'></a>\n",
    "## Bivariate Exploration"
   ]
  },
  {
   "cell_type": "markdown",
   "metadata": {},
   "source": [
    "### Talk about some of the relationships you observed in this part of the investigation.  How did the feature(s) of interest vary with other features in the dataset?"
   ]
  },
  {
   "cell_type": "markdown",
   "metadata": {},
   "source": [
    "### Did you observe any interesting relationships between the other features (not the main feature(s) of interest)?"
   ]
  },
  {
   "cell_type": "markdown",
   "metadata": {},
   "source": [
    "<a id='multi'></a>\n",
    "## Multivariate Exploration"
   ]
  },
  {
   "cell_type": "markdown",
   "metadata": {},
   "source": [
    "### Talk about some of the relationships you observed in this part of the investigation.  Were there features that strengthened each other in terms of looking at your feature(s) of interest?"
   ]
  },
  {
   "cell_type": "markdown",
   "metadata": {},
   "source": [
    "### Were there any interesting or surprising interactions between features?"
   ]
  }
 ],
 "metadata": {
  "kernelspec": {
   "display_name": "Python 3",
   "language": "python",
   "name": "python3"
  },
  "language_info": {
   "codemirror_mode": {
    "name": "ipython",
    "version": 3
   },
   "file_extension": ".py",
   "mimetype": "text/x-python",
   "name": "python",
   "nbconvert_exporter": "python",
   "pygments_lexer": "ipython3",
   "version": "3.6.9"
  }
 },
 "nbformat": 4,
 "nbformat_minor": 2
}
