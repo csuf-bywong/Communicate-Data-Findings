{
 "cells": [
  {
   "cell_type": "markdown",
   "metadata": {},
   "source": [
    "# 2019 Bay Wheels' Trip Data Exploration and Visualization\n",
    "\n",
    "## Table of Contents\n",
    "- [Preliminary Wrangling](#wrangle)\n",
    "- [Cleaning](#clean)\n",
    "- [Univariate Exploration](#uni)\n",
    "- [Bivariate Exploration](#bi)\n",
    "- [Multivariate Exploration](#multi)\n",
    "\n",
    "<a id='wrangle'></a>\n",
    "## Preliminary Wrangling\n",
    "\n",
    "This document explores a dataset containing [information](https://www.lyft.com/bikes/bay-wheels/system-data) about individual rides made in [Bay Wheels](https://en.wikipedia.org/wiki/Bay_Wheels)' bike-sharing system covering the greater San Francisco Bay area.  The dataset is data from January 2019 and can be manually downloaded [here](https://s3.amazonaws.com/baywheels-data/index.html)."
   ]
  },
  {
   "cell_type": "code",
   "execution_count": 2,
   "metadata": {},
   "outputs": [],
   "source": [
    "# import all packages and set plots to be embedded inline\n",
    "import matplotlib.pyplot as plt\n",
    "import numpy as np\n",
    "import pandas as pd\n",
    "import seaborn as sns\n",
    "\n",
    "%matplotlib inline\n",
    "sns.set_style('darkgrid')"
   ]
  },
  {
   "cell_type": "code",
   "execution_count": 3,
   "metadata": {
    "scrolled": true
   },
   "outputs": [],
   "source": [
    "# load in the dataset into a pandas dataframe\n",
    "df = pd.read_csv('201901-fordgobike-tripdata.csv')"
   ]
  },
  {
   "cell_type": "code",
   "execution_count": 4,
   "metadata": {
    "scrolled": false
   },
   "outputs": [
    {
     "name": "stdout",
     "output_type": "stream",
     "text": [
      "(192082, 14)\n",
      "duration_sec                 int64\n",
      "start_time                  object\n",
      "end_time                    object\n",
      "start_station_id           float64\n",
      "start_station_name          object\n",
      "start_station_latitude     float64\n",
      "start_station_longitude    float64\n",
      "end_station_id             float64\n",
      "end_station_name            object\n",
      "end_station_latitude       float64\n",
      "end_station_longitude      float64\n",
      "bike_id                      int64\n",
      "user_type                   object\n",
      "bike_share_for_all_trip     object\n",
      "dtype: object\n"
     ]
    },
    {
     "data": {
      "text/html": [
       "<div>\n",
       "<style scoped>\n",
       "    .dataframe tbody tr th:only-of-type {\n",
       "        vertical-align: middle;\n",
       "    }\n",
       "\n",
       "    .dataframe tbody tr th {\n",
       "        vertical-align: top;\n",
       "    }\n",
       "\n",
       "    .dataframe thead th {\n",
       "        text-align: right;\n",
       "    }\n",
       "</style>\n",
       "<table border=\"1\" class=\"dataframe\">\n",
       "  <thead>\n",
       "    <tr style=\"text-align: right;\">\n",
       "      <th></th>\n",
       "      <th>duration_sec</th>\n",
       "      <th>start_time</th>\n",
       "      <th>end_time</th>\n",
       "      <th>start_station_id</th>\n",
       "      <th>start_station_name</th>\n",
       "      <th>start_station_latitude</th>\n",
       "      <th>start_station_longitude</th>\n",
       "      <th>end_station_id</th>\n",
       "      <th>end_station_name</th>\n",
       "      <th>end_station_latitude</th>\n",
       "      <th>end_station_longitude</th>\n",
       "      <th>bike_id</th>\n",
       "      <th>user_type</th>\n",
       "      <th>bike_share_for_all_trip</th>\n",
       "    </tr>\n",
       "  </thead>\n",
       "  <tbody>\n",
       "    <tr>\n",
       "      <td>99000</td>\n",
       "      <td>398</td>\n",
       "      <td>2019-01-18 17:35:53.8790</td>\n",
       "      <td>2019-01-18 17:42:32.3500</td>\n",
       "      <td>114.0</td>\n",
       "      <td>Rhode Island St at 17th St</td>\n",
       "      <td>37.764478</td>\n",
       "      <td>-122.402570</td>\n",
       "      <td>223.0</td>\n",
       "      <td>16th St Mission BART Station 2</td>\n",
       "      <td>37.764765</td>\n",
       "      <td>-122.420091</td>\n",
       "      <td>5541</td>\n",
       "      <td>Subscriber</td>\n",
       "      <td>No</td>\n",
       "    </tr>\n",
       "    <tr>\n",
       "      <td>90675</td>\n",
       "      <td>75</td>\n",
       "      <td>2019-01-20 14:57:20.0970</td>\n",
       "      <td>2019-01-20 14:58:36.0790</td>\n",
       "      <td>3.0</td>\n",
       "      <td>Powell St BART Station (Market St at 4th St)</td>\n",
       "      <td>37.786375</td>\n",
       "      <td>-122.404904</td>\n",
       "      <td>3.0</td>\n",
       "      <td>Powell St BART Station (Market St at 4th St)</td>\n",
       "      <td>37.786375</td>\n",
       "      <td>-122.404904</td>\n",
       "      <td>282</td>\n",
       "      <td>Subscriber</td>\n",
       "      <td>No</td>\n",
       "    </tr>\n",
       "    <tr>\n",
       "      <td>179531</td>\n",
       "      <td>2393</td>\n",
       "      <td>2019-01-03 16:42:37.0360</td>\n",
       "      <td>2019-01-03 17:22:31.0120</td>\n",
       "      <td>364.0</td>\n",
       "      <td>China Basin St at 3rd St</td>\n",
       "      <td>37.772000</td>\n",
       "      <td>-122.389970</td>\n",
       "      <td>74.0</td>\n",
       "      <td>Laguna St at Hayes St</td>\n",
       "      <td>37.776435</td>\n",
       "      <td>-122.426244</td>\n",
       "      <td>2774</td>\n",
       "      <td>Customer</td>\n",
       "      <td>No</td>\n",
       "    </tr>\n",
       "    <tr>\n",
       "      <td>77279</td>\n",
       "      <td>681</td>\n",
       "      <td>2019-01-22 18:14:55.8740</td>\n",
       "      <td>2019-01-22 18:26:17.8460</td>\n",
       "      <td>25.0</td>\n",
       "      <td>Howard St at 2nd St</td>\n",
       "      <td>37.787522</td>\n",
       "      <td>-122.397405</td>\n",
       "      <td>350.0</td>\n",
       "      <td>8th St at Brannan St</td>\n",
       "      <td>37.771431</td>\n",
       "      <td>-122.405787</td>\n",
       "      <td>1630</td>\n",
       "      <td>Subscriber</td>\n",
       "      <td>No</td>\n",
       "    </tr>\n",
       "    <tr>\n",
       "      <td>144955</td>\n",
       "      <td>427</td>\n",
       "      <td>2019-01-10 09:21:02.9580</td>\n",
       "      <td>2019-01-10 09:28:10.3340</td>\n",
       "      <td>66.0</td>\n",
       "      <td>3rd St at Townsend St</td>\n",
       "      <td>37.778742</td>\n",
       "      <td>-122.392741</td>\n",
       "      <td>16.0</td>\n",
       "      <td>Steuart St at Market St</td>\n",
       "      <td>37.794130</td>\n",
       "      <td>-122.394430</td>\n",
       "      <td>5261</td>\n",
       "      <td>Subscriber</td>\n",
       "      <td>No</td>\n",
       "    </tr>\n",
       "    <tr>\n",
       "      <td>36329</td>\n",
       "      <td>1306</td>\n",
       "      <td>2019-01-28 08:08:58.9240</td>\n",
       "      <td>2019-01-28 08:30:45.1160</td>\n",
       "      <td>141.0</td>\n",
       "      <td>Valencia St at Cesar Chavez St</td>\n",
       "      <td>37.747998</td>\n",
       "      <td>-122.420219</td>\n",
       "      <td>37.0</td>\n",
       "      <td>2nd St at Folsom St</td>\n",
       "      <td>37.785000</td>\n",
       "      <td>-122.395936</td>\n",
       "      <td>4983</td>\n",
       "      <td>Subscriber</td>\n",
       "      <td>No</td>\n",
       "    </tr>\n",
       "    <tr>\n",
       "      <td>80233</td>\n",
       "      <td>981</td>\n",
       "      <td>2019-01-22 12:56:20.4040</td>\n",
       "      <td>2019-01-22 13:12:41.6480</td>\n",
       "      <td>24.0</td>\n",
       "      <td>Spear St at Folsom St</td>\n",
       "      <td>37.789677</td>\n",
       "      <td>-122.390428</td>\n",
       "      <td>350.0</td>\n",
       "      <td>8th St at Brannan St</td>\n",
       "      <td>37.771431</td>\n",
       "      <td>-122.405787</td>\n",
       "      <td>5349</td>\n",
       "      <td>Subscriber</td>\n",
       "      <td>No</td>\n",
       "    </tr>\n",
       "    <tr>\n",
       "      <td>163637</td>\n",
       "      <td>778</td>\n",
       "      <td>2019-01-07 17:22:14.2440</td>\n",
       "      <td>2019-01-07 17:35:12.4420</td>\n",
       "      <td>241.0</td>\n",
       "      <td>Ashby BART Station</td>\n",
       "      <td>37.852477</td>\n",
       "      <td>-122.270213</td>\n",
       "      <td>270.0</td>\n",
       "      <td>Ninth St at Heinz Ave</td>\n",
       "      <td>37.853489</td>\n",
       "      <td>-122.289415</td>\n",
       "      <td>5153</td>\n",
       "      <td>Subscriber</td>\n",
       "      <td>No</td>\n",
       "    </tr>\n",
       "    <tr>\n",
       "      <td>54733</td>\n",
       "      <td>488</td>\n",
       "      <td>2019-01-25 09:23:45.6070</td>\n",
       "      <td>2019-01-25 09:31:54.2670</td>\n",
       "      <td>24.0</td>\n",
       "      <td>Spear St at Folsom St</td>\n",
       "      <td>37.789677</td>\n",
       "      <td>-122.390428</td>\n",
       "      <td>30.0</td>\n",
       "      <td>San Francisco Caltrain (Townsend St at 4th St)</td>\n",
       "      <td>37.776598</td>\n",
       "      <td>-122.395282</td>\n",
       "      <td>1884</td>\n",
       "      <td>Subscriber</td>\n",
       "      <td>No</td>\n",
       "    </tr>\n",
       "    <tr>\n",
       "      <td>57087</td>\n",
       "      <td>1150</td>\n",
       "      <td>2019-01-24 23:30:55.6290</td>\n",
       "      <td>2019-01-24 23:50:06.0740</td>\n",
       "      <td>64.0</td>\n",
       "      <td>5th St at Brannan St</td>\n",
       "      <td>37.776754</td>\n",
       "      <td>-122.399018</td>\n",
       "      <td>142.0</td>\n",
       "      <td>Guerrero Park</td>\n",
       "      <td>37.745739</td>\n",
       "      <td>-122.422140</td>\n",
       "      <td>5488</td>\n",
       "      <td>Subscriber</td>\n",
       "      <td>No</td>\n",
       "    </tr>\n",
       "  </tbody>\n",
       "</table>\n",
       "</div>"
      ],
      "text/plain": [
       "        duration_sec                start_time                  end_time  \\\n",
       "99000            398  2019-01-18 17:35:53.8790  2019-01-18 17:42:32.3500   \n",
       "90675             75  2019-01-20 14:57:20.0970  2019-01-20 14:58:36.0790   \n",
       "179531          2393  2019-01-03 16:42:37.0360  2019-01-03 17:22:31.0120   \n",
       "77279            681  2019-01-22 18:14:55.8740  2019-01-22 18:26:17.8460   \n",
       "144955           427  2019-01-10 09:21:02.9580  2019-01-10 09:28:10.3340   \n",
       "36329           1306  2019-01-28 08:08:58.9240  2019-01-28 08:30:45.1160   \n",
       "80233            981  2019-01-22 12:56:20.4040  2019-01-22 13:12:41.6480   \n",
       "163637           778  2019-01-07 17:22:14.2440  2019-01-07 17:35:12.4420   \n",
       "54733            488  2019-01-25 09:23:45.6070  2019-01-25 09:31:54.2670   \n",
       "57087           1150  2019-01-24 23:30:55.6290  2019-01-24 23:50:06.0740   \n",
       "\n",
       "        start_station_id                            start_station_name  \\\n",
       "99000              114.0                    Rhode Island St at 17th St   \n",
       "90675                3.0  Powell St BART Station (Market St at 4th St)   \n",
       "179531             364.0                      China Basin St at 3rd St   \n",
       "77279               25.0                           Howard St at 2nd St   \n",
       "144955              66.0                         3rd St at Townsend St   \n",
       "36329              141.0                Valencia St at Cesar Chavez St   \n",
       "80233               24.0                         Spear St at Folsom St   \n",
       "163637             241.0                            Ashby BART Station   \n",
       "54733               24.0                         Spear St at Folsom St   \n",
       "57087               64.0                          5th St at Brannan St   \n",
       "\n",
       "        start_station_latitude  start_station_longitude  end_station_id  \\\n",
       "99000                37.764478              -122.402570           223.0   \n",
       "90675                37.786375              -122.404904             3.0   \n",
       "179531               37.772000              -122.389970            74.0   \n",
       "77279                37.787522              -122.397405           350.0   \n",
       "144955               37.778742              -122.392741            16.0   \n",
       "36329                37.747998              -122.420219            37.0   \n",
       "80233                37.789677              -122.390428           350.0   \n",
       "163637               37.852477              -122.270213           270.0   \n",
       "54733                37.789677              -122.390428            30.0   \n",
       "57087                37.776754              -122.399018           142.0   \n",
       "\n",
       "                                      end_station_name  end_station_latitude  \\\n",
       "99000                   16th St Mission BART Station 2             37.764765   \n",
       "90675     Powell St BART Station (Market St at 4th St)             37.786375   \n",
       "179531                           Laguna St at Hayes St             37.776435   \n",
       "77279                             8th St at Brannan St             37.771431   \n",
       "144955                         Steuart St at Market St             37.794130   \n",
       "36329                              2nd St at Folsom St             37.785000   \n",
       "80233                             8th St at Brannan St             37.771431   \n",
       "163637                           Ninth St at Heinz Ave             37.853489   \n",
       "54733   San Francisco Caltrain (Townsend St at 4th St)             37.776598   \n",
       "57087                                    Guerrero Park             37.745739   \n",
       "\n",
       "        end_station_longitude  bike_id   user_type bike_share_for_all_trip  \n",
       "99000             -122.420091     5541  Subscriber                      No  \n",
       "90675             -122.404904      282  Subscriber                      No  \n",
       "179531            -122.426244     2774    Customer                      No  \n",
       "77279             -122.405787     1630  Subscriber                      No  \n",
       "144955            -122.394430     5261  Subscriber                      No  \n",
       "36329             -122.395936     4983  Subscriber                      No  \n",
       "80233             -122.405787     5349  Subscriber                      No  \n",
       "163637            -122.289415     5153  Subscriber                      No  \n",
       "54733             -122.395282     1884  Subscriber                      No  \n",
       "57087             -122.422140     5488  Subscriber                      No  "
      ]
     },
     "execution_count": 4,
     "metadata": {},
     "output_type": "execute_result"
    }
   ],
   "source": [
    "# high level overview of data shape and composition\n",
    "print(df.shape)\n",
    "print(df.dtypes)\n",
    "# i prefer looking at it through this instead of print(df.sample(10))\n",
    "df.sample(10)"
   ]
  },
  {
   "cell_type": "code",
   "execution_count": 5,
   "metadata": {
    "scrolled": false
   },
   "outputs": [
    {
     "data": {
      "text/html": [
       "<div>\n",
       "<style scoped>\n",
       "    .dataframe tbody tr th:only-of-type {\n",
       "        vertical-align: middle;\n",
       "    }\n",
       "\n",
       "    .dataframe tbody tr th {\n",
       "        vertical-align: top;\n",
       "    }\n",
       "\n",
       "    .dataframe thead th {\n",
       "        text-align: right;\n",
       "    }\n",
       "</style>\n",
       "<table border=\"1\" class=\"dataframe\">\n",
       "  <thead>\n",
       "    <tr style=\"text-align: right;\">\n",
       "      <th></th>\n",
       "      <th>duration_sec</th>\n",
       "      <th>start_station_id</th>\n",
       "      <th>start_station_latitude</th>\n",
       "      <th>start_station_longitude</th>\n",
       "      <th>end_station_id</th>\n",
       "      <th>end_station_latitude</th>\n",
       "      <th>end_station_longitude</th>\n",
       "      <th>bike_id</th>\n",
       "    </tr>\n",
       "  </thead>\n",
       "  <tbody>\n",
       "    <tr>\n",
       "      <td>count</td>\n",
       "      <td>192082.000000</td>\n",
       "      <td>191834.000000</td>\n",
       "      <td>192082.000000</td>\n",
       "      <td>192082.000000</td>\n",
       "      <td>191834.000000</td>\n",
       "      <td>192082.000000</td>\n",
       "      <td>192082.000000</td>\n",
       "      <td>192082.000000</td>\n",
       "    </tr>\n",
       "    <tr>\n",
       "      <td>mean</td>\n",
       "      <td>750.952473</td>\n",
       "      <td>132.841639</td>\n",
       "      <td>37.773438</td>\n",
       "      <td>-122.357820</td>\n",
       "      <td>131.218700</td>\n",
       "      <td>37.773570</td>\n",
       "      <td>-122.357419</td>\n",
       "      <td>4029.012609</td>\n",
       "    </tr>\n",
       "    <tr>\n",
       "      <td>std</td>\n",
       "      <td>1672.433843</td>\n",
       "      <td>109.662417</td>\n",
       "      <td>0.091433</td>\n",
       "      <td>0.109472</td>\n",
       "      <td>109.546275</td>\n",
       "      <td>0.091332</td>\n",
       "      <td>0.109058</td>\n",
       "      <td>1571.288901</td>\n",
       "    </tr>\n",
       "    <tr>\n",
       "      <td>min</td>\n",
       "      <td>61.000000</td>\n",
       "      <td>3.000000</td>\n",
       "      <td>37.317298</td>\n",
       "      <td>-122.453704</td>\n",
       "      <td>3.000000</td>\n",
       "      <td>37.317298</td>\n",
       "      <td>-122.453704</td>\n",
       "      <td>11.000000</td>\n",
       "    </tr>\n",
       "    <tr>\n",
       "      <td>25%</td>\n",
       "      <td>333.000000</td>\n",
       "      <td>43.000000</td>\n",
       "      <td>37.770407</td>\n",
       "      <td>-122.412408</td>\n",
       "      <td>41.000000</td>\n",
       "      <td>37.771058</td>\n",
       "      <td>-122.411726</td>\n",
       "      <td>3088.000000</td>\n",
       "    </tr>\n",
       "    <tr>\n",
       "      <td>50%</td>\n",
       "      <td>528.000000</td>\n",
       "      <td>98.000000</td>\n",
       "      <td>37.780955</td>\n",
       "      <td>-122.398438</td>\n",
       "      <td>95.000000</td>\n",
       "      <td>37.781010</td>\n",
       "      <td>-122.398436</td>\n",
       "      <td>4748.000000</td>\n",
       "    </tr>\n",
       "    <tr>\n",
       "      <td>75%</td>\n",
       "      <td>821.000000</td>\n",
       "      <td>211.000000</td>\n",
       "      <td>37.795913</td>\n",
       "      <td>-122.294837</td>\n",
       "      <td>203.000000</td>\n",
       "      <td>37.796248</td>\n",
       "      <td>-122.294837</td>\n",
       "      <td>5173.000000</td>\n",
       "    </tr>\n",
       "    <tr>\n",
       "      <td>max</td>\n",
       "      <td>84002.000000</td>\n",
       "      <td>385.000000</td>\n",
       "      <td>37.880222</td>\n",
       "      <td>-121.874119</td>\n",
       "      <td>385.000000</td>\n",
       "      <td>37.880222</td>\n",
       "      <td>-121.874119</td>\n",
       "      <td>6638.000000</td>\n",
       "    </tr>\n",
       "  </tbody>\n",
       "</table>\n",
       "</div>"
      ],
      "text/plain": [
       "        duration_sec  start_station_id  start_station_latitude  \\\n",
       "count  192082.000000     191834.000000           192082.000000   \n",
       "mean      750.952473        132.841639               37.773438   \n",
       "std      1672.433843        109.662417                0.091433   \n",
       "min        61.000000          3.000000               37.317298   \n",
       "25%       333.000000         43.000000               37.770407   \n",
       "50%       528.000000         98.000000               37.780955   \n",
       "75%       821.000000        211.000000               37.795913   \n",
       "max     84002.000000        385.000000               37.880222   \n",
       "\n",
       "       start_station_longitude  end_station_id  end_station_latitude  \\\n",
       "count            192082.000000   191834.000000         192082.000000   \n",
       "mean               -122.357820      131.218700             37.773570   \n",
       "std                   0.109472      109.546275              0.091332   \n",
       "min                -122.453704        3.000000             37.317298   \n",
       "25%                -122.412408       41.000000             37.771058   \n",
       "50%                -122.398438       95.000000             37.781010   \n",
       "75%                -122.294837      203.000000             37.796248   \n",
       "max                -121.874119      385.000000             37.880222   \n",
       "\n",
       "       end_station_longitude        bike_id  \n",
       "count          192082.000000  192082.000000  \n",
       "mean             -122.357419    4029.012609  \n",
       "std                 0.109058    1571.288901  \n",
       "min              -122.453704      11.000000  \n",
       "25%              -122.411726    3088.000000  \n",
       "50%              -122.398436    4748.000000  \n",
       "75%              -122.294837    5173.000000  \n",
       "max              -121.874119    6638.000000  "
      ]
     },
     "execution_count": 5,
     "metadata": {},
     "output_type": "execute_result"
    }
   ],
   "source": [
    "# descriive statistics for numeric variables\n",
    "df.describe()"
   ]
  },
  {
   "cell_type": "code",
   "execution_count": 6,
   "metadata": {
    "scrolled": false
   },
   "outputs": [
    {
     "name": "stdout",
     "output_type": "stream",
     "text": [
      "<class 'pandas.core.frame.DataFrame'>\n",
      "RangeIndex: 192082 entries, 0 to 192081\n",
      "Data columns (total 14 columns):\n",
      "duration_sec               192082 non-null int64\n",
      "start_time                 192082 non-null object\n",
      "end_time                   192082 non-null object\n",
      "start_station_id           191834 non-null float64\n",
      "start_station_name         191834 non-null object\n",
      "start_station_latitude     192082 non-null float64\n",
      "start_station_longitude    192082 non-null float64\n",
      "end_station_id             191834 non-null float64\n",
      "end_station_name           191834 non-null object\n",
      "end_station_latitude       192082 non-null float64\n",
      "end_station_longitude      192082 non-null float64\n",
      "bike_id                    192082 non-null int64\n",
      "user_type                  192082 non-null object\n",
      "bike_share_for_all_trip    192082 non-null object\n",
      "dtypes: float64(6), int64(2), object(6)\n",
      "memory usage: 20.5+ MB\n"
     ]
    }
   ],
   "source": [
    "df.info()"
   ]
  },
  {
   "cell_type": "code",
   "execution_count": 7,
   "metadata": {},
   "outputs": [
    {
     "data": {
      "text/plain": [
       "(str, str, str)"
      ]
     },
     "execution_count": 7,
     "metadata": {},
     "output_type": "execute_result"
    }
   ],
   "source": [
    "# investigate what those object types are\n",
    "type(df['start_time'][0]), type(df['end_time'][0]), type(df['start_station_name'][0])"
   ]
  },
  {
   "cell_type": "code",
   "execution_count": 8,
   "metadata": {
    "scrolled": true
   },
   "outputs": [
    {
     "data": {
      "text/plain": [
       "(str, str, str)"
      ]
     },
     "execution_count": 8,
     "metadata": {},
     "output_type": "execute_result"
    }
   ],
   "source": [
    "type(df['end_station_name'][0]), type(df['user_type'][0]), type(df['bike_share_for_all_trip'][0])"
   ]
  },
  {
   "cell_type": "markdown",
   "metadata": {},
   "source": [
    "Things to clean\n",
    "- missing data (null values)\n",
    "- start_time, end_time are str type and should be datetime objects\n",
    "- user_type is str and should be categorical type\n",
    "\n",
    "<a id='clean'></a>\n",
    "## Cleaning"
   ]
  },
  {
   "cell_type": "code",
   "execution_count": 9,
   "metadata": {},
   "outputs": [],
   "source": [
    "# before i do any cleaning, make a copy of the dataset\n",
    "df_clean = df.copy()"
   ]
  },
  {
   "cell_type": "code",
   "execution_count": 10,
   "metadata": {},
   "outputs": [
    {
     "data": {
      "text/plain": [
       "duration_sec                 0\n",
       "start_time                   0\n",
       "end_time                     0\n",
       "start_station_id           248\n",
       "start_station_name         248\n",
       "start_station_latitude       0\n",
       "start_station_longitude      0\n",
       "end_station_id             248\n",
       "end_station_name           248\n",
       "end_station_latitude         0\n",
       "end_station_longitude        0\n",
       "bike_id                      0\n",
       "user_type                    0\n",
       "bike_share_for_all_trip      0\n",
       "dtype: int64"
      ]
     },
     "execution_count": 10,
     "metadata": {},
     "output_type": "execute_result"
    }
   ],
   "source": [
    "# see how many null values there are in each column\n",
    "df_clean.isnull().sum()"
   ]
  },
  {
   "cell_type": "code",
   "execution_count": 11,
   "metadata": {
    "scrolled": true
   },
   "outputs": [
    {
     "data": {
      "text/html": [
       "<div>\n",
       "<style scoped>\n",
       "    .dataframe tbody tr th:only-of-type {\n",
       "        vertical-align: middle;\n",
       "    }\n",
       "\n",
       "    .dataframe tbody tr th {\n",
       "        vertical-align: top;\n",
       "    }\n",
       "\n",
       "    .dataframe thead th {\n",
       "        text-align: right;\n",
       "    }\n",
       "</style>\n",
       "<table border=\"1\" class=\"dataframe\">\n",
       "  <thead>\n",
       "    <tr style=\"text-align: right;\">\n",
       "      <th></th>\n",
       "      <th>duration_sec</th>\n",
       "      <th>start_time</th>\n",
       "      <th>end_time</th>\n",
       "      <th>start_station_id</th>\n",
       "      <th>start_station_name</th>\n",
       "      <th>start_station_latitude</th>\n",
       "      <th>start_station_longitude</th>\n",
       "      <th>end_station_id</th>\n",
       "      <th>end_station_name</th>\n",
       "      <th>end_station_latitude</th>\n",
       "      <th>end_station_longitude</th>\n",
       "      <th>bike_id</th>\n",
       "      <th>user_type</th>\n",
       "      <th>bike_share_for_all_trip</th>\n",
       "    </tr>\n",
       "  </thead>\n",
       "  <tbody>\n",
       "    <tr>\n",
       "      <td>2023</td>\n",
       "      <td>746</td>\n",
       "      <td>2019-01-31 18:21:27.0020</td>\n",
       "      <td>2019-01-31 18:33:53.0870</td>\n",
       "      <td>NaN</td>\n",
       "      <td>NaN</td>\n",
       "      <td>37.40</td>\n",
       "      <td>-121.92</td>\n",
       "      <td>NaN</td>\n",
       "      <td>NaN</td>\n",
       "      <td>37.41</td>\n",
       "      <td>-121.94</td>\n",
       "      <td>4244</td>\n",
       "      <td>Subscriber</td>\n",
       "      <td>No</td>\n",
       "    </tr>\n",
       "    <tr>\n",
       "      <td>2533</td>\n",
       "      <td>278</td>\n",
       "      <td>2019-01-31 18:00:28.2040</td>\n",
       "      <td>2019-01-31 18:05:07.0900</td>\n",
       "      <td>NaN</td>\n",
       "      <td>NaN</td>\n",
       "      <td>37.40</td>\n",
       "      <td>-121.94</td>\n",
       "      <td>NaN</td>\n",
       "      <td>NaN</td>\n",
       "      <td>37.40</td>\n",
       "      <td>-121.94</td>\n",
       "      <td>4249</td>\n",
       "      <td>Subscriber</td>\n",
       "      <td>Yes</td>\n",
       "    </tr>\n",
       "    <tr>\n",
       "      <td>3089</td>\n",
       "      <td>830</td>\n",
       "      <td>2019-01-31 17:23:59.3410</td>\n",
       "      <td>2019-01-31 17:37:50.0250</td>\n",
       "      <td>NaN</td>\n",
       "      <td>NaN</td>\n",
       "      <td>37.39</td>\n",
       "      <td>-121.93</td>\n",
       "      <td>NaN</td>\n",
       "      <td>NaN</td>\n",
       "      <td>37.40</td>\n",
       "      <td>-121.93</td>\n",
       "      <td>4208</td>\n",
       "      <td>Subscriber</td>\n",
       "      <td>No</td>\n",
       "    </tr>\n",
       "    <tr>\n",
       "      <td>5264</td>\n",
       "      <td>562</td>\n",
       "      <td>2019-01-31 13:29:18.5250</td>\n",
       "      <td>2019-01-31 13:38:41.0210</td>\n",
       "      <td>NaN</td>\n",
       "      <td>NaN</td>\n",
       "      <td>37.40</td>\n",
       "      <td>-121.93</td>\n",
       "      <td>NaN</td>\n",
       "      <td>NaN</td>\n",
       "      <td>37.39</td>\n",
       "      <td>-121.93</td>\n",
       "      <td>4208</td>\n",
       "      <td>Subscriber</td>\n",
       "      <td>No</td>\n",
       "    </tr>\n",
       "    <tr>\n",
       "      <td>5833</td>\n",
       "      <td>1676</td>\n",
       "      <td>2019-01-31 11:36:57.0450</td>\n",
       "      <td>2019-01-31 12:04:53.5010</td>\n",
       "      <td>NaN</td>\n",
       "      <td>NaN</td>\n",
       "      <td>37.40</td>\n",
       "      <td>-121.94</td>\n",
       "      <td>NaN</td>\n",
       "      <td>NaN</td>\n",
       "      <td>37.40</td>\n",
       "      <td>-121.94</td>\n",
       "      <td>4251</td>\n",
       "      <td>Customer</td>\n",
       "      <td>No</td>\n",
       "    </tr>\n",
       "    <tr>\n",
       "      <td>...</td>\n",
       "      <td>...</td>\n",
       "      <td>...</td>\n",
       "      <td>...</td>\n",
       "      <td>...</td>\n",
       "      <td>...</td>\n",
       "      <td>...</td>\n",
       "      <td>...</td>\n",
       "      <td>...</td>\n",
       "      <td>...</td>\n",
       "      <td>...</td>\n",
       "      <td>...</td>\n",
       "      <td>...</td>\n",
       "      <td>...</td>\n",
       "      <td>...</td>\n",
       "    </tr>\n",
       "    <tr>\n",
       "      <td>189156</td>\n",
       "      <td>511</td>\n",
       "      <td>2019-01-02 07:54:41.6600</td>\n",
       "      <td>2019-01-02 08:03:12.7790</td>\n",
       "      <td>NaN</td>\n",
       "      <td>NaN</td>\n",
       "      <td>37.40</td>\n",
       "      <td>-121.93</td>\n",
       "      <td>NaN</td>\n",
       "      <td>NaN</td>\n",
       "      <td>37.40</td>\n",
       "      <td>-121.94</td>\n",
       "      <td>4148</td>\n",
       "      <td>Customer</td>\n",
       "      <td>No</td>\n",
       "    </tr>\n",
       "    <tr>\n",
       "      <td>190675</td>\n",
       "      <td>2327</td>\n",
       "      <td>2019-01-01 14:57:03.2250</td>\n",
       "      <td>2019-01-01 15:35:51.1660</td>\n",
       "      <td>NaN</td>\n",
       "      <td>NaN</td>\n",
       "      <td>37.41</td>\n",
       "      <td>-121.94</td>\n",
       "      <td>NaN</td>\n",
       "      <td>NaN</td>\n",
       "      <td>37.41</td>\n",
       "      <td>-121.94</td>\n",
       "      <td>4092</td>\n",
       "      <td>Customer</td>\n",
       "      <td>No</td>\n",
       "    </tr>\n",
       "    <tr>\n",
       "      <td>191155</td>\n",
       "      <td>1933</td>\n",
       "      <td>2019-01-01 13:01:32.3650</td>\n",
       "      <td>2019-01-01 13:33:45.6660</td>\n",
       "      <td>NaN</td>\n",
       "      <td>NaN</td>\n",
       "      <td>37.41</td>\n",
       "      <td>-121.96</td>\n",
       "      <td>NaN</td>\n",
       "      <td>NaN</td>\n",
       "      <td>37.41</td>\n",
       "      <td>-121.96</td>\n",
       "      <td>4095</td>\n",
       "      <td>Customer</td>\n",
       "      <td>No</td>\n",
       "    </tr>\n",
       "    <tr>\n",
       "      <td>191642</td>\n",
       "      <td>667</td>\n",
       "      <td>2019-01-01 10:38:15.8460</td>\n",
       "      <td>2019-01-01 10:49:23.6680</td>\n",
       "      <td>NaN</td>\n",
       "      <td>NaN</td>\n",
       "      <td>37.41</td>\n",
       "      <td>-121.94</td>\n",
       "      <td>NaN</td>\n",
       "      <td>NaN</td>\n",
       "      <td>37.41</td>\n",
       "      <td>-121.94</td>\n",
       "      <td>4121</td>\n",
       "      <td>Subscriber</td>\n",
       "      <td>No</td>\n",
       "    </tr>\n",
       "    <tr>\n",
       "      <td>191650</td>\n",
       "      <td>27230</td>\n",
       "      <td>2019-01-01 03:12:08.7790</td>\n",
       "      <td>2019-01-01 10:45:59.6000</td>\n",
       "      <td>NaN</td>\n",
       "      <td>NaN</td>\n",
       "      <td>37.41</td>\n",
       "      <td>-121.96</td>\n",
       "      <td>NaN</td>\n",
       "      <td>NaN</td>\n",
       "      <td>37.40</td>\n",
       "      <td>-121.93</td>\n",
       "      <td>4162</td>\n",
       "      <td>Customer</td>\n",
       "      <td>No</td>\n",
       "    </tr>\n",
       "  </tbody>\n",
       "</table>\n",
       "<p>248 rows × 14 columns</p>\n",
       "</div>"
      ],
      "text/plain": [
       "        duration_sec                start_time                  end_time  \\\n",
       "2023             746  2019-01-31 18:21:27.0020  2019-01-31 18:33:53.0870   \n",
       "2533             278  2019-01-31 18:00:28.2040  2019-01-31 18:05:07.0900   \n",
       "3089             830  2019-01-31 17:23:59.3410  2019-01-31 17:37:50.0250   \n",
       "5264             562  2019-01-31 13:29:18.5250  2019-01-31 13:38:41.0210   \n",
       "5833            1676  2019-01-31 11:36:57.0450  2019-01-31 12:04:53.5010   \n",
       "...              ...                       ...                       ...   \n",
       "189156           511  2019-01-02 07:54:41.6600  2019-01-02 08:03:12.7790   \n",
       "190675          2327  2019-01-01 14:57:03.2250  2019-01-01 15:35:51.1660   \n",
       "191155          1933  2019-01-01 13:01:32.3650  2019-01-01 13:33:45.6660   \n",
       "191642           667  2019-01-01 10:38:15.8460  2019-01-01 10:49:23.6680   \n",
       "191650         27230  2019-01-01 03:12:08.7790  2019-01-01 10:45:59.6000   \n",
       "\n",
       "        start_station_id start_station_name  start_station_latitude  \\\n",
       "2023                 NaN                NaN                   37.40   \n",
       "2533                 NaN                NaN                   37.40   \n",
       "3089                 NaN                NaN                   37.39   \n",
       "5264                 NaN                NaN                   37.40   \n",
       "5833                 NaN                NaN                   37.40   \n",
       "...                  ...                ...                     ...   \n",
       "189156               NaN                NaN                   37.40   \n",
       "190675               NaN                NaN                   37.41   \n",
       "191155               NaN                NaN                   37.41   \n",
       "191642               NaN                NaN                   37.41   \n",
       "191650               NaN                NaN                   37.41   \n",
       "\n",
       "        start_station_longitude  end_station_id end_station_name  \\\n",
       "2023                    -121.92             NaN              NaN   \n",
       "2533                    -121.94             NaN              NaN   \n",
       "3089                    -121.93             NaN              NaN   \n",
       "5264                    -121.93             NaN              NaN   \n",
       "5833                    -121.94             NaN              NaN   \n",
       "...                         ...             ...              ...   \n",
       "189156                  -121.93             NaN              NaN   \n",
       "190675                  -121.94             NaN              NaN   \n",
       "191155                  -121.96             NaN              NaN   \n",
       "191642                  -121.94             NaN              NaN   \n",
       "191650                  -121.96             NaN              NaN   \n",
       "\n",
       "        end_station_latitude  end_station_longitude  bike_id   user_type  \\\n",
       "2023                   37.41                -121.94     4244  Subscriber   \n",
       "2533                   37.40                -121.94     4249  Subscriber   \n",
       "3089                   37.40                -121.93     4208  Subscriber   \n",
       "5264                   37.39                -121.93     4208  Subscriber   \n",
       "5833                   37.40                -121.94     4251    Customer   \n",
       "...                      ...                    ...      ...         ...   \n",
       "189156                 37.40                -121.94     4148    Customer   \n",
       "190675                 37.41                -121.94     4092    Customer   \n",
       "191155                 37.41                -121.96     4095    Customer   \n",
       "191642                 37.41                -121.94     4121  Subscriber   \n",
       "191650                 37.40                -121.93     4162    Customer   \n",
       "\n",
       "       bike_share_for_all_trip  \n",
       "2023                        No  \n",
       "2533                       Yes  \n",
       "3089                        No  \n",
       "5264                        No  \n",
       "5833                        No  \n",
       "...                        ...  \n",
       "189156                      No  \n",
       "190675                      No  \n",
       "191155                      No  \n",
       "191642                      No  \n",
       "191650                      No  \n",
       "\n",
       "[248 rows x 14 columns]"
      ]
     },
     "execution_count": 11,
     "metadata": {},
     "output_type": "execute_result"
    }
   ],
   "source": [
    "# look at the rows where there are null values\n",
    "df_clean[df_clean.start_station_id.isnull() == True]"
   ]
  },
  {
   "cell_type": "code",
   "execution_count": 12,
   "metadata": {
    "scrolled": true
   },
   "outputs": [
    {
     "data": {
      "text/plain": [
       "duration_sec               0\n",
       "start_time                 0\n",
       "end_time                   0\n",
       "start_station_id           0\n",
       "start_station_name         0\n",
       "start_station_latitude     0\n",
       "start_station_longitude    0\n",
       "end_station_id             0\n",
       "end_station_name           0\n",
       "end_station_latitude       0\n",
       "end_station_longitude      0\n",
       "bike_id                    0\n",
       "user_type                  0\n",
       "bike_share_for_all_trip    0\n",
       "dtype: int64"
      ]
     },
     "execution_count": 12,
     "metadata": {},
     "output_type": "execute_result"
    }
   ],
   "source": [
    "# after looking at the nulls, i decided i'll just remove them\n",
    "# remove the rows where start_station_id is null\n",
    "df_clean = df_clean[df_clean.start_station_id.isnull() == False]\n",
    "# check to see if there are still columns with nulls\n",
    "df_clean.isnull().sum()"
   ]
  },
  {
   "cell_type": "code",
   "execution_count": 13,
   "metadata": {},
   "outputs": [
    {
     "data": {
      "text/plain": [
       "0"
      ]
     },
     "execution_count": 13,
     "metadata": {},
     "output_type": "execute_result"
    }
   ],
   "source": [
    "# check for duplicate rows\n",
    "df_clean.duplicated().sum()"
   ]
  },
  {
   "cell_type": "code",
   "execution_count": 14,
   "metadata": {},
   "outputs": [],
   "source": [
    "# convert start_time and end_time to datetime objects\n",
    "df_clean.start_time = pd.to_datetime(df_clean.start_time)\n",
    "df_clean.end_time = pd.to_datetime(df_clean.end_time)\n",
    "\n",
    "# convert user_type to categorical type\n",
    "df_clean.user_type = df_clean.user_type.astype('category')"
   ]
  },
  {
   "cell_type": "code",
   "execution_count": 15,
   "metadata": {
    "scrolled": true
   },
   "outputs": [
    {
     "name": "stdout",
     "output_type": "stream",
     "text": [
      "<class 'pandas.core.frame.DataFrame'>\n",
      "Int64Index: 191834 entries, 0 to 192081\n",
      "Data columns (total 14 columns):\n",
      "duration_sec               191834 non-null int64\n",
      "start_time                 191834 non-null datetime64[ns]\n",
      "end_time                   191834 non-null datetime64[ns]\n",
      "start_station_id           191834 non-null float64\n",
      "start_station_name         191834 non-null object\n",
      "start_station_latitude     191834 non-null float64\n",
      "start_station_longitude    191834 non-null float64\n",
      "end_station_id             191834 non-null float64\n",
      "end_station_name           191834 non-null object\n",
      "end_station_latitude       191834 non-null float64\n",
      "end_station_longitude      191834 non-null float64\n",
      "bike_id                    191834 non-null int64\n",
      "user_type                  191834 non-null category\n",
      "bike_share_for_all_trip    191834 non-null object\n",
      "dtypes: category(1), datetime64[ns](2), float64(6), int64(2), object(3)\n",
      "memory usage: 20.7+ MB\n"
     ]
    }
   ],
   "source": [
    "#check if it converted properly\n",
    "df_clean.info()"
   ]
  },
  {
   "cell_type": "markdown",
   "metadata": {},
   "source": [
    "### What is the structure of your dataset?\n",
    "\n",
    "There are 191,834 individual trip records with 14 variables.  The variables can be broken into 3 categories.\n",
    "\n",
    "Trip duration: duration_sec, start_time, end_time\n",
    "\n",
    "Station info: start_station_id, start_station_name, start_station_latitude, start_station_longitude, end_station_id, end_station_name, end_station_latitude, end_station_longitude\n",
    "\n",
    "User info: bike_id, user_type, bike_share_for_all_trip  "
   ]
  },
  {
   "cell_type": "markdown",
   "metadata": {},
   "source": [
    "### What is/are the main feature(s) of interest in your dataset?\n",
    "\n",
    "I'm most interested in trip duration, which days are the busiest, and whether membership affects trip duration."
   ]
  },
  {
   "cell_type": "markdown",
   "metadata": {},
   "source": [
    "### What features in the dataset do you think will help support your investigation into your feature(s) of interest?\n",
    "\n",
    "start_time and end_time will be useful in understanding how long a trip would take.  It would also be useful in determining which days are the busiest.  user_type will be useful in determining whether being a subscriber or casual user affects the trip duration."
   ]
  },
  {
   "cell_type": "markdown",
   "metadata": {},
   "source": [
    "<a id='uni'></a>\n",
    "## Univariate Exploration"
   ]
  },
  {
   "cell_type": "markdown",
   "metadata": {},
   "source": [
    "First I'll look at the distribution of duration_sec."
   ]
  },
  {
   "cell_type": "code",
   "execution_count": 58,
   "metadata": {
    "scrolled": true
   },
   "outputs": [
    {
     "data": {
      "image/png": "[encoded data removed]",
      "text/plain": [
       "<Figure size 576x360 with 1 Axes>"
      ]
     },
     "metadata": {
      "needs_background": "light"
     },
     "output_type": "display_data"
    }
   ],
   "source": [
    "# set figure size \n",
    "plt.figure(figsize = (8, 5))\n",
    "\n",
    "# set axis labels and title\n",
    "plt.xlabel('Trip Duration in Seconds')\n",
    "plt.ylabel('Count')\n",
    "plt.title('Trip Count vs Trip Duration (seconds)')\n",
    "\n",
    "# plot the data\n",
    "plt.hist(data = df_clean, x = 'duration_sec');"
   ]
  },
  {
   "cell_type": "markdown",
   "metadata": {},
   "source": [
    "For the x axis to span to 80000 seconds, there must be some outliers that aren't visible."
   ]
  },
  {
   "cell_type": "code",
   "execution_count": 17,
   "metadata": {
    "scrolled": true
   },
   "outputs": [],
   "source": [
    "# for the sake of easier understanding, i will create a duration_min column\n",
    "df_clean['duration_min'] = df_clean.duration_sec / 60"
   ]
  },
  {
   "cell_type": "code",
   "execution_count": 18,
   "metadata": {},
   "outputs": [
    {
     "data": {
      "text/plain": [
       "count    191834.000000\n",
       "mean         12.504311\n",
       "std          27.835413\n",
       "min           1.016667\n",
       "50%           8.800000\n",
       "99%          66.561167\n",
       "max        1400.033333\n",
       "Name: duration_min, dtype: float64"
      ]
     },
     "execution_count": 18,
     "metadata": {},
     "output_type": "execute_result"
    }
   ],
   "source": [
    "df_clean.duration_min.describe(percentiles=[.99])"
   ]
  },
  {
   "cell_type": "code",
   "execution_count": 57,
   "metadata": {
    "scrolled": false
   },
   "outputs": [
    {
     "data": {
      "image/png": "[encoded data removed]",
      "text/plain": [
       "<Figure size 576x432 with 1 Axes>"
      ]
     },
     "metadata": {
      "needs_background": "light"
     },
     "output_type": "display_data"
    }
   ],
   "source": [
    "# set the size of the plot\n",
    "plt.figure(figsize = (8, 6))\n",
    "\n",
    "# set the bin size and x tick size\n",
    "bins = np.arange(0, 67, 1)\n",
    "ticks = np.arange(0, 67 , 5)\n",
    "\n",
    "# set the x ticks\n",
    "plt.xticks(ticks, ticks)\n",
    "# set the axis labels and title\n",
    "plt.xlabel('Trip Duration in Minutes')\n",
    "plt.ylabel('Count')\n",
    "plt.title('Trip Count vs Trip Duration (minutes)')\n",
    "\n",
    "# plot the data\n",
    "plt.hist(data = df_clean, x = 'duration_min', bins = bins);"
   ]
  },
  {
   "cell_type": "markdown",
   "metadata": {},
   "source": [
    "We can see that 99% of the trips were less than one hour in duration.  Most the the trips fell between the 5 and 10 minute range."
   ]
  },
  {
   "cell_type": "code",
   "execution_count": 20,
   "metadata": {},
   "outputs": [],
   "source": [
    "# using the start_time, i can extract days and hours\n",
    "df_clean['start_hourofday'] = df_clean.start_time.dt.hour\n",
    "df_clean['start_dayofweek'] = df_clean.start_time.dt.strftime('%A')"
   ]
  },
  {
   "cell_type": "code",
   "execution_count": 21,
   "metadata": {
    "scrolled": false
   },
   "outputs": [
    {
     "data": {
      "text/html": [
       "<div>\n",
       "<style scoped>\n",
       "    .dataframe tbody tr th:only-of-type {\n",
       "        vertical-align: middle;\n",
       "    }\n",
       "\n",
       "    .dataframe tbody tr th {\n",
       "        vertical-align: top;\n",
       "    }\n",
       "\n",
       "    .dataframe thead th {\n",
       "        text-align: right;\n",
       "    }\n",
       "</style>\n",
       "<table border=\"1\" class=\"dataframe\">\n",
       "  <thead>\n",
       "    <tr style=\"text-align: right;\">\n",
       "      <th></th>\n",
       "      <th>duration_sec</th>\n",
       "      <th>start_time</th>\n",
       "      <th>end_time</th>\n",
       "      <th>start_station_id</th>\n",
       "      <th>start_station_name</th>\n",
       "      <th>start_station_latitude</th>\n",
       "      <th>start_station_longitude</th>\n",
       "      <th>end_station_id</th>\n",
       "      <th>end_station_name</th>\n",
       "      <th>end_station_latitude</th>\n",
       "      <th>end_station_longitude</th>\n",
       "      <th>bike_id</th>\n",
       "      <th>user_type</th>\n",
       "      <th>bike_share_for_all_trip</th>\n",
       "      <th>duration_min</th>\n",
       "      <th>start_hourofday</th>\n",
       "      <th>start_dayofweek</th>\n",
       "    </tr>\n",
       "  </thead>\n",
       "  <tbody>\n",
       "    <tr>\n",
       "      <td>186322</td>\n",
       "      <td>376</td>\n",
       "      <td>2019-01-02 16:07:41.364</td>\n",
       "      <td>2019-01-02 16:13:57.849</td>\n",
       "      <td>50.0</td>\n",
       "      <td>2nd St at Townsend St</td>\n",
       "      <td>37.780526</td>\n",
       "      <td>-122.390288</td>\n",
       "      <td>15.0</td>\n",
       "      <td>San Francisco Ferry Building (Harry Bridges Pl...</td>\n",
       "      <td>37.795392</td>\n",
       "      <td>-122.394203</td>\n",
       "      <td>5018</td>\n",
       "      <td>Subscriber</td>\n",
       "      <td>No</td>\n",
       "      <td>6.266667</td>\n",
       "      <td>16</td>\n",
       "      <td>Wednesday</td>\n",
       "    </tr>\n",
       "  </tbody>\n",
       "</table>\n",
       "</div>"
      ],
      "text/plain": [
       "        duration_sec              start_time                end_time  \\\n",
       "186322           376 2019-01-02 16:07:41.364 2019-01-02 16:13:57.849   \n",
       "\n",
       "        start_station_id     start_station_name  start_station_latitude  \\\n",
       "186322              50.0  2nd St at Townsend St               37.780526   \n",
       "\n",
       "        start_station_longitude  end_station_id  \\\n",
       "186322              -122.390288            15.0   \n",
       "\n",
       "                                         end_station_name  \\\n",
       "186322  San Francisco Ferry Building (Harry Bridges Pl...   \n",
       "\n",
       "        end_station_latitude  end_station_longitude  bike_id   user_type  \\\n",
       "186322             37.795392            -122.394203     5018  Subscriber   \n",
       "\n",
       "       bike_share_for_all_trip  duration_min  start_hourofday start_dayofweek  \n",
       "186322                      No      6.266667               16       Wednesday  "
      ]
     },
     "execution_count": 21,
     "metadata": {},
     "output_type": "execute_result"
    }
   ],
   "source": [
    "# i'm just checking to see if it worked\n",
    "df_clean.sample(1)"
   ]
  },
  {
   "cell_type": "code",
   "execution_count": 22,
   "metadata": {},
   "outputs": [],
   "source": [
    "# i'm going to convert start_dayofweek to an ordered categorical datatype\n",
    "day = ['Sunday', 'Monday', 'Tuesday', 'Wednesday', 'Thursday', 'Friday', 'Saturday']\n",
    "categorical_day = pd.api.types.CategoricalDtype(ordered = True, categories = day)\n",
    "df_clean.start_dayofweek = df_clean.start_dayofweek.astype(categorical_day)"
   ]
  },
  {
   "cell_type": "code",
   "execution_count": 23,
   "metadata": {},
   "outputs": [
    {
     "data": {
      "text/plain": [
       "duration_sec                        int64\n",
       "start_time                 datetime64[ns]\n",
       "end_time                   datetime64[ns]\n",
       "start_station_id                  float64\n",
       "start_station_name                 object\n",
       "start_station_latitude            float64\n",
       "start_station_longitude           float64\n",
       "end_station_id                    float64\n",
       "end_station_name                   object\n",
       "end_station_latitude              float64\n",
       "end_station_longitude             float64\n",
       "bike_id                             int64\n",
       "user_type                        category\n",
       "bike_share_for_all_trip            object\n",
       "duration_min                      float64\n",
       "start_hourofday                     int64\n",
       "start_dayofweek                  category\n",
       "dtype: object"
      ]
     },
     "execution_count": 23,
     "metadata": {},
     "output_type": "execute_result"
    }
   ],
   "source": [
    "# checking if it worked\n",
    "df_clean.dtypes"
   ]
  },
  {
   "cell_type": "markdown",
   "metadata": {},
   "source": [
    "Now I want to look at the distribution of trip on days of a week."
   ]
  },
  {
   "cell_type": "code",
   "execution_count": 24,
   "metadata": {
    "scrolled": false
   },
   "outputs": [
    {
     "data": {
      "image/png": "[encoded data removed]",
      "text/plain": [
       "<Figure size 576x432 with 1 Axes>"
      ]
     },
     "metadata": {
      "needs_background": "light"
     },
     "output_type": "display_data"
    }
   ],
   "source": [
    "# set the size of the plot\n",
    "plt.figure(figsize = (8, 6))\n",
    "\n",
    "# set colors in the plot\n",
    "base_color = sns.color_palette()[0]\n",
    "\n",
    "# this is the plot\n",
    "ax = sns.countplot(data = df_clean, x = 'start_dayofweek', color = base_color)\n",
    "\n",
    "# set axis labels and title\n",
    "ax.set(xlabel = 'Day of the Week', ylabel = 'Count', title = 'Trip Count vs Day of the Week')\n",
    "\n",
    "# show the plot\n",
    "plt.show()"
   ]
  },
  {
   "cell_type": "markdown",
   "metadata": {},
   "source": [
    "We can see that Thursday has the most trips.  We can also see that more trips happen during the weekdays.  There are less trips happening during the weekend.  Maybe the hour trips happen is causing this?  Let's look at the distribution of trips over the hours in a day."
   ]
  },
  {
   "cell_type": "code",
   "execution_count": 25,
   "metadata": {
    "scrolled": false
   },
   "outputs": [
    {
     "data": {
      "image/png": "[encoded data removed]",
      "text/plain": [
       "<Figure size 576x432 with 1 Axes>"
      ]
     },
     "metadata": {
      "needs_background": "light"
     },
     "output_type": "display_data"
    }
   ],
   "source": [
    "# set the figure size\n",
    "plt.figure(figsize = (8, 6))\n",
    "\n",
    "# this is the plot\n",
    "ax = sns.countplot(data = df_clean, x = 'start_hourofday', color = base_color)\n",
    "\n",
    "# set axis labels and title\n",
    "ax.set(xlabel = 'Hour of the Day', ylabel = 'Count', title = 'Trip Count vs Hour of the Day')\n",
    "\n",
    "# show the plot\n",
    "plt.show()"
   ]
  },
  {
   "cell_type": "markdown",
   "metadata": {},
   "source": [
    "We can see two peaks in the data.  The first peak is at 8 AM, and the second peak is at 5 PM.  It is possible that those trips are users commuting to work.  We can't say that for certain as we would need more personalized data, and we don't have that type of data since our dataset was anonymized to preserve privacy.  Though if it is really because of work commute, it would be in line with the *Trip Count vs Day of the Week* plot earlier.  Monday through Friday had more trips and those are the normal work days."
   ]
  },
  {
   "cell_type": "code",
   "execution_count": 26,
   "metadata": {
    "scrolled": false
   },
   "outputs": [
    {
     "name": "stdout",
     "output_type": "stream",
     "text": [
      "Subscriber    168561\n",
      "Customer       23273\n",
      "Name: user_type, dtype: int64\n"
     ]
    },
    {
     "data": {
      "image/png": "[encoded data removed]",
      "text/plain": [
       "<Figure size 504x360 with 1 Axes>"
      ]
     },
     "metadata": {
      "needs_background": "light"
     },
     "output_type": "display_data"
    }
   ],
   "source": [
    "# i'm just seeing the values for the two bars\n",
    "print(df_clean['user_type'].value_counts())\n",
    "\n",
    "# set the figure size\n",
    "plt.figure(figsize = (7,5))\n",
    "\n",
    "# this is the plot\n",
    "ax = sns.countplot(data = df_clean, x = 'user_type', color = base_color)\n",
    "\n",
    "# set labels and title\n",
    "ax.set(xlabel = 'User Type', ylabel = 'Count', title = 'Trip Count vs User Type')\n",
    "\n",
    "# show the plot\n",
    "plt.show()"
   ]
  },
  {
   "cell_type": "markdown",
   "metadata": {},
   "source": [
    "We can see that there are more subscribers than there are customers."
   ]
  },
  {
   "cell_type": "code",
   "execution_count": 37,
   "metadata": {
    "scrolled": false
   },
   "outputs": [
    {
     "name": "stdout",
     "output_type": "stream",
     "text": [
      "No     175769\n",
      "Yes     16065\n",
      "Name: bike_share_for_all_trip, dtype: int64\n"
     ]
    },
    {
     "data": {
      "image/png": "[encoded data removed]",
      "text/plain": [
       "<Figure size 504x360 with 1 Axes>"
      ]
     },
     "metadata": {
      "needs_background": "light"
     },
     "output_type": "display_data"
    }
   ],
   "source": [
    "# looking at the value for the two bars\n",
    "print(df_clean['bike_share_for_all_trip'].value_counts())\n",
    "\n",
    "# set the figure size\n",
    "plt.figure(figsize = (7,5))\n",
    "\n",
    "# plot data\n",
    "ax = sns.countplot(data = df_clean, x = 'bike_share_for_all_trip', color = base_color)\n",
    "\n",
    "# set labels and title\n",
    "ax.set(xlabel = 'Bike Share for all Trip', ylabel = 'Count', title = 'Trip Count vs Bike Share for all Trip')\n",
    "\n",
    "plt.show()"
   ]
  },
  {
   "cell_type": "markdown",
   "metadata": {},
   "source": [
    "Most users do not use the bike share service for their entire trip."
   ]
  },
  {
   "cell_type": "markdown",
   "metadata": {},
   "source": [
    "### Discuss the distribution(s) of your variable(s) of interest.  Were there any unusual points?  Did you need to perform any tranformations?\n",
    "\n",
    "99% of user trips were under 67 minutes.  Most of the trips were quick and lasted between 5 to 10 minutes.  The maximum trip duration lasted for 1400 minutes which is about 23.3 hours (~23 hours 20 minutes).  That's almost an entire day!  The trip count is higher Mondays through Fridays.  Thursdays have the most trip count.  During the day, the trip count peaks at 8 AM and also peaks at 5 PM.\n",
    "\n",
    "Looking at user types, there are more subscribers than there are customers, and most users do not use the bike share service for their entire trip."
   ]
  },
  {
   "cell_type": "markdown",
   "metadata": {},
   "source": [
    "### Of the features you investigated, were there any unusual distributions?  Did you perform any operations on the data to tidy, adjust, or change the form of the data?  If so, why did you do this?\n",
    "\n",
    "The initial plotting of trip duration distribution was unusual.  After looking at .describe() with a 99th percentile, I was able to see where most of the data was.  Using the 99th percentile as the ceiling, I plotted another distribution which was a lot clearer than the first."
   ]
  },
  {
   "cell_type": "markdown",
   "metadata": {},
   "source": [
    "<a id='bi'></a>\n",
    "## Bivariate Exploration"
   ]
  },
  {
   "cell_type": "markdown",
   "metadata": {},
   "source": [
    "How does the trip count vary by day and hour?"
   ]
  },
  {
   "cell_type": "code",
   "execution_count": 27,
   "metadata": {
    "scrolled": false
   },
   "outputs": [
    {
     "data": {
      "image/png": "[encoded data removed]",
      "text/plain": [
       "<Figure size 1440x1080 with 9 Axes>"
      ]
     },
     "metadata": {
      "needs_background": "light"
     },
     "output_type": "display_data"
    }
   ],
   "source": [
    "plt.rcParams[\"figure.figsize\"] = [20,15]\n",
    "bins24 = np.arange(25) - 0.5\n",
    "df_clean.hist(column = 'start_hourofday', by = 'start_dayofweek', bins = bins24);"
   ]
  },
  {
   "cell_type": "markdown",
   "metadata": {},
   "source": [
    "Trip Count by Day of the Week and Hour of the Day\n",
    "\n",
    "After looking at *Trip Count vs Day of the Week* and *Trip Count vs Hour of the Day* plots, it made me think about plotting the number of trips on each day and hour.  The result is this plot.  Please first notice that the y-axis for each histogram is not the same scale.  I tried to find a way to set the same scale, but I failed to find a solution.  This plot shows histograms for each day.  Each day's trip count is distributed over the hour of the day.  For each day, we can see which time periods have higher trip counts.\n",
    "\n",
    "On Sundays and Saturdays, we can see that the trip count is highest between 2-3 PM.  Mondays through Fridays, you can see two peaks.  The first peak is at 8 AM and the second peak is at 5 PM.  The two peak times match the two peak times in *Trip Count vs Hour of the Day*.  If it is not obvious, Mondays - Fridays have higher trip counts than Saturdays and Sundays.  The earlier *Trip Count vs Day of the Week* plot would support that."
   ]
  },
  {
   "cell_type": "markdown",
   "metadata": {},
   "source": [
    "How does the trip count vary by user type and hour of the day?"
   ]
  },
  {
   "cell_type": "code",
   "execution_count": 28,
   "metadata": {
    "scrolled": false
   },
   "outputs": [
    {
     "data": {
      "image/png": "[encoded data removed]",
      "text/plain": [
       "<Figure size 1080x360 with 2 Axes>"
      ]
     },
     "metadata": {
      "needs_background": "light"
     },
     "output_type": "display_data"
    }
   ],
   "source": [
    "plt.rcParams[\"figure.figsize\"] = [15,5]\n",
    "df_clean.hist(column = 'start_hourofday', by = 'user_type', bins = bins24);"
   ]
  },
  {
   "cell_type": "markdown",
   "metadata": {},
   "source": [
    "Trip Count by User Type and Hour of the Day\n",
    "\n"
   ]
  },
  {
   "cell_type": "code",
   "execution_count": 54,
   "metadata": {
    "scrolled": false
   },
   "outputs": [
    {
     "data": {
      "image/png": "[encoded data removed]",
      "text/plain": [
       "<Figure size 629.125x360 with 1 Axes>"
      ]
     },
     "metadata": {
      "needs_background": "light"
     },
     "output_type": "display_data"
    }
   ],
   "source": [
    "sns.catplot(data = df_clean, x = 'start_hourofday', kind = 'count', hue = 'user_type', height = 5, aspect = 1.5)\n",
    "plt.title('Trip Count by Hour of the Day and User Type')\n",
    "plt.xlabel('Hour of the Day')\n",
    "plt.ylabel('Count');"
   ]
  },
  {
   "cell_type": "markdown",
   "metadata": {},
   "source": [
    "So both of these plots show the same information, they are just presented differently.  Customers' trip count first peaks at 8 AM and peaks again at 5 PM.  Subscribers' trip count first peaks at 8 AM and peaks again at 5 PM.  The difference between the two user types is the scale of the plots.  That is illustrated in the second plot, which is the combined version.  The second plot takes into account the scale.  The Customer and Subscriber hours may peak at the same time, but you can see that there is a huge difference in the distribution of trip counts."
   ]
  },
  {
   "cell_type": "markdown",
   "metadata": {},
   "source": [
    "How does the trip count vary by day of the week and user type?"
   ]
  },
  {
   "cell_type": "code",
   "execution_count": 55,
   "metadata": {},
   "outputs": [
    {
     "data": {
      "image/png": "[encoded data removed]",
      "text/plain": [
       "<Figure size 1080x360 with 2 Axes>"
      ]
     },
     "metadata": {
      "needs_background": "light"
     },
     "output_type": "display_data"
    }
   ],
   "source": [
    "plt.rcParams[\"figure.figsize\"] = [15,5]\n",
    "df_clean.hist(column = 'start_dayofweek', by = 'user_type', bins = np.arange(8)-0.5);"
   ]
  },
  {
   "cell_type": "code",
   "execution_count": 30,
   "metadata": {
    "scrolled": false
   },
   "outputs": [
    {
     "data": {
      "image/png": "[encoded data removed]",
      "text/plain": [
       "<Figure size 629.125x360 with 1 Axes>"
      ]
     },
     "metadata": {
      "needs_background": "light"
     },
     "output_type": "display_data"
    }
   ],
   "source": [
    "sns.catplot(data = df_clean, x = 'start_dayofweek', kind = 'count', hue = 'user_type', height = 5, aspect = 1.5)\n",
    "plt.title('Trip Count by Day of Week and User Type')\n",
    "plt.xlabel('Day of Week')\n",
    "plt.ylabel('Count');"
   ]
  },
  {
   "cell_type": "markdown",
   "metadata": {},
   "source": [
    "Similar to the earlier question, these 2 plots convey the same information just displayed differently.  The two plots show us the trip count broken down by day of the week and user type.  For subscribers their highest trip counts are on Thursdays, while the customers highest trip counts are on Saturdays."
   ]
  },
  {
   "cell_type": "markdown",
   "metadata": {},
   "source": [
    "How does the trip duration distribution vary between customers and subscribers?"
   ]
  },
  {
   "cell_type": "code",
   "execution_count": 72,
   "metadata": {
    "scrolled": false
   },
   "outputs": [
    {
     "data": {
      "image/png": "[encoded data removed]",
      "text/plain": [
       "<Figure size 576x432 with 1 Axes>"
      ]
     },
     "metadata": {
      "needs_background": "light"
     },
     "output_type": "display_data"
    }
   ],
   "source": [
    "# remember that most of the data has duration_min less that 67 minutes\n",
    "data = df_clean[df_clean['duration_min'] < 70]\n",
    "plt.rcParams[\"figure.figsize\"] = [8,6]\n",
    "\n",
    "sns.violinplot(data = data, x = 'user_type', y = 'duration_min', color = base_color, inner = 'quartile')\n",
    "plt.xlabel('User Type')\n",
    "plt.ylabel('Trip Duration (minutes)');"
   ]
  },
  {
   "cell_type": "markdown",
   "metadata": {},
   "source": [
    "Subscribers generally take shorter rides than customers.  For subscribers, the widest part of the graph is around 5 minutes, while for customers, the widest part of the graph is around 9 minutes."
   ]
  },
  {
   "cell_type": "markdown",
   "metadata": {},
   "source": [
    "How does the trip duration vary between the days of the week?"
   ]
  },
  {
   "cell_type": "code",
   "execution_count": 74,
   "metadata": {
    "scrolled": false
   },
   "outputs": [
    {
     "data": {
      "image/png": "[encoded data removed]",
      "text/plain": [
       "<Figure size 576x432 with 1 Axes>"
      ]
     },
     "metadata": {
      "needs_background": "light"
     },
     "output_type": "display_data"
    }
   ],
   "source": [
    "sns.barplot(data = df_clean, x = 'start_dayofweek', y = 'duration_min', color = base_color)\n",
    "plt.xlabel('Day of the Week')\n",
    "plt.ylabel('Average Trip Duration (minutes)');"
   ]
  },
  {
   "cell_type": "markdown",
   "metadata": {},
   "source": [
    "The trip durations are shorter Monday through Friday.  On the weekends, trips are longer.  Weekdays the trips last between 10-12.5 minutes, while on the weekends the trips last betwen 15-17.5 minutes."
   ]
  },
  {
   "cell_type": "markdown",
   "metadata": {},
   "source": [
    "### Talk about some of the relationships you observed in this part of the investigation.  How did the feature(s) of interest vary with other features in the dataset?\n",
    "\n",
    "There are more users taking trips during weekdays than they are on weekends.  On weekends the trip count peaks between 2-3 PM.  On weekdays, the trip count peaks at 8 AM and 5 PM.  Breaking this information down to vary between user types, I found that both customers and subscribers trip counts peak at 8 AM and 5 PM.  The difference is that there are more subscribers than there are customers.\n",
    "\n",
    "Lookin at the relationship between daily trip count and user type, it was shown that subscribers have high trip counts on Thursdays while customers have high trip counts on Saturdays.  Looking at the relationship between user type and trip duration, subscribers generally have shorter rides than customers.  Looking at the relationship between trip duration and day of the week, trip durations are shorter on weekdays than weekends.  On weekdays the trips last between 10-12.5 minutes, while one weekends the trips last betwee 15-17.5 minutes."
   ]
  },
  {
   "cell_type": "markdown",
   "metadata": {},
   "source": [
    "### Did you observe any interesting relationships between the other features (not the main feature(s) of interest)?\n",
    "\n",
    "It is interesting to see that the subscribers' trip count is the highest on Thursday."
   ]
  },
  {
   "cell_type": "markdown",
   "metadata": {},
   "source": [
    "<a id='multi'></a>\n",
    "## Multivariate Exploration"
   ]
  },
  {
   "cell_type": "markdown",
   "metadata": {},
   "source": [
    "How does the trip duration vary in days between customers and subscribers?"
   ]
  },
  {
   "cell_type": "code",
   "execution_count": 121,
   "metadata": {
    "scrolled": false
   },
   "outputs": [
    {
     "data": {
      "image/png": "[encoded data removed]",
      "text/plain": [
       "<Figure size 576x432 with 1 Axes>"
      ]
     },
     "metadata": {
      "needs_background": "light"
     },
     "output_type": "display_data"
    }
   ],
   "source": [
    "sns.pointplot(data = df_clean, x = 'start_dayofweek', y = 'duration_min', hue = 'user_type', linestyles = '')\n",
    "plt.xlabel('Day of the Week')\n",
    "plt.ylabel('Average Trip Duration (minutes)')\n",
    "plt.title('Average Trip Duration by Day of the Week and User Type');"
   ]
  },
  {
   "cell_type": "markdown",
   "metadata": {},
   "source": [
    "Subscribers have much shorter trips than customers on each day.  Both user types have an increased trip duration on the weekends compared to the weekdays.  Subscribers have a consistent average trip duration during the weekdays."
   ]
  },
  {
   "cell_type": "markdown",
   "metadata": {},
   "source": [
    "How does the trip count vary by hour and day for the user types?"
   ]
  },
  {
   "cell_type": "code",
   "execution_count": 119,
   "metadata": {
    "scrolled": true
   },
   "outputs": [
    {
     "data": {
      "image/png": "[encoded data removed]",
      "text/plain": [
       "<Figure size 1080x360 with 4 Axes>"
      ]
     },
     "metadata": {
      "needs_background": "light"
     },
     "output_type": "display_data"
    }
   ],
   "source": [
    "plt.figure(figsize = (15,5))\n",
    "plt.subplot(1,2,1)\n",
    "# separating customers and subscibers to different dataframes\n",
    "cus = df_clean.query('user_type == \"Customer\"')\n",
    "cus_counts = cus.groupby(['start_dayofweek', 'start_hourofday']).size()\n",
    "cus_counts = cus_counts.reset_index(name = 'count')\n",
    "cus_counts = cus_counts.pivot(index = 'start_dayofweek', columns = 'start_hourofday', values = 'count')\n",
    "sns.heatmap(cus_counts, cmap = 'rocket_r')\n",
    "plt.title('Customer')\n",
    "plt.xlabel('Hour of the Day')\n",
    "plt.ylabel('Day of the Week');\n",
    "\n",
    "plt.subplot(1,2,2)\n",
    "sub = df_clean.query('user_type == \"Subscriber\"')\n",
    "sub_counts = sub.groupby(['start_dayofweek', 'start_hourofday']).size()\n",
    "sub_counts = sub_counts.reset_index(name = 'count')\n",
    "sub_counts = sub_counts.pivot(index = 'start_dayofweek', columns = 'start_hourofday', values = 'count')\n",
    "sns.heatmap(sub_counts, cmap = 'rocket_r')\n",
    "plt.title('Subscriber')\n",
    "plt.xlabel('Hour of the Day')\n",
    "plt.ylabel('Day of the Week');"
   ]
  },
  {
   "cell_type": "markdown",
   "metadata": {},
   "source": [
    "The heatmaps show that customers use the bikeshare service heavily on the weekends.  Customers use the service the most on Saturdays at 2 PM.  They also use the service a lot on Thursday at 5 PM.  Subscribers use the service mostly during the weekdays at 8 AM and 5 PM."
   ]
  },
  {
   "cell_type": "markdown",
   "metadata": {},
   "source": [
    "### Talk about some of the relationships you observed in this part of the investigation.  Were there features that strengthened each other in terms of looking at your feature(s) of interest?\n",
    "\n",
    "In this part of the investigation, we found that subscribers have shorter trips than customers on a daily basis.  Both users have an increased trip duration on the weekends.  We also found that customers use the bikeshare service the most on Saturdays at 2 PM.  Subscribers use the service the most during weekdays around 8 AM and 5 PM.\n",
    "\n",
    "The multivariate exploration strengthened some of the patterns found earlier in the univariate and bivariate explorations.  There are more subscribers than customers.  Subscribers use the bikes mostly during the weekdays and generally have shorter trips.  Customers use the bikes mostly during the weekends and have longer trips than subscribers."
   ]
  },
  {
   "cell_type": "markdown",
   "metadata": {},
   "source": [
    "### Were there any interesting or surprising interactions between features?\n",
    "\n",
    "There were no surprising interactions between features."
   ]
  },
  {
   "cell_type": "code",
   "execution_count": null,
   "metadata": {},
   "outputs": [],
   "source": []
  }
 ],
 "metadata": {
  "kernelspec": {
   "display_name": "Python 3",
   "language": "python",
   "name": "python3"
  },
  "language_info": {
   "codemirror_mode": {
    "name": "ipython",
    "version": 3
   },
   "file_extension": ".py",
   "mimetype": "text/x-python",
   "name": "python",
   "nbconvert_exporter": "python",
   "pygments_lexer": "ipython3",
   "version": "3.6.9"
  }
 },
 "nbformat": 4,
 "nbformat_minor": 2
}
