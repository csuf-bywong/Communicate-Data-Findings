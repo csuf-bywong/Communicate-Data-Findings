{
 "cells": [
  {
   "cell_type": "markdown",
   "metadata": {},
   "source": [
    "# 2019 Bay Wheels' Trip Data Exploration and Visualization\n",
    "\n",
    "### Preliminary Wrangling\n",
    "\n",
    "This document explores a dataset containing [information](https://www.lyft.com/bikes/bay-wheels/system-data) about individual rides made in [Bay Wheels](https://en.wikipedia.org/wiki/Bay_Wheels)' bike-sharing system covering the greater San Francisco Bay area.  The dataset is a collection of csv files from January 2019 to December 2019 and can be manually downloaded [here](https://s3.amazonaws.com/baywheels-data/index.html)."
   ]
  },
  {
   "cell_type": "code",
   "execution_count": 13,
   "metadata": {},
   "outputs": [],
   "source": [
    "# import all packages and set plots to be embedded inline\n",
    "import glob\n",
    "import matplotlib.pyplot as plt\n",
    "import numpy as np\n",
    "import pandas as pd\n",
    "import seaborn as sns\n",
    "\n",
    "%matplotlib inline"
   ]
  },
  {
   "cell_type": "code",
   "execution_count": 9,
   "metadata": {},
   "outputs": [],
   "source": [
    "# file path of folder containing all the csv files\n",
    "path = './data'\n",
    "# this will get all the filenames\n",
    "all_data = glob.glob(path + \"/*.csv\")\n",
    "\n",
    "# list that will contain all data in csv's\n",
    "li = []\n",
    "\n",
    "# iterate through all the files\n",
    "for filename in all_data:\n",
    "    # read each file into the temporary df\n",
    "    temp = pd.read_csv(filename, index_col = None, header = 0)\n",
    "    # append them to list\n",
    "    li.append(temp)\n",
    "    \n",
    "# concatenate all of the csv's into a single df    \n",
    "df = pd.concat(li, ignore_index=True)"
   ]
  },
  {
   "cell_type": "code",
   "execution_count": 11,
   "metadata": {
    "scrolled": true
   },
   "outputs": [
    {
     "name": "stdout",
     "output_type": "stream",
     "text": [
      "(375494, 14)\n",
      "duration_sec                 int64\n",
      "start_time                  object\n",
      "end_time                    object\n",
      "start_station_id           float64\n",
      "start_station_name          object\n",
      "start_station_latitude     float64\n",
      "start_station_longitude    float64\n",
      "end_station_id             float64\n",
      "end_station_name            object\n",
      "end_station_latitude       float64\n",
      "end_station_longitude      float64\n",
      "bike_id                      int64\n",
      "user_type                   object\n",
      "bike_share_for_all_trip     object\n",
      "dtype: object\n"
     ]
    }
   ],
   "source": [
    "# high level overview of data shape and composition\n",
    "print(df.shape)\n",
    "print(df.dtypes)"
   ]
  },
  {
   "cell_type": "code",
   "execution_count": 12,
   "metadata": {},
   "outputs": [
    {
     "data": {
      "text/html": [
       "<div>\n",
       "<style scoped>\n",
       "    .dataframe tbody tr th:only-of-type {\n",
       "        vertical-align: middle;\n",
       "    }\n",
       "\n",
       "    .dataframe tbody tr th {\n",
       "        vertical-align: top;\n",
       "    }\n",
       "\n",
       "    .dataframe thead th {\n",
       "        text-align: right;\n",
       "    }\n",
       "</style>\n",
       "<table border=\"1\" class=\"dataframe\">\n",
       "  <thead>\n",
       "    <tr style=\"text-align: right;\">\n",
       "      <th></th>\n",
       "      <th>duration_sec</th>\n",
       "      <th>start_time</th>\n",
       "      <th>end_time</th>\n",
       "      <th>start_station_id</th>\n",
       "      <th>start_station_name</th>\n",
       "      <th>start_station_latitude</th>\n",
       "      <th>start_station_longitude</th>\n",
       "      <th>end_station_id</th>\n",
       "      <th>end_station_name</th>\n",
       "      <th>end_station_latitude</th>\n",
       "      <th>end_station_longitude</th>\n",
       "      <th>bike_id</th>\n",
       "      <th>user_type</th>\n",
       "      <th>bike_share_for_all_trip</th>\n",
       "    </tr>\n",
       "  </thead>\n",
       "  <tbody>\n",
       "    <tr>\n",
       "      <td>93370</td>\n",
       "      <td>1100</td>\n",
       "      <td>2019-02-15 17:33:06.4440</td>\n",
       "      <td>2019-02-15 17:51:26.9280</td>\n",
       "      <td>8.0</td>\n",
       "      <td>The Embarcadero at Vallejo St</td>\n",
       "      <td>37.799953</td>\n",
       "      <td>-122.398525</td>\n",
       "      <td>81.0</td>\n",
       "      <td>Berry St at 4th St</td>\n",
       "      <td>37.775880</td>\n",
       "      <td>-122.393170</td>\n",
       "      <td>3227</td>\n",
       "      <td>Subscriber</td>\n",
       "      <td>No</td>\n",
       "    </tr>\n",
       "    <tr>\n",
       "      <td>187120</td>\n",
       "      <td>310</td>\n",
       "      <td>2019-01-31 17:01:37.5500</td>\n",
       "      <td>2019-01-31 17:06:47.6510</td>\n",
       "      <td>50.0</td>\n",
       "      <td>2nd St at Townsend St</td>\n",
       "      <td>37.780526</td>\n",
       "      <td>-122.390288</td>\n",
       "      <td>23.0</td>\n",
       "      <td>The Embarcadero at Steuart St</td>\n",
       "      <td>37.791464</td>\n",
       "      <td>-122.391034</td>\n",
       "      <td>5354</td>\n",
       "      <td>Subscriber</td>\n",
       "      <td>No</td>\n",
       "    </tr>\n",
       "    <tr>\n",
       "      <td>85134</td>\n",
       "      <td>1377</td>\n",
       "      <td>2019-02-17 15:43:08.4870</td>\n",
       "      <td>2019-02-17 16:06:05.8870</td>\n",
       "      <td>71.0</td>\n",
       "      <td>Broderick St at Oak St</td>\n",
       "      <td>37.773063</td>\n",
       "      <td>-122.439078</td>\n",
       "      <td>115.0</td>\n",
       "      <td>Jackson Playground</td>\n",
       "      <td>37.765026</td>\n",
       "      <td>-122.398773</td>\n",
       "      <td>6453</td>\n",
       "      <td>Subscriber</td>\n",
       "      <td>Yes</td>\n",
       "    </tr>\n",
       "    <tr>\n",
       "      <td>178</td>\n",
       "      <td>451</td>\n",
       "      <td>2019-02-28 22:33:19.1090</td>\n",
       "      <td>2019-02-28 22:40:51.0530</td>\n",
       "      <td>197.0</td>\n",
       "      <td>El Embarcadero at Grand Ave</td>\n",
       "      <td>37.808848</td>\n",
       "      <td>-122.249680</td>\n",
       "      <td>182.0</td>\n",
       "      <td>19th Street BART Station</td>\n",
       "      <td>37.809013</td>\n",
       "      <td>-122.268247</td>\n",
       "      <td>3512</td>\n",
       "      <td>Subscriber</td>\n",
       "      <td>Yes</td>\n",
       "    </tr>\n",
       "    <tr>\n",
       "      <td>232731</td>\n",
       "      <td>688</td>\n",
       "      <td>2019-01-25 19:02:25.6290</td>\n",
       "      <td>2019-01-25 19:13:54.5300</td>\n",
       "      <td>23.0</td>\n",
       "      <td>The Embarcadero at Steuart St</td>\n",
       "      <td>37.791464</td>\n",
       "      <td>-122.391034</td>\n",
       "      <td>371.0</td>\n",
       "      <td>Lombard St at Columbus Ave</td>\n",
       "      <td>37.802746</td>\n",
       "      <td>-122.413579</td>\n",
       "      <td>4557</td>\n",
       "      <td>Subscriber</td>\n",
       "      <td>No</td>\n",
       "    </tr>\n",
       "    <tr>\n",
       "      <td>165077</td>\n",
       "      <td>906</td>\n",
       "      <td>2019-02-05 07:39:12.5880</td>\n",
       "      <td>2019-02-05 07:54:19.4470</td>\n",
       "      <td>16.0</td>\n",
       "      <td>Steuart St at Market St</td>\n",
       "      <td>37.794130</td>\n",
       "      <td>-122.394430</td>\n",
       "      <td>93.0</td>\n",
       "      <td>4th St at Mission Bay Blvd S</td>\n",
       "      <td>37.770407</td>\n",
       "      <td>-122.391198</td>\n",
       "      <td>3371</td>\n",
       "      <td>Subscriber</td>\n",
       "      <td>No</td>\n",
       "    </tr>\n",
       "    <tr>\n",
       "      <td>188727</td>\n",
       "      <td>292</td>\n",
       "      <td>2019-01-31 13:25:01.7160</td>\n",
       "      <td>2019-01-31 13:29:54.6970</td>\n",
       "      <td>341.0</td>\n",
       "      <td>Fountain Alley at S 2nd St</td>\n",
       "      <td>37.336188</td>\n",
       "      <td>-121.889277</td>\n",
       "      <td>281.0</td>\n",
       "      <td>9th St at San Fernando St</td>\n",
       "      <td>37.338395</td>\n",
       "      <td>-121.880797</td>\n",
       "      <td>520</td>\n",
       "      <td>Subscriber</td>\n",
       "      <td>Yes</td>\n",
       "    </tr>\n",
       "    <tr>\n",
       "      <td>301759</td>\n",
       "      <td>437</td>\n",
       "      <td>2019-01-14 22:59:25.5730</td>\n",
       "      <td>2019-01-14 23:06:43.0200</td>\n",
       "      <td>239.0</td>\n",
       "      <td>Bancroft Way at Telegraph Ave</td>\n",
       "      <td>37.868813</td>\n",
       "      <td>-122.258764</td>\n",
       "      <td>269.0</td>\n",
       "      <td>Telegraph Ave at Carleton St</td>\n",
       "      <td>37.862320</td>\n",
       "      <td>-122.258801</td>\n",
       "      <td>1818</td>\n",
       "      <td>Subscriber</td>\n",
       "      <td>No</td>\n",
       "    </tr>\n",
       "    <tr>\n",
       "      <td>217322</td>\n",
       "      <td>133</td>\n",
       "      <td>2019-01-28 11:55:00.8300</td>\n",
       "      <td>2019-01-28 11:57:14.7850</td>\n",
       "      <td>106.0</td>\n",
       "      <td>Sanchez St at 17th St</td>\n",
       "      <td>37.763242</td>\n",
       "      <td>-122.430675</td>\n",
       "      <td>120.0</td>\n",
       "      <td>Mission Dolores Park</td>\n",
       "      <td>37.761420</td>\n",
       "      <td>-122.426435</td>\n",
       "      <td>2607</td>\n",
       "      <td>Subscriber</td>\n",
       "      <td>Yes</td>\n",
       "    </tr>\n",
       "    <tr>\n",
       "      <td>300097</td>\n",
       "      <td>341</td>\n",
       "      <td>2019-01-15 13:18:22.2070</td>\n",
       "      <td>2019-01-15 13:24:03.9770</td>\n",
       "      <td>274.0</td>\n",
       "      <td>Oregon St at Adeline St</td>\n",
       "      <td>37.857567</td>\n",
       "      <td>-122.267558</td>\n",
       "      <td>246.0</td>\n",
       "      <td>Berkeley Civic Center</td>\n",
       "      <td>37.869060</td>\n",
       "      <td>-122.270556</td>\n",
       "      <td>4784</td>\n",
       "      <td>Subscriber</td>\n",
       "      <td>No</td>\n",
       "    </tr>\n",
       "  </tbody>\n",
       "</table>\n",
       "</div>"
      ],
      "text/plain": [
       "        duration_sec                start_time                  end_time  \\\n",
       "93370           1100  2019-02-15 17:33:06.4440  2019-02-15 17:51:26.9280   \n",
       "187120           310  2019-01-31 17:01:37.5500  2019-01-31 17:06:47.6510   \n",
       "85134           1377  2019-02-17 15:43:08.4870  2019-02-17 16:06:05.8870   \n",
       "178              451  2019-02-28 22:33:19.1090  2019-02-28 22:40:51.0530   \n",
       "232731           688  2019-01-25 19:02:25.6290  2019-01-25 19:13:54.5300   \n",
       "165077           906  2019-02-05 07:39:12.5880  2019-02-05 07:54:19.4470   \n",
       "188727           292  2019-01-31 13:25:01.7160  2019-01-31 13:29:54.6970   \n",
       "301759           437  2019-01-14 22:59:25.5730  2019-01-14 23:06:43.0200   \n",
       "217322           133  2019-01-28 11:55:00.8300  2019-01-28 11:57:14.7850   \n",
       "300097           341  2019-01-15 13:18:22.2070  2019-01-15 13:24:03.9770   \n",
       "\n",
       "        start_station_id             start_station_name  \\\n",
       "93370                8.0  The Embarcadero at Vallejo St   \n",
       "187120              50.0          2nd St at Townsend St   \n",
       "85134               71.0         Broderick St at Oak St   \n",
       "178                197.0    El Embarcadero at Grand Ave   \n",
       "232731              23.0  The Embarcadero at Steuart St   \n",
       "165077              16.0        Steuart St at Market St   \n",
       "188727             341.0     Fountain Alley at S 2nd St   \n",
       "301759             239.0  Bancroft Way at Telegraph Ave   \n",
       "217322             106.0          Sanchez St at 17th St   \n",
       "300097             274.0        Oregon St at Adeline St   \n",
       "\n",
       "        start_station_latitude  start_station_longitude  end_station_id  \\\n",
       "93370                37.799953              -122.398525            81.0   \n",
       "187120               37.780526              -122.390288            23.0   \n",
       "85134                37.773063              -122.439078           115.0   \n",
       "178                  37.808848              -122.249680           182.0   \n",
       "232731               37.791464              -122.391034           371.0   \n",
       "165077               37.794130              -122.394430            93.0   \n",
       "188727               37.336188              -121.889277           281.0   \n",
       "301759               37.868813              -122.258764           269.0   \n",
       "217322               37.763242              -122.430675           120.0   \n",
       "300097               37.857567              -122.267558           246.0   \n",
       "\n",
       "                     end_station_name  end_station_latitude  \\\n",
       "93370              Berry St at 4th St             37.775880   \n",
       "187120  The Embarcadero at Steuart St             37.791464   \n",
       "85134              Jackson Playground             37.765026   \n",
       "178          19th Street BART Station             37.809013   \n",
       "232731     Lombard St at Columbus Ave             37.802746   \n",
       "165077   4th St at Mission Bay Blvd S             37.770407   \n",
       "188727      9th St at San Fernando St             37.338395   \n",
       "301759   Telegraph Ave at Carleton St             37.862320   \n",
       "217322           Mission Dolores Park             37.761420   \n",
       "300097          Berkeley Civic Center             37.869060   \n",
       "\n",
       "        end_station_longitude  bike_id   user_type bike_share_for_all_trip  \n",
       "93370             -122.393170     3227  Subscriber                      No  \n",
       "187120            -122.391034     5354  Subscriber                      No  \n",
       "85134             -122.398773     6453  Subscriber                     Yes  \n",
       "178               -122.268247     3512  Subscriber                     Yes  \n",
       "232731            -122.413579     4557  Subscriber                      No  \n",
       "165077            -122.391198     3371  Subscriber                      No  \n",
       "188727            -121.880797      520  Subscriber                     Yes  \n",
       "301759            -122.258801     1818  Subscriber                      No  \n",
       "217322            -122.426435     2607  Subscriber                     Yes  \n",
       "300097            -122.270556     4784  Subscriber                      No  "
      ]
     },
     "execution_count": 12,
     "metadata": {},
     "output_type": "execute_result"
    }
   ],
   "source": [
    "# i prefer looking at it through this instead of print(df.sample(10))\n",
    "df.sample(10)"
   ]
  },
  {
   "cell_type": "code",
   "execution_count": null,
   "metadata": {},
   "outputs": [],
   "source": [
    "# descriive statistics for numeric variables\n",
    "df.describe()"
   ]
  },
  {
   "cell_type": "markdown",
   "metadata": {},
   "source": [
    "**What is the structure of your dataset?**"
   ]
  },
  {
   "cell_type": "markdown",
   "metadata": {},
   "source": [
    "**What is/are the main feature(s) of interest in your dataset?**"
   ]
  },
  {
   "cell_type": "markdown",
   "metadata": {},
   "source": [
    "**What features in the dataset do you think will help support your investigation into your feature(s) of interest?**"
   ]
  },
  {
   "cell_type": "markdown",
   "metadata": {},
   "source": [
    "### Univariate Exploration"
   ]
  },
  {
   "cell_type": "markdown",
   "metadata": {},
   "source": [
    "**Discuss the distribution(s) of your variable(s) of interest.  Were there any unusual points?  Did you need to perform any tranformations?**"
   ]
  },
  {
   "cell_type": "markdown",
   "metadata": {},
   "source": [
    "**Of the features you investigated, were there any unusual distributions?  Did you perform any operations on the data to tidy, adjust, or change the form of the data?  If so, why did you do this?**"
   ]
  },
  {
   "cell_type": "markdown",
   "metadata": {},
   "source": [
    "### Bivariate Exploration"
   ]
  },
  {
   "cell_type": "markdown",
   "metadata": {},
   "source": [
    "**Talk about some of the relationships you observed in this part of the investigation.  How did the feature(s) of interest vary with other features in the dataset?**"
   ]
  },
  {
   "cell_type": "markdown",
   "metadata": {},
   "source": [
    "**Did you observe any interesting relationships between the other features (not the main feature(s) of interest)?**"
   ]
  },
  {
   "cell_type": "markdown",
   "metadata": {},
   "source": [
    "### Multivariate Exploration"
   ]
  },
  {
   "cell_type": "markdown",
   "metadata": {},
   "source": [
    "**Talk about some of the relationships you observed in this part of the investigation.  Were there features that strengthened each other in terms of looking at your feature(s) of interest?**"
   ]
  },
  {
   "cell_type": "markdown",
   "metadata": {},
   "source": [
    "**Were there any interesting or surprising interactions between features?**"
   ]
  }
 ],
 "metadata": {
  "kernelspec": {
   "display_name": "Python 3",
   "language": "python",
   "name": "python3"
  },
  "language_info": {
   "codemirror_mode": {
    "name": "ipython",
    "version": 3
   },
   "file_extension": ".py",
   "mimetype": "text/x-python",
   "name": "python",
   "nbconvert_exporter": "python",
   "pygments_lexer": "ipython3",
   "version": "3.6.9"
  }
 },
 "nbformat": 4,
 "nbformat_minor": 2
}
