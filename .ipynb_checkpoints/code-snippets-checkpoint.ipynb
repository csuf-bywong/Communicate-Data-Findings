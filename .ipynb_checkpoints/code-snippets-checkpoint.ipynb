{
 "cells": [
  {
   "cell_type": "code",
   "execution_count": null,
   "metadata": {},
   "outputs": [],
   "source": [
    "import glob"
   ]
  },
  {
   "cell_type": "code",
   "execution_count": null,
   "metadata": {},
   "outputs": [],
   "source": [
    "# file path of folder containing all the csv files\n",
    "path = './data'\n",
    "# this will get all the filenames\n",
    "all_data = glob.glob(path + \"/*.csv\")\n",
    "\n",
    "# list that will contain all data in csv's\n",
    "li = []\n",
    "\n",
    "# iterate through all the files\n",
    "for filename in all_data:\n",
    "    # read each file into the temporary df\n",
    "    temp = pd.read_csv(filename, index_col = None, header = 0)\n",
    "    # append them to list\n",
    "    li.append(temp)\n",
    "    \n",
    "# concatenate all of the csv's into a single df    \n",
    "df = pd.concat(li, ignore_index=True, sort = False)"
   ]
  },
  {
   "cell_type": "code",
   "execution_count": null,
   "metadata": {},
   "outputs": [],
   "source": [
    "# save the combined dataframe to a csv file\n",
    "# note this csv is not pushed to GitHub, the filesize is too large to be stored on GitHub\n",
    "# when i was pushing the commit, it gave me a warning that if i pushed the csv, i will no longer\n",
    "# be able to push any more commits\n",
    "df.to_csv('fordgobike_tripdata_2019.csv', index = False)"
   ]
  },
  {
   "cell_type": "code",
   "execution_count": null,
   "metadata": {},
   "outputs": [],
   "source": []
  }
 ],
 "metadata": {
  "kernelspec": {
   "display_name": "Python 3",
   "language": "python",
   "name": "python3"
  },
  "language_info": {
   "codemirror_mode": {
    "name": "ipython",
    "version": 3
   },
   "file_extension": ".py",
   "mimetype": "text/x-python",
   "name": "python",
   "nbconvert_exporter": "python",
   "pygments_lexer": "ipython3",
   "version": "3.6.9"
  }
 },
 "nbformat": 4,
 "nbformat_minor": 2
}
